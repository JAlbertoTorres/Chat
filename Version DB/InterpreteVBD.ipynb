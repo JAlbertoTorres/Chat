{
 "cells": [
  {
   "cell_type": "code",
   "execution_count": 1,
   "metadata": {},
   "outputs": [],
   "source": [
    "import json\n",
    "import pika\n",
    "import uuid\n",
    "import threading \n",
    "import datetime\n",
    "import time\n",
    "import logging\n",
    "import random\n",
    "from flask import Flask, request\n",
    "from pymessenger.bot import Bot\n",
    "from pymessenger import Element, Button"
   ]
  },
  {
   "cell_type": "code",
   "execution_count": 2,
   "metadata": {},
   "outputs": [],
   "source": [
    "def verify_fb_token(token_sent):\n",
    "    print('paso 7')\n",
    "    if token_sent == VERIFY_TOKEN:\n",
    "        print('paso 7s')\n",
    "        return request.args.get(\"hub.challenge\")\n",
    "    return 'Verificacion de token invalida'"
   ]
  },
  {
   "cell_type": "code",
   "execution_count": 3,
   "metadata": {},
   "outputs": [],
   "source": [
    "def enviarNucleo(recipient_id, mensaje, output):\n",
    "    global connection\n",
    "    global channel\n",
    "    global result\n",
    "    global callback_queue\n",
    "    global response\n",
    "    global corr_id\n",
    "        \n",
    "    cont=0\n",
    "    content=' '\n",
    "    print('paso 8')\n",
    "    if \"postback\" in mensaje[0]:\n",
    "        print('paso 8s1')\n",
    "        content=mensaje[0][\"postback\"][\"title\"]\n",
    "    elif \"message\" in mensaje[0]:\n",
    "        print('paso 8s1')\n",
    "        content=mensaje[0][\"message\"][\"text\"]\n",
    "\n",
    "    \n",
    "    entidad={}\n",
    "    estado = \"none\"\n",
    "    tipo=\"none\"\n",
    "    opciones=\"none\"            \n",
    "        \n",
    "    n=  {\"payload\": [{\"robot\":\" \",\"recipient_id\":\" \",\"content\":\" \",\"state\":\" \", \"blocktype\":\" \", \"opciones\":\" \", \"entitites\":\" \"}]}\n",
    "    data=json.dumps(n)\n",
    "    decoded=json.loads(data)\n",
    "    decoded[\"payload\"][0][\"robot\"]=\"AAA1\"\n",
    "    decoded[\"payload\"][0][\"recipient_id\"]=recipient_id\n",
    "    decoded[\"payload\"][0][\"content\"]=content\n",
    "    decoded[\"payload\"][0][\"state\"]=estado\n",
    "    decoded[\"payload\"][0][\"blocktype\"]=tipo\n",
    "    decoded[\"payload\"][0][\"opciones\"]=opciones\n",
    "    decoded[\"payload\"][0][\"entities\"]= entidad\n",
    "    data_string=json.dumps(decoded)\n",
    "    print(data_string)\n",
    "    print('paso 9')\n",
    "    corr_id = str(uuid.uuid4())\n",
    "    channel.basic_publish(exchange='',\n",
    "                                routing_key='chatbotV12',\n",
    "                                properties=pika.BasicProperties(\n",
    "                                        reply_to = callback_queue,\n",
    "                                        correlation_id = corr_id,\n",
    "                                        ),\n",
    "                                body=str(data_string))\n",
    "    print('paso 10')\n",
    "            #while response is None:\n",
    "             #                       connection.process_data_events()\n",
    "            #data = json.loads(response)\n",
    "            #entidad, resp, estado, tipo, opciones= conv(data,recipient_id)\n",
    "            #entidad, resp, estado, tipo, opciones= conv(data)\n",
    "            #print(\"LLego esto: \", data)\n",
    "    #if(data[\"Respuesta\"][0][\"payload\"][0][\"state\"]==\"Salida\"):                \n",
    "     #   cont=-1\n",
    "    #else:\n",
    "     #   cont+=1"
   ]
  },
  {
   "cell_type": "code",
   "execution_count": 4,
   "metadata": {},
   "outputs": [],
   "source": [
    "def send_message(recipient_id, response):\n",
    "    global bot\n",
    "    print('paso 19')\n",
    "    #sends user the text message provided via input response parameter\n",
    "    bot.send_text_message(recipient_id, response)\n",
    "    return \"success\""
   ]
  },
  {
   "cell_type": "code",
   "execution_count": 5,
   "metadata": {},
   "outputs": [],
   "source": [
    "def test_button_message(recipient_id,content,options):\n",
    "    global bot\n",
    "    buttons = []\n",
    "    print('paso 18')\n",
    "    for opc in options:\n",
    "        button = Button(title=opc, type='postback', payload=opc)\n",
    "        buttons.append(button)\n",
    "        \n",
    "    text = content\n",
    "    print('Text: ',text)\n",
    "    print('Botones: ',buttons)\n",
    "        \n",
    "    result = bot.send_button_message(recipient_id, text, buttons)\n",
    "    assert type(result) is dict\n",
    "    assert result.get('message_id') is not None\n",
    "    assert result.get('recipient_id') is not None"
   ]
  },
  {
   "cell_type": "code",
   "execution_count": 6,
   "metadata": {},
   "outputs": [],
   "source": [
    "def conv(msj):\n",
    "    #print(msj)\n",
    "    print('paso 17')\n",
    "    ans=' '\n",
    "    contenido=msj[\"Respuesta\"][0][\"content\"]\n",
    "    estado=msj[\"Respuesta\"][0][\"payload\"][0][\"state\"]\n",
    "    entidad= msj[\"Respuesta\"][0][\"payload\"][0][\"entities\"]\n",
    "    tipo= msj[\"Respuesta\"][0][\"blockType\"]\n",
    "    recipient_id=msj['Respuesta'][0]['payload'][0]['recipient_id']\n",
    "    print(str(contenido))\n",
    "    #print(estado)\n",
    "       \n",
    "    if(tipo==\"quickReply\" or tipo==\"quickReplyDinamico\"):\n",
    "        test_button_message(recipient_id, contenido, msj[\"Respuesta\"][0][\"options\"])\n",
    "        return entidad, ans, estado, tipo, msj[\"Respuesta\"][0][\"options\"]\n",
    "        \n",
    "    elif(tipo==\"input\" or tipo==\"inputDinamico\"):\n",
    "        send_message(recipient_id, contenido)\n",
    "        return entidad, ans, estado, tipo, 'vacio'\n",
    "        \n",
    "    elif(tipo==\"informativo\" or tipo==\"informativoDinamico\"):\n",
    "        send_message(recipient_id, contenido)\n",
    "        return entidad, str('next'), estado, tipo, 'vacio'\n",
    "    else:\n",
    "        return entidad, str('hey'), estado, tipo, 'vacio'"
   ]
  },
  {
   "cell_type": "code",
   "execution_count": 7,
   "metadata": {},
   "outputs": [],
   "source": [
    "class Nucleo_Cliente(threading.Thread):\n",
    "    def __init__(self, nombreHilo, puerto, datos):        \n",
    "        threading.Thread.__init__(self, name=nombreHilo, target=Nucleo_Cliente.run)\n",
    "        print('paso 11')\n",
    "        self.nombrehilo=nombreHilo\n",
    "        #self.id_persona=id_persona\n",
    "        #self.data=data\n",
    "        \n",
    "    def run(self):\n",
    "        #self.consultar2(self.puerto, self datos)\n",
    "        print('paso 12')\n",
    "        response = self.call()\n",
    "        print('paso 13')\n",
    "        print(\" [.] Got %r\", response)              \n",
    "        \n",
    "    def on_response(self, ch, method, props, body):\n",
    "        global response\n",
    "        global corr_id\n",
    "        print('paso on_response')\n",
    "        if corr_id == props.correlation_id:\n",
    "            response = body\n",
    "            \n",
    "    def call(self):\n",
    "        global connection\n",
    "        global channel\n",
    "        global result\n",
    "        global callback_queue\n",
    "        global response\n",
    "        \n",
    "        cont=0\n",
    "        #data_string = json.loads(body)\n",
    "        #print(data_string)\n",
    "        #print(n)\n",
    "        #print(\" [.] fib(%s)\" % n)\n",
    "        #while (not (\"adios\") in n):\n",
    "        while(cont>=0):  \n",
    "            print('paso 14')\n",
    "            response = None\n",
    "            #self.corr_id = str(uuid.uuid4())\n",
    "            #channel.basic_publish(exchange='',\n",
    "             #                          routing_key='chatbotV2',\n",
    "              #                         properties=pika.BasicProperties(\n",
    "               #                              reply_to = callback_queue,\n",
    "                #                             correlation_id = self.corr_id,\n",
    "                 #                            ),\n",
    "                  #                     body=str(data_string))\n",
    "            while response is None:\n",
    "                                    connection.process_data_events()\n",
    "            data = json.loads(response)\n",
    "            print('Data-> ',data)\n",
    "            print('paso 15')\n",
    "            #entidad, resp, estado, tipo, opciones= conv(data,recipient_id)\n",
    "            entidad, resp, estado, tipo, opciones= conv(data)\n",
    "            print('paso 16')\n",
    "            #print(\"LLego esto: \", data)\n",
    "            #if(data[\"Respuesta\"][0][\"payload\"][0][\"state\"]==\"Salida\"):\n",
    "                \n",
    "             #   cont=-1\n",
    "            #else:\n",
    "             #   cont+=1"
   ]
  },
  {
   "cell_type": "code",
   "execution_count": 8,
   "metadata": {
    "scrolled": true
   },
   "outputs": [
    {
     "name": "stdout",
     "output_type": "stream",
     "text": [
      "paso 1\n",
      "paso 11\n",
      "paso 12paso 2\n",
      "paso 14\n",
      "\n",
      "paso 3\n",
      "paso 6\n",
      " * Serving Flask app \"__main__\" (lazy loading)\n",
      " * Environment: production\n",
      "   WARNING: Do not use the development server in a production environment.\n",
      "   Use a production WSGI server instead.\n",
      " * Debug mode: off\n"
     ]
    },
    {
     "name": "stderr",
     "output_type": "stream",
     "text": [
      " * Running on http://127.0.0.1:5000/ (Press CTRL+C to quit)\n",
      "127.0.0.1 - - [13/Feb/2019 01:03:58] \"POST / HTTP/1.1\" 200 -\n"
     ]
    },
    {
     "name": "stdout",
     "output_type": "stream",
     "text": [
      "paso 4\n",
      "output=   {'object': 'page', 'entry': [{'id': '573983246449458', 'time': 1550041437832, 'messaging': [{'sender': {'id': '1981139385336437'}, 'recipient': {'id': '573983246449458'}, 'timestamp': 1550041437541, 'message': {'mid': 'zazeEOgmMW0Hoqlg8CNLvk6-Bkdx6ilUH3ypsYVxIr-L5yhLMXr8mRUyo7yOKzdD0Qcguivfg0RzsL51Fomc8A', 'seq': 189677, 'text': 'Hola'}}]}]}\n",
      "paso 4ss1\n",
      "paso 4s2\n",
      "paso 8\n",
      "paso 8s1\n",
      "{\"payload\": [{\"robot\": \"AAA1\", \"recipient_id\": \"1981139385336437\", \"content\": \"Hola\", \"state\": \"none\", \"blocktype\": \"none\", \"opciones\": \"none\", \"entitites\": \" \", \"entities\": {}}]}\n",
      "paso 9\n",
      "paso 10\n",
      "paso on_response\n",
      "Data->  {'Respuesta': [{'content': 'Hola', 'next_id': 'InfoRobot', 'blockType': 'informativo', 'contentType': 'text', 'typingTime': '1', 'payload': [{'content': '', 'state': 'Saludo', 'recipient_id': '1981139385336437', 'entities': {}}]}]}\n",
      "paso 15\n",
      "paso 17\n",
      "Hola\n",
      "paso 19\n",
      "paso 16\n",
      "paso 14\n"
     ]
    },
    {
     "name": "stderr",
     "output_type": "stream",
     "text": [
      "[2019-02-13 01:03:59,194] ERROR in app: Exception on / [POST]\n",
      "Traceback (most recent call last):\n",
      "  File \"C:\\Users\\eduar\\AppData\\Local\\Continuum\\anaconda3\\lib\\site-packages\\flask\\app.py\", line 2292, in wsgi_app\n",
      "    response = self.full_dispatch_request()\n",
      "  File \"C:\\Users\\eduar\\AppData\\Local\\Continuum\\anaconda3\\lib\\site-packages\\flask\\app.py\", line 1815, in full_dispatch_request\n",
      "    rv = self.handle_user_exception(e)\n",
      "  File \"C:\\Users\\eduar\\AppData\\Local\\Continuum\\anaconda3\\lib\\site-packages\\flask\\app.py\", line 1718, in handle_user_exception\n",
      "    reraise(exc_type, exc_value, tb)\n",
      "  File \"C:\\Users\\eduar\\AppData\\Local\\Continuum\\anaconda3\\lib\\site-packages\\flask\\_compat.py\", line 35, in reraise\n",
      "    raise value\n",
      "  File \"C:\\Users\\eduar\\AppData\\Local\\Continuum\\anaconda3\\lib\\site-packages\\flask\\app.py\", line 1813, in full_dispatch_request\n",
      "    rv = self.dispatch_request()\n",
      "  File \"C:\\Users\\eduar\\AppData\\Local\\Continuum\\anaconda3\\lib\\site-packages\\flask\\app.py\", line 1799, in dispatch_request\n",
      "    return self.view_functions[rule.endpoint](**req.view_args)\n",
      "  File \"<ipython-input-8-38305f59d786>\", line 37, in receive_message\n",
      "    enviarNucleo(recipient_id, messaging, output)\n",
      "  File \"<ipython-input-3-a3a396126e1a>\", line 29, in enviarNucleo\n",
      "    decoded[\"payload\"][0][\"content\"]=content\n",
      "UnboundLocalError: local variable 'content' referenced before assignment\n",
      "127.0.0.1 - - [13/Feb/2019 01:03:59] \"POST / HTTP/1.1\" 500 -\n"
     ]
    },
    {
     "name": "stdout",
     "output_type": "stream",
     "text": [
      "paso 4\n",
      "output=   {'object': 'page', 'entry': [{'id': '573983246449458', 'time': 1550041438880, 'messaging': [{'sender': {'id': '1981139385336437'}, 'recipient': {'id': '573983246449458'}, 'timestamp': 1550041438868, 'delivery': {'mids': ['4YJ1-C0sqoWaTRYGvdcOG06-Bkdx6ilUH3ypsYVxIr9qWfWjHaw681YYbTUd3MNfefyIq-YFz07IKWVOBZn0BQ'], 'watermark': 1550041438541, 'seq': 0}}]}]}\n",
      "paso 4ss1\n",
      "paso 4s2\n",
      "paso 8\n"
     ]
    },
    {
     "name": "stderr",
     "output_type": "stream",
     "text": [
      "127.0.0.1 - - [13/Feb/2019 01:04:03] \"POST / HTTP/1.1\" 200 -\n"
     ]
    },
    {
     "name": "stdout",
     "output_type": "stream",
     "text": [
      "paso 4\n",
      "output=   {'object': 'page', 'entry': [{'id': '573983246449458', 'time': 1550041443565, 'messaging': [{'sender': {'id': '1981139385336437'}, 'recipient': {'id': '573983246449458'}, 'timestamp': 1550041443245, 'message': {'mid': 'A_ZOusMXUMvWFK5Xy3ItEU6-Bkdx6ilUH3ypsYVxIr9UEkfhw5WLBFFKw_K4IJcdtQTmiqkOky1QqbfoIF33Qg', 'seq': 189682, 'text': 'hii'}}]}]}\n",
      "paso 4ss1\n",
      "paso 4s2\n",
      "paso 8\n",
      "paso 8s1\n",
      "{\"payload\": [{\"robot\": \"AAA1\", \"recipient_id\": \"1981139385336437\", \"content\": \"hii\", \"state\": \"none\", \"blocktype\": \"none\", \"opciones\": \"none\", \"entitites\": \" \", \"entities\": {}}]}\n",
      "paso 9\n",
      "paso 10\n",
      "paso on_response\n",
      "Data->  {'Respuesta': [{'content': 'Este es el robot para conusltar info de ECOBICI', 'next_id': 'OpMenu', 'blockType': 'informativo', 'contentType': 'text', 'typingTime': '2', 'payload': [{'content': '', 'state': 'InfoRobot', 'recipient_id': '1981139385336437', 'entities': {}}]}]}\n",
      "paso 15\n",
      "paso 17\n",
      "Este es el robot para conusltar info de ECOBICI\n",
      "paso 19\n",
      "paso 16\n",
      "paso 14\n"
     ]
    },
    {
     "name": "stderr",
     "output_type": "stream",
     "text": [
      "[2019-02-13 01:04:05,019] ERROR in app: Exception on / [POST]\n",
      "Traceback (most recent call last):\n",
      "  File \"C:\\Users\\eduar\\AppData\\Local\\Continuum\\anaconda3\\lib\\site-packages\\flask\\app.py\", line 2292, in wsgi_app\n",
      "    response = self.full_dispatch_request()\n",
      "  File \"C:\\Users\\eduar\\AppData\\Local\\Continuum\\anaconda3\\lib\\site-packages\\flask\\app.py\", line 1815, in full_dispatch_request\n",
      "    rv = self.handle_user_exception(e)\n",
      "  File \"C:\\Users\\eduar\\AppData\\Local\\Continuum\\anaconda3\\lib\\site-packages\\flask\\app.py\", line 1718, in handle_user_exception\n",
      "    reraise(exc_type, exc_value, tb)\n",
      "  File \"C:\\Users\\eduar\\AppData\\Local\\Continuum\\anaconda3\\lib\\site-packages\\flask\\_compat.py\", line 35, in reraise\n",
      "    raise value\n",
      "  File \"C:\\Users\\eduar\\AppData\\Local\\Continuum\\anaconda3\\lib\\site-packages\\flask\\app.py\", line 1813, in full_dispatch_request\n",
      "    rv = self.dispatch_request()\n",
      "  File \"C:\\Users\\eduar\\AppData\\Local\\Continuum\\anaconda3\\lib\\site-packages\\flask\\app.py\", line 1799, in dispatch_request\n",
      "    return self.view_functions[rule.endpoint](**req.view_args)\n",
      "  File \"<ipython-input-8-38305f59d786>\", line 37, in receive_message\n",
      "    enviarNucleo(recipient_id, messaging, output)\n",
      "  File \"<ipython-input-3-a3a396126e1a>\", line 29, in enviarNucleo\n",
      "    decoded[\"payload\"][0][\"content\"]=content\n",
      "UnboundLocalError: local variable 'content' referenced before assignment\n",
      "127.0.0.1 - - [13/Feb/2019 01:04:05] \"POST / HTTP/1.1\" 500 -\n"
     ]
    },
    {
     "name": "stdout",
     "output_type": "stream",
     "text": [
      "paso 4\n",
      "output=   {'object': 'page', 'entry': [{'id': '573983246449458', 'time': 1550041444667, 'messaging': [{'sender': {'id': '1981139385336437'}, 'recipient': {'id': '573983246449458'}, 'timestamp': 1550041444654, 'delivery': {'mids': ['N9E7Zaqfv7I6uqNxQgT6eE6-Bkdx6ilUH3ypsYVxIr-CE3GShZtmkO89AzByC0oiB2-uupFL3Oz54k48CmMS5w'], 'watermark': 1550041444288, 'seq': 0}}]}]}\n",
      "paso 4ss1\n",
      "paso 4s2\n",
      "paso 8\n"
     ]
    },
    {
     "name": "stderr",
     "output_type": "stream",
     "text": [
      "127.0.0.1 - - [13/Feb/2019 01:04:08] \"POST / HTTP/1.1\" 200 -\n"
     ]
    },
    {
     "name": "stdout",
     "output_type": "stream",
     "text": [
      "paso 4\n",
      "output=   {'object': 'page', 'entry': [{'id': '573983246449458', 'time': 1550041448415, 'messaging': [{'sender': {'id': '1981139385336437'}, 'recipient': {'id': '573983246449458'}, 'timestamp': 1550041448102, 'message': {'mid': 'VZBGw-zsUQRJrDTcpy2Z_06-Bkdx6ilUH3ypsYVxIr_r7EvFsfRebdI1nC8-dU33QzdaArrlgqRo8i7MANl1Fg', 'seq': 189687, 'text': 'ok'}}]}]}\n",
      "paso 4ss1\n",
      "paso 4s2\n",
      "paso 8\n",
      "paso 8s1\n",
      "{\"payload\": [{\"robot\": \"AAA1\", \"recipient_id\": \"1981139385336437\", \"content\": \"ok\", \"state\": \"none\", \"blocktype\": \"none\", \"opciones\": \"none\", \"entitites\": \" \", \"entities\": {}}]}\n",
      "paso 9\n",
      "paso 10\n",
      "paso on_response\n",
      "Data->  {'Respuesta': [{'content': '¿qué deseas hacer?', 'next_id': 'OpMenuAPI,Queja', 'blockType': 'quickReply', 'contentType': ' ', 'typingTime': '2', 'payload': [{'content': '', 'state': 'OpMenu', 'recipient_id': '1981139385336437', 'entities': {}}], 'options': ['Consultar API', 'Poner queja'], 'default_id': 'OpMenuDefault', 'save_var': 'false'}]}\n",
      "paso 15\n",
      "paso 17\n",
      "¿qué deseas hacer?\n",
      "paso 18\n",
      "Text:  ¿qué deseas hacer?\n",
      "Botones:  [{'title': 'Consultar API', 'type': 'postback', 'payload': 'Consultar API'}, {'title': 'Poner queja', 'type': 'postback', 'payload': 'Poner queja'}]\n",
      "paso 16\n",
      "paso 14\n"
     ]
    },
    {
     "name": "stderr",
     "output_type": "stream",
     "text": [
      "[2019-02-13 01:04:09,742] ERROR in app: Exception on / [POST]\n",
      "Traceback (most recent call last):\n",
      "  File \"C:\\Users\\eduar\\AppData\\Local\\Continuum\\anaconda3\\lib\\site-packages\\flask\\app.py\", line 2292, in wsgi_app\n",
      "    response = self.full_dispatch_request()\n",
      "  File \"C:\\Users\\eduar\\AppData\\Local\\Continuum\\anaconda3\\lib\\site-packages\\flask\\app.py\", line 1815, in full_dispatch_request\n",
      "    rv = self.handle_user_exception(e)\n",
      "  File \"C:\\Users\\eduar\\AppData\\Local\\Continuum\\anaconda3\\lib\\site-packages\\flask\\app.py\", line 1718, in handle_user_exception\n",
      "    reraise(exc_type, exc_value, tb)\n",
      "  File \"C:\\Users\\eduar\\AppData\\Local\\Continuum\\anaconda3\\lib\\site-packages\\flask\\_compat.py\", line 35, in reraise\n",
      "    raise value\n",
      "  File \"C:\\Users\\eduar\\AppData\\Local\\Continuum\\anaconda3\\lib\\site-packages\\flask\\app.py\", line 1813, in full_dispatch_request\n",
      "    rv = self.dispatch_request()\n",
      "  File \"C:\\Users\\eduar\\AppData\\Local\\Continuum\\anaconda3\\lib\\site-packages\\flask\\app.py\", line 1799, in dispatch_request\n",
      "    return self.view_functions[rule.endpoint](**req.view_args)\n",
      "  File \"<ipython-input-8-38305f59d786>\", line 37, in receive_message\n",
      "    enviarNucleo(recipient_id, messaging, output)\n",
      "  File \"<ipython-input-3-a3a396126e1a>\", line 29, in enviarNucleo\n",
      "    decoded[\"payload\"][0][\"content\"]=content\n",
      "UnboundLocalError: local variable 'content' referenced before assignment\n",
      "127.0.0.1 - - [13/Feb/2019 01:04:09] \"POST / HTTP/1.1\" 500 -\n"
     ]
    },
    {
     "name": "stdout",
     "output_type": "stream",
     "text": [
      "paso 4\n",
      "output=   {'object': 'page', 'entry': [{'id': '573983246449458', 'time': 1550041449435, 'messaging': [{'sender': {'id': '1981139385336437'}, 'recipient': {'id': '573983246449458'}, 'timestamp': 1550041449407, 'delivery': {'mids': ['EHZq2Cy3zsxDvsVM9SyZbU6-Bkdx6ilUH3ypsYVxIr-Rl5bqNrtQNnS0x1D4fAgg2OYu_35fdG7k9GsGDZAoaw'], 'watermark': 1550041449091, 'seq': 0}}]}]}\n",
      "paso 4ss1\n",
      "paso 4s2\n",
      "paso 8\n"
     ]
    },
    {
     "name": "stderr",
     "output_type": "stream",
     "text": [
      "127.0.0.1 - - [13/Feb/2019 01:04:11] \"POST / HTTP/1.1\" 200 -\n"
     ]
    },
    {
     "name": "stdout",
     "output_type": "stream",
     "text": [
      "paso 4\n",
      "output=   {'object': 'page', 'entry': [{'id': '573983246449458', 'time': 1550041451463, 'messaging': [{'recipient': {'id': '573983246449458'}, 'timestamp': 1550041451463, 'sender': {'id': '1981139385336437'}, 'postback': {'payload': 'Poner queja', 'title': 'Poner queja'}}]}]}\n",
      "paso 4ss1\n",
      "paso 4s2\n",
      "paso 8\n",
      "paso 8s1\n",
      "{\"payload\": [{\"robot\": \"AAA1\", \"recipient_id\": \"1981139385336437\", \"content\": \"Poner queja\", \"state\": \"none\", \"blocktype\": \"none\", \"opciones\": \"none\", \"entitites\": \" \", \"entities\": {}}]}\n",
      "paso 9\n",
      "paso 10\n",
      "paso on_response\n",
      "Data->  {'Respuesta': [{'content': 'Escribe tu queja', 'next_id': 'Salida', 'blockType': 'input', 'contentType': 'text', 'typingTime': '1', 'payload': [{'content': '', 'state': 'Queja', 'recipient_id': '1981139385336437', 'entities': {}}], 'validacion': '.*', 'Default_id': '', 'save_var': 'VarQueja'}]}\n",
      "paso 15\n",
      "paso 17\n",
      "Escribe tu queja\n",
      "paso 19\n",
      "paso 16\n",
      "paso 14\n"
     ]
    },
    {
     "name": "stderr",
     "output_type": "stream",
     "text": [
      "[2019-02-13 01:04:12,786] ERROR in app: Exception on / [POST]\n",
      "Traceback (most recent call last):\n",
      "  File \"C:\\Users\\eduar\\AppData\\Local\\Continuum\\anaconda3\\lib\\site-packages\\flask\\app.py\", line 2292, in wsgi_app\n",
      "    response = self.full_dispatch_request()\n",
      "  File \"C:\\Users\\eduar\\AppData\\Local\\Continuum\\anaconda3\\lib\\site-packages\\flask\\app.py\", line 1815, in full_dispatch_request\n",
      "    rv = self.handle_user_exception(e)\n",
      "  File \"C:\\Users\\eduar\\AppData\\Local\\Continuum\\anaconda3\\lib\\site-packages\\flask\\app.py\", line 1718, in handle_user_exception\n",
      "    reraise(exc_type, exc_value, tb)\n",
      "  File \"C:\\Users\\eduar\\AppData\\Local\\Continuum\\anaconda3\\lib\\site-packages\\flask\\_compat.py\", line 35, in reraise\n",
      "    raise value\n",
      "  File \"C:\\Users\\eduar\\AppData\\Local\\Continuum\\anaconda3\\lib\\site-packages\\flask\\app.py\", line 1813, in full_dispatch_request\n",
      "    rv = self.dispatch_request()\n",
      "  File \"C:\\Users\\eduar\\AppData\\Local\\Continuum\\anaconda3\\lib\\site-packages\\flask\\app.py\", line 1799, in dispatch_request\n",
      "    return self.view_functions[rule.endpoint](**req.view_args)\n",
      "  File \"<ipython-input-8-38305f59d786>\", line 37, in receive_message\n",
      "    enviarNucleo(recipient_id, messaging, output)\n",
      "  File \"<ipython-input-3-a3a396126e1a>\", line 29, in enviarNucleo\n",
      "    decoded[\"payload\"][0][\"content\"]=content\n",
      "UnboundLocalError: local variable 'content' referenced before assignment\n",
      "127.0.0.1 - - [13/Feb/2019 01:04:12] \"POST / HTTP/1.1\" 500 -\n"
     ]
    },
    {
     "name": "stdout",
     "output_type": "stream",
     "text": [
      "paso 4\n",
      "output=   {'object': 'page', 'entry': [{'id': '573983246449458', 'time': 1550041452479, 'messaging': [{'sender': {'id': '1981139385336437'}, 'recipient': {'id': '573983246449458'}, 'timestamp': 1550041452465, 'delivery': {'mids': ['1oXezfHtlqcgehIoQeg1506-Bkdx6ilUH3ypsYVxIr8OfD59g59i2y5HDNi81kapyudKskwL1tOQRO9WziIDrw'], 'watermark': 1550041452079, 'seq': 0}}]}]}\n",
      "paso 4ss1\n",
      "paso 4s2\n",
      "paso 8\n"
     ]
    },
    {
     "name": "stderr",
     "output_type": "stream",
     "text": [
      "127.0.0.1 - - [13/Feb/2019 01:04:22] \"POST / HTTP/1.1\" 200 -\n"
     ]
    },
    {
     "name": "stdout",
     "output_type": "stream",
     "text": [
      "paso 4\n",
      "output=   {'object': 'page', 'entry': [{'id': '573983246449458', 'time': 1550041461742, 'messaging': [{'sender': {'id': '1981139385336437'}, 'recipient': {'id': '573983246449458'}, 'timestamp': 1550041461509, 'message': {'mid': 'HhLLM3FSWMF3k_sApJ71RU6-Bkdx6ilUH3ypsYVxIr9xO2GF4--H5AJgRoP-VqOOJbGxAXkGVTxd1NekNDL3XA', 'seq': 189697, 'text': 'no tengo'}}]}]}\n",
      "paso 4ss1\n",
      "paso 4s2\n",
      "paso 8\n",
      "paso 8s1\n",
      "{\"payload\": [{\"robot\": \"AAA1\", \"recipient_id\": \"1981139385336437\", \"content\": \"no tengo\", \"state\": \"none\", \"blocktype\": \"none\", \"opciones\": \"none\", \"entitites\": \" \", \"entities\": {}}]}\n",
      "paso 9\n",
      "paso 10\n",
      "paso on_response\n",
      "Data->  {'Respuesta': [{'content': 'Gracias vuelva pronto', 'next_id': 'Vacio', 'blockType': 'informativo', 'contentType': 'text', 'typingTime': '1', 'payload': [{'content': '', 'state': 'Salida', 'recipient_id': '1981139385336437', 'entities': {'VarQueja': 'no tengo'}}]}]}\n",
      "paso 15\n",
      "paso 17\n",
      "Gracias vuelva pronto\n",
      "paso 19\n",
      "paso 16\n",
      "paso 14\n"
     ]
    },
    {
     "name": "stderr",
     "output_type": "stream",
     "text": [
      "[2019-02-13 01:04:23,182] ERROR in app: Exception on / [POST]\n",
      "Traceback (most recent call last):\n",
      "  File \"C:\\Users\\eduar\\AppData\\Local\\Continuum\\anaconda3\\lib\\site-packages\\flask\\app.py\", line 2292, in wsgi_app\n",
      "    response = self.full_dispatch_request()\n",
      "  File \"C:\\Users\\eduar\\AppData\\Local\\Continuum\\anaconda3\\lib\\site-packages\\flask\\app.py\", line 1815, in full_dispatch_request\n",
      "    rv = self.handle_user_exception(e)\n",
      "  File \"C:\\Users\\eduar\\AppData\\Local\\Continuum\\anaconda3\\lib\\site-packages\\flask\\app.py\", line 1718, in handle_user_exception\n",
      "    reraise(exc_type, exc_value, tb)\n",
      "  File \"C:\\Users\\eduar\\AppData\\Local\\Continuum\\anaconda3\\lib\\site-packages\\flask\\_compat.py\", line 35, in reraise\n",
      "    raise value\n",
      "  File \"C:\\Users\\eduar\\AppData\\Local\\Continuum\\anaconda3\\lib\\site-packages\\flask\\app.py\", line 1813, in full_dispatch_request\n",
      "    rv = self.dispatch_request()\n",
      "  File \"C:\\Users\\eduar\\AppData\\Local\\Continuum\\anaconda3\\lib\\site-packages\\flask\\app.py\", line 1799, in dispatch_request\n",
      "    return self.view_functions[rule.endpoint](**req.view_args)\n",
      "  File \"<ipython-input-8-38305f59d786>\", line 37, in receive_message\n",
      "    enviarNucleo(recipient_id, messaging, output)\n",
      "  File \"<ipython-input-3-a3a396126e1a>\", line 29, in enviarNucleo\n",
      "    decoded[\"payload\"][0][\"content\"]=content\n",
      "UnboundLocalError: local variable 'content' referenced before assignment\n",
      "127.0.0.1 - - [13/Feb/2019 01:04:23] \"POST / HTTP/1.1\" 500 -\n"
     ]
    },
    {
     "name": "stdout",
     "output_type": "stream",
     "text": [
      "paso 4\n",
      "output=   {'object': 'page', 'entry': [{'id': '573983246449458', 'time': 1550041462834, 'messaging': [{'sender': {'id': '1981139385336437'}, 'recipient': {'id': '573983246449458'}, 'timestamp': 1550041462819, 'delivery': {'mids': ['Gp_otUW2HRJJhxt4Wv7jgE6-Bkdx6ilUH3ypsYVxIr9II2ujkQ7q0_DtheH_io4DfifQwcq56SLlR1SKHctqBw'], 'watermark': 1550041462431, 'seq': 0}}]}]}\n",
      "paso 4ss1\n",
      "paso 4s2\n",
      "paso 8\n"
     ]
    },
    {
     "name": "stderr",
     "output_type": "stream",
     "text": [
      "[2019-02-13 01:04:24,069] ERROR in app: Exception on / [POST]\n",
      "Traceback (most recent call last):\n",
      "  File \"C:\\Users\\eduar\\AppData\\Local\\Continuum\\anaconda3\\lib\\site-packages\\flask\\app.py\", line 2292, in wsgi_app\n",
      "    response = self.full_dispatch_request()\n",
      "  File \"C:\\Users\\eduar\\AppData\\Local\\Continuum\\anaconda3\\lib\\site-packages\\flask\\app.py\", line 1815, in full_dispatch_request\n",
      "    rv = self.handle_user_exception(e)\n",
      "  File \"C:\\Users\\eduar\\AppData\\Local\\Continuum\\anaconda3\\lib\\site-packages\\flask\\app.py\", line 1718, in handle_user_exception\n",
      "    reraise(exc_type, exc_value, tb)\n",
      "  File \"C:\\Users\\eduar\\AppData\\Local\\Continuum\\anaconda3\\lib\\site-packages\\flask\\_compat.py\", line 35, in reraise\n",
      "    raise value\n",
      "  File \"C:\\Users\\eduar\\AppData\\Local\\Continuum\\anaconda3\\lib\\site-packages\\flask\\app.py\", line 1813, in full_dispatch_request\n",
      "    rv = self.dispatch_request()\n",
      "  File \"C:\\Users\\eduar\\AppData\\Local\\Continuum\\anaconda3\\lib\\site-packages\\flask\\app.py\", line 1799, in dispatch_request\n",
      "    return self.view_functions[rule.endpoint](**req.view_args)\n",
      "  File \"<ipython-input-8-38305f59d786>\", line 37, in receive_message\n",
      "    enviarNucleo(recipient_id, messaging, output)\n",
      "  File \"<ipython-input-3-a3a396126e1a>\", line 29, in enviarNucleo\n",
      "    decoded[\"payload\"][0][\"content\"]=content\n",
      "UnboundLocalError: local variable 'content' referenced before assignment\n",
      "127.0.0.1 - - [13/Feb/2019 01:04:24] \"POST / HTTP/1.1\" 500 -\n"
     ]
    },
    {
     "name": "stdout",
     "output_type": "stream",
     "text": [
      "paso 4\n",
      "output=   {'object': 'page', 'entry': [{'id': '573983246449458', 'time': 1550041463706, 'messaging': [{'sender': {'id': '1981139385336437'}, 'recipient': {'id': '573983246449458'}, 'timestamp': 1550041463691, 'delivery': {'mids': ['4YJ1-C0sqoWaTRYGvdcOG06-Bkdx6ilUH3ypsYVxIr9qWfWjHaw681YYbTUd3MNfefyIq-YFz07IKWVOBZn0BQ', 'N9E7Zaqfv7I6uqNxQgT6eE6-Bkdx6ilUH3ypsYVxIr-CE3GShZtmkO89AzByC0oiB2-uupFL3Oz54k48CmMS5w', 'EHZq2Cy3zsxDvsVM9SyZbU6-Bkdx6ilUH3ypsYVxIr-Rl5bqNrtQNnS0x1D4fAgg2OYu_35fdG7k9GsGDZAoaw', '1oXezfHtlqcgehIoQeg1506-Bkdx6ilUH3ypsYVxIr8OfD59g59i2y5HDNi81kapyudKskwL1tOQRO9WziIDrw', 'Gp_otUW2HRJJhxt4Wv7jgE6-Bkdx6ilUH3ypsYVxIr9II2ujkQ7q0_DtheH_io4DfifQwcq56SLlR1SKHctqBw'], 'watermark': 1550041462431, 'seq': 0}}]}]}\n",
      "paso 4ss1\n",
      "paso 4s2\n",
      "paso 8\n"
     ]
    }
   ],
   "source": [
    "#N_C = conversacion()\n",
    "print('paso 1')\n",
    "N_C=Nucleo_Cliente(\"Hilo_2\", \"3\", \" \")\n",
    "response=None\n",
    "corr_id=' '\n",
    "connection = pika.BlockingConnection(pika.ConnectionParameters(host='localhost'))\n",
    "channel = connection.channel()\n",
    "result = channel.queue_declare(exclusive=True)\n",
    "callback_queue = result.method.queue\n",
    "channel.basic_consume(N_C.on_response, no_ack=True, queue=callback_queue)\n",
    "#N_C=Nucleo_Cliente(\"Hilo_2\", \"3\", \" \")\n",
    "N_C.start()\n",
    "#N_C.join()\n",
    "print('paso 2')\n",
    "app = Flask(__name__)\n",
    "ACCESS_TOKEN = 'EAAIlqkJ5d4oBADlGkJrZBCzZCptOvFaXB7VT319dSTSXdVp5XljDxVPBQvEeRnVPC8sl51XMabDjgDBA11sZBuZCbTTAbPjb7JZArLjbpZCovZBMZBiUMnpRx7kswK8v1IdiBCaQzYKgmgn8chSbYsnZB25YQb15vV42MDZAa229AHL4WVxvLUIV01'\n",
    "VERIFY_TOKEN = 'CadenaDeVerificacion3'\n",
    "bot = Bot(ACCESS_TOKEN)\n",
    "print('paso 3')\n",
    "@app.route(\"/\", methods=['GET', 'POST'])\n",
    "def receive_message():\n",
    "    print('paso 4')\n",
    "    if request.method == 'GET':\n",
    "        print('paso 4s1')\n",
    "        token_sent = request.args.get(\"hub.verify_token\")\n",
    "        print('paso 4s2')\n",
    "        return verify_fb_token(token_sent)\n",
    "    else:\n",
    "        output = request.get_json()\n",
    "        print(\"output=  \",output)\n",
    "        #mensaje=output['entry'][0]['messaging'][0]['message']['text']\n",
    "        print('paso 4ss1')\n",
    "        for event in output['entry']:\n",
    "            print('paso 4s2')\n",
    "            messaging = event['messaging']\n",
    "            recipient_id=messaging[0]['sender']['id']\n",
    "            enviarNucleo(recipient_id, messaging, output)\n",
    "                         \n",
    "    return \"Message Processed\"\n",
    "        \n",
    "\n",
    "if __name__ == \"__main__\":\n",
    "    print('paso 6')\n",
    "    app.run()"
   ]
  },
  {
   "cell_type": "code",
   "execution_count": null,
   "metadata": {},
   "outputs": [],
   "source": []
  }
 ],
 "metadata": {
  "kernelspec": {
   "display_name": "Python 3",
   "language": "python",
   "name": "python3"
  },
  "language_info": {
   "codemirror_mode": {
    "name": "ipython",
    "version": 3
   },
   "file_extension": ".py",
   "mimetype": "text/x-python",
   "name": "python",
   "nbconvert_exporter": "python",
   "pygments_lexer": "ipython3",
   "version": "3.7.1"
  }
 },
 "nbformat": 4,
 "nbformat_minor": 2
}
