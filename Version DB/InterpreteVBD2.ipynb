{
 "cells": [
  {
   "cell_type": "code",
   "execution_count": 1,
   "metadata": {},
   "outputs": [],
   "source": [
    "import json\n",
    "import pika\n",
    "import uuid\n",
    "import threading \n",
    "import datetime\n",
    "import time\n",
    "import logging\n",
    "import random\n",
    "import requests\n",
    "import os\n",
    "from enum import Enum\n",
    "from flask import Flask, request\n",
    "from pymessenger import Element, Button\n",
    "from requests_toolbelt import MultipartEncoder\n",
    "from pymessenger import utils"
   ]
  },
  {
   "cell_type": "code",
   "execution_count": 2,
   "metadata": {},
   "outputs": [],
   "source": [
    "class NotificationType(Enum):\n",
    "    regular = \"REGULAR\"\n",
    "    silent_push = \"SILENT_PUSH\"\n",
    "    no_push = \"NO_PUSH\""
   ]
  },
  {
   "cell_type": "code",
   "execution_count": 3,
   "metadata": {},
   "outputs": [],
   "source": [
    "def verify_fb_token(token_sent):\n",
    "    if token_sent == VERIFY_TOKEN:\n",
    "        return request.args.get(\"hub.challenge\")\n",
    "    return 'Verificacion de token invalida'"
   ]
  },
  {
   "cell_type": "code",
   "execution_count": 4,
   "metadata": {},
   "outputs": [],
   "source": [
    "def enviarNucleo(recipient_id, id_face, mensaje):\n",
    "    global connection\n",
    "    global channel\n",
    "    global result\n",
    "    global callback_queue\n",
    "    global response\n",
    "    global corr_id\n",
    "        \n",
    "    cont=0\n",
    "    content=' '\n",
    "    if \"postback\" in mensaje[0]:\n",
    "        content=mensaje[0][\"postback\"][\"payload\"]\n",
    "    elif \"message\" in mensaje[0]:\n",
    "        content=mensaje[0][\"message\"][\"text\"]\n",
    "\n",
    "    \n",
    "    entidad={}\n",
    "    estado = \"none\"\n",
    "    tipo=\"none\"\n",
    "    opciones=\"none\"            \n",
    "        \n",
    "    n=  {\"payload\": [{\"robot\":\" \",\"id_face\":\" \",\"recipient_id\":\" \",\"access_token\":\" \",\"content\":\" \",\"state\":\" \", \"blocktype\":\" \", \"opciones\":\" \", \"entitites\":\" \"}]}\n",
    "    data=json.dumps(n)\n",
    "    decoded=json.loads(data)\n",
    "    decoded[\"payload\"][0][\"robot\"]=\"none\"\n",
    "    decoded[\"payload\"][0][\"id_face\"]=id_face\n",
    "    decoded[\"payload\"][0][\"access_token\"]=\"none\"\n",
    "    decoded[\"payload\"][0][\"recipient_id\"]=recipient_id\n",
    "    decoded[\"payload\"][0][\"content\"]=content\n",
    "    decoded[\"payload\"][0][\"state\"]=estado\n",
    "    decoded[\"payload\"][0][\"blocktype\"]=tipo\n",
    "    decoded[\"payload\"][0][\"opciones\"]=opciones\n",
    "    decoded[\"payload\"][0][\"entities\"]= entidad\n",
    "    data_string=json.dumps(decoded)\n",
    "    print('\\n_________________________________________________________________________________________________________________________')\n",
    "    print('Mensaje enviado al Nucleo Logico-> ',data_string)\n",
    "    corr_id = str(uuid.uuid4())\n",
    "    channel.basic_publish(exchange='',\n",
    "                                routing_key='chatbotVB31',\n",
    "                                properties=pika.BasicProperties(\n",
    "                                        reply_to = callback_queue,\n",
    "                                        correlation_id = corr_id,\n",
    "                                        ),\n",
    "                                body=str(data_string))"
   ]
  },
  {
   "cell_type": "code",
   "execution_count": 5,
   "metadata": {},
   "outputs": [],
   "source": [
    "def send_message(payload,access_token):\n",
    "    api_version = 2.6\n",
    "    graph_url = 'https://graph.facebook.com/v{0}'.format(api_version)\n",
    "    request_endpoint = '{0}/me/messages'.format(graph_url)\n",
    "    auth = {'access_token': access_token}\n",
    "    print('\\n_________________________________________________________________________________________________________________________')\n",
    "    print('Mensaje enviado a la API de  Facebook')\n",
    "    print('request_endpoint-> ',request_endpoint)\n",
    "    print('ruta->',auth)\n",
    "    print('payload-> ',payload)        \n",
    "    response = requests.post(\n",
    "        request_endpoint,\n",
    "        params=auth,\n",
    "        json=payload\n",
    "    )\n",
    "    result = response.json()\n",
    "    return result"
   ]
  },
  {
   "cell_type": "code",
   "execution_count": 6,
   "metadata": {},
   "outputs": [],
   "source": [
    "def text_message(recipient_id, response,access_token):\n",
    "    payload={'message': {'text': response}, 'recipient': {'id': recipient_id}, 'notification_type': 'REGULAR'}\n",
    "    respuesta=send_message(payload,access_token)\n",
    "    return \"success\""
   ]
  },
  {
   "cell_type": "code",
   "execution_count": 7,
   "metadata": {},
   "outputs": [],
   "source": [
    "def button_message(recipient_id,content,options,access_token):\n",
    "    buttons = []\n",
    "    cont=0\n",
    "    for opc in options:\n",
    "        button = Button(title=opc, type='postback', payload=opc)\n",
    "        buttons.append(button)\n",
    "        cont=cont+1\n",
    "        if cont>2:\n",
    "            break\n",
    "    \n",
    "    payload={'message': {'attachment': {'type': 'template', 'payload': {'template_type': 'button', 'text': content, 'buttons': buttons}}}, 'recipient': {'id': recipient_id}, 'notification_type': 'REGULAR'}\n",
    "    \n",
    "    result=send_message(payload,access_token)\n",
    "    assert type(result) is dict\n",
    "    assert result.get('message_id') is not None\n",
    "    assert result.get('recipient_id') is not None"
   ]
  },
  {
   "cell_type": "code",
   "execution_count": 8,
   "metadata": {},
   "outputs": [],
   "source": [
    "def slide_message(recipient_id,content,access_token):\n",
    "    buttons =[]\n",
    "    elements=[]\n",
    "    element={'title':'', 'image_url':'', 'subtitle':'', 'buttons':[]}\n",
    "    cont=0\n",
    "    \n",
    "    for data in content: \n",
    "        buttons =[]\n",
    "        for btn in data['buttons']:\n",
    "            if btn['typeButton']=='web_url':\n",
    "                button = Button(title=btn['titleButton'], type='web_url', url=btn['urlButton'])                \n",
    "            elif btn['typeButton']=='postback':\n",
    "                button = Button(title=btn['titleButton'], type='postback', payload=btn['payloadButton'])\n",
    "            buttons.append(button)\n",
    "            cont=cont+1\n",
    "            if cont>2:\n",
    "                break\n",
    "        element={'title':data['title'], 'image_url':data['image_url'], 'subtitle':data['subtitle'], 'buttons':buttons}\n",
    "        elements.append(element)   \n",
    "    \n",
    "    payload={\"recipient\": {\"id\":recipient_id}, \"message\":{\"attachment\": {\"type\":\"template\", \"payload\": {\"template_type\":\"generic\", \"elements\":elements}}}, 'notification_type': 'REGULAR'}\n",
    "    \n",
    "    result=send_message(payload,access_token)\n",
    "    assert type(result) is dict\n",
    "    assert result.get('message_id') is not None\n",
    "    assert result.get('recipient_id') is not None"
   ]
  },
  {
   "cell_type": "code",
   "execution_count": null,
   "metadata": {},
   "outputs": [],
   "source": [
    "def ticket_message(recipient_id,content,access_token):\n",
    "    payload={\"recipient\":{\"id\":recipient_id},\"message\":{\"attachment\":{\"type\":\"template\",\"payload\":content}}}\n",
    "    \n",
    "    result=send_message(payload,access_token)\n",
    "    assert type(result) is dict\n",
    "    assert result.get('message_id') is not None\n",
    "    assert result.get('recipient_id') is not None"
   ]
  },
  {
   "cell_type": "code",
   "execution_count": 9,
   "metadata": {},
   "outputs": [],
   "source": [
    "def conv(msj):\n",
    "    ans=' '\n",
    "    contenido=msj[\"Respuesta\"][0][\"content\"]\n",
    "    estado=msj[\"Respuesta\"][0][\"payload\"][0][\"state\"]\n",
    "    entidad= msj[\"Respuesta\"][0][\"payload\"][0][\"entities\"]\n",
    "    tipo= msj[\"Respuesta\"][0][\"blockType\"]\n",
    "    recipient_id=msj['Respuesta'][0]['payload'][0]['recipient_id']\n",
    "    access_token=msj['Respuesta'][0]['payload'][0]['access_token']\n",
    "    #print(str(contenido))\n",
    "       \n",
    "    if(tipo==\"quickReply\" or tipo==\"quickReplyDinamico\"):\n",
    "        button_message(recipient_id, contenido, msj[\"Respuesta\"][0][\"options\"],access_token)\n",
    "        return entidad, ans, estado, tipo, msj[\"Respuesta\"][0][\"options\"]\n",
    "        \n",
    "    elif(tipo==\"input\" or tipo==\"inputDinamico\"):\n",
    "        text_message(recipient_id, contenido,access_token)\n",
    "        return entidad, ans, estado, tipo, 'vacio'\n",
    "        \n",
    "    elif(tipo==\"informativo\" or tipo==\"informativoDinamico\"):\n",
    "        text_message(recipient_id, contenido,access_token)\n",
    "        return entidad, str('next'), estado, tipo, 'vacio'\n",
    "    \n",
    "    elif(tipo==\"slide\" or tipo==\"slideBuy\"):\n",
    "        slide_message(recipient_id, contenido,access_token)\n",
    "        return entidad, str('next'), estado, tipo, 'vacio'\n",
    "    elif(tipo==\"slide\" or tipo==\"ticket\"):\n",
    "        ticket_message(recipient_id, contenido,access_token)\n",
    "        return entidad, str('next'), estado, tipo, 'vacio'\n",
    "    else:\n",
    "        return entidad, str('hey'), estado, tipo, 'vacio'"
   ]
  },
  {
   "cell_type": "code",
   "execution_count": 10,
   "metadata": {},
   "outputs": [],
   "source": [
    "class Nucleo_Cliente(threading.Thread):\n",
    "    def __init__(self, nombreHilo):        \n",
    "        threading.Thread.__init__(self, name=nombreHilo, target=Nucleo_Cliente.run)\n",
    "        self.nombrehilo=nombreHilo\n",
    "        \n",
    "    def run(self):\n",
    "        response = self.call()\n",
    "        print(\" [.] Got %r\", response)              \n",
    "        \n",
    "    def on_response(self, ch, method, props, body):\n",
    "        global response\n",
    "        global corr_id\n",
    "        if corr_id == props.correlation_id:\n",
    "            response = body\n",
    "            \n",
    "    def call(self):\n",
    "        global connection\n",
    "        global channel\n",
    "        global result\n",
    "        global callback_queue\n",
    "        global response\n",
    "        \n",
    "        cont=0\n",
    "        while(cont>=0):\n",
    "            response = None\n",
    "            while response is None:\n",
    "                connection.process_data_events()\n",
    "            \n",
    "            if len(response)>10:\n",
    "                data = json.loads(response)\n",
    "                print('\\n_________________________________________________________________________________________________________________________')\n",
    "                print('Respuesta del Nucleo Logico-> ',data)\n",
    "                entidad, resp, estado, tipo, opciones= conv(data)"
   ]
  },
  {
   "cell_type": "code",
   "execution_count": 11,
   "metadata": {
    "scrolled": true
   },
   "outputs": [
    {
     "name": "stdout",
     "output_type": "stream",
     "text": [
      " * Serving Flask app \"__main__\" (lazy loading)\n",
      " * Environment: production\n",
      "   WARNING: Do not use the development server in a production environment.\n",
      "   Use a production WSGI server instead.\n",
      " * Debug mode: off\n"
     ]
    },
    {
     "name": "stderr",
     "output_type": "stream",
     "text": [
      " * Running on http://127.0.0.1:5000/ (Press CTRL+C to quit)\n",
      "127.0.0.1 - - [28/Feb/2019 18:42:22] \"POST / HTTP/1.1\" 200 -\n"
     ]
    },
    {
     "name": "stdout",
     "output_type": "stream",
     "text": [
      "\n",
      "_________________________________________________________________________________________________________________________\n",
      "Mesaje de la API de Facebook->  {'object': 'page', 'entry': [{'id': '291049961575900', 'time': 1551400965868, 'messaging': [{'sender': {'id': '2243290295732269'}, 'recipient': {'id': '291049961575900'}, 'timestamp': 1551400965331, 'message': {'mid': 'HYvQvzlTQ2koeisOpZCZyRJLljvY0SoaK8iaUz34bW6kYlHzDep2yVUUGEf3HNA32w5rcvcWxbwzUw8it46Tzw', 'seq': 774, 'text': 'Holi'}}]}]}\n",
      "\n",
      "_________________________________________________________________________________________________________________________\n",
      "Mensaje enviado al Nucleo Logico->  {\"payload\": [{\"robot\": \"none\", \"id_face\": \"291049961575900\", \"recipient_id\": \"2243290295732269\", \"access_token\": \"none\", \"content\": \"Holi\", \"state\": \"none\", \"blocktype\": \"none\", \"opciones\": \"none\", \"entitites\": \" \", \"entities\": {}}]}\n",
      "\n",
      "_________________________________________________________________________________________________________________________\n",
      "Respuesta del Nucleo Logico->  {'Respuesta': [{'content': 'Hola soy ChatBuy', 'next_id': 'OpMenu', 'blockType': 'informativo', 'contentType': 'text', 'typingTime': '1', 'payload': [{'content': '', 'state': 'Saludo', 'recipient_id': '2243290295732269', 'entities': {}, 'access_token': 'EAAPZA7ZCigC6IBALcAo5n0UBPBe5Ez537LrQMq0V3RkhxvxER0YyvTqKwdndecuBqhygPfa2kfbZACS0YD5ZCu8n3pLrZA3ZC7mK1547NTtQsZCYTcpJFFM8TGFTpzjgSclusyvAMM1W0FAu3D8D5oZAIDZB8zJuQeuP4Rk5e9IpZBGE5EuZBj10CXu'}]}]}\n",
      "\n",
      "_________________________________________________________________________________________________________________________\n",
      "Mensaje enviado a la API de  Facebook\n",
      "request_endpoint->  https://graph.facebook.com/v2.6/me/messages\n",
      "ruta-> {'access_token': 'EAAPZA7ZCigC6IBALcAo5n0UBPBe5Ez537LrQMq0V3RkhxvxER0YyvTqKwdndecuBqhygPfa2kfbZACS0YD5ZCu8n3pLrZA3ZC7mK1547NTtQsZCYTcpJFFM8TGFTpzjgSclusyvAMM1W0FAu3D8D5oZAIDZB8zJuQeuP4Rk5e9IpZBGE5EuZBj10CXu'}\n",
      "payload->  {'message': {'text': 'Hola soy ChatBuy'}, 'recipient': {'id': '2243290295732269'}, 'notification_type': 'REGULAR'}\n"
     ]
    },
    {
     "name": "stderr",
     "output_type": "stream",
     "text": [
      "127.0.0.1 - - [28/Feb/2019 18:42:23] \"POST / HTTP/1.1\" 200 -\n",
      "127.0.0.1 - - [28/Feb/2019 18:42:23] \"POST / HTTP/1.1\" 200 -\n"
     ]
    },
    {
     "name": "stdout",
     "output_type": "stream",
     "text": [
      "\n",
      "_________________________________________________________________________________________________________________________\n",
      "Mesaje de la API de Facebook->  {'object': 'page', 'entry': [{'id': '291049961575900', 'time': 1551400967028, 'messaging': [{'sender': {'id': '2243290295732269'}, 'recipient': {'id': '291049961575900'}, 'timestamp': 1551400967015, 'delivery': {'mids': ['FmA4y13PXDUNH6ZB313cyRJLljvY0SoaK8iaUz34bW4MpfUioAksoe7qqYI6pSZRutW_tlNTDLOnHh38fI_woQ'], 'watermark': 1551400966719, 'seq': 0}}]}]}\n",
      "\n",
      "_________________________________________________________________________________________________________________________\n",
      "Mesaje de la API de Facebook->  {'object': 'page', 'entry': [{'id': '291049961575900', 'time': 1551400967117, 'messaging': [{'sender': {'id': '2243290295732269'}, 'recipient': {'id': '291049961575900'}, 'timestamp': 1551400967105, 'delivery': {'mids': ['FmA4y13PXDUNH6ZB313cyRJLljvY0SoaK8iaUz34bW4MpfUioAksoe7qqYI6pSZRutW_tlNTDLOnHh38fI_woQ'], 'watermark': 1551400966719, 'seq': 0}}]}]}\n"
     ]
    },
    {
     "name": "stderr",
     "output_type": "stream",
     "text": [
      "127.0.0.1 - - [28/Feb/2019 18:42:27] \"POST / HTTP/1.1\" 200 -\n"
     ]
    },
    {
     "name": "stdout",
     "output_type": "stream",
     "text": [
      "\n",
      "_________________________________________________________________________________________________________________________\n",
      "Mesaje de la API de Facebook->  {'object': 'page', 'entry': [{'id': '291049961575900', 'time': 1551400970724, 'messaging': [{'sender': {'id': '2243290295732269'}, 'recipient': {'id': '291049961575900'}, 'timestamp': 1551400970359, 'message': {'mid': 'u677zQs5FCVxgVdi6E-WWxJLljvY0SoaK8iaUz34bW4TxOgkBjiw-T72DD1p8Ri2-DyXg39fQh2k3TdgL2xOTg', 'seq': 779, 'text': 'ok'}}]}]}\n",
      "\n",
      "_________________________________________________________________________________________________________________________\n",
      "Mensaje enviado al Nucleo Logico->  {\"payload\": [{\"robot\": \"none\", \"id_face\": \"291049961575900\", \"recipient_id\": \"2243290295732269\", \"access_token\": \"none\", \"content\": \"ok\", \"state\": \"none\", \"blocktype\": \"none\", \"opciones\": \"none\", \"entitites\": \" \", \"entities\": {}}]}\n",
      "\n",
      "_________________________________________________________________________________________________________________________\n",
      "Respuesta del Nucleo Logico->  {'Respuesta': [{'content': 'Mira lo que podemos hacer', 'next_id': 'ConsultarRopa,Queja', 'blockType': 'quickReply', 'contentType': ' ', 'typingTime': '2', 'payload': [{'content': '', 'state': 'OpMenu', 'recipient_id': '2243290295732269', 'entities': {}, 'access_token': 'EAAPZA7ZCigC6IBALcAo5n0UBPBe5Ez537LrQMq0V3RkhxvxER0YyvTqKwdndecuBqhygPfa2kfbZACS0YD5ZCu8n3pLrZA3ZC7mK1547NTtQsZCYTcpJFFM8TGFTpzjgSclusyvAMM1W0FAu3D8D5oZAIDZB8zJuQeuP4Rk5e9IpZBGE5EuZBj10CXu'}], 'options': ['Consutar ropa', 'Poner queja'], 'default_id': 'OpMenuDefault', 'save_var': 'false'}]}\n",
      "\n",
      "_________________________________________________________________________________________________________________________\n",
      "Mensaje enviado a la API de  Facebook\n",
      "request_endpoint->  https://graph.facebook.com/v2.6/me/messages\n",
      "ruta-> {'access_token': 'EAAPZA7ZCigC6IBALcAo5n0UBPBe5Ez537LrQMq0V3RkhxvxER0YyvTqKwdndecuBqhygPfa2kfbZACS0YD5ZCu8n3pLrZA3ZC7mK1547NTtQsZCYTcpJFFM8TGFTpzjgSclusyvAMM1W0FAu3D8D5oZAIDZB8zJuQeuP4Rk5e9IpZBGE5EuZBj10CXu'}\n",
      "payload->  {'message': {'attachment': {'type': 'template', 'payload': {'template_type': 'button', 'text': 'Mira lo que podemos hacer', 'buttons': [{'title': 'Consutar ropa', 'type': 'postback', 'payload': 'Consutar ropa'}, {'title': 'Poner queja', 'type': 'postback', 'payload': 'Poner queja'}]}}}, 'recipient': {'id': '2243290295732269'}, 'notification_type': 'REGULAR'}\n"
     ]
    },
    {
     "name": "stderr",
     "output_type": "stream",
     "text": [
      "127.0.0.1 - - [28/Feb/2019 18:42:28] \"POST / HTTP/1.1\" 200 -\n"
     ]
    },
    {
     "name": "stdout",
     "output_type": "stream",
     "text": [
      "\n",
      "_________________________________________________________________________________________________________________________\n",
      "Mesaje de la API de Facebook->  {'object': 'page', 'entry': [{'id': '291049961575900', 'time': 1551400972565, 'messaging': [{'sender': {'id': '2243290295732269'}, 'recipient': {'id': '291049961575900'}, 'timestamp': 1551400972553, 'delivery': {'mids': ['TMngfKvpqWdoQiXQk26Q0BJLljvY0SoaK8iaUz34bW5WDt8qgM9gAHomqkIjU6FO95Ue2JtzKNcL4k3ksggwmw'], 'watermark': 1551400972280, 'seq': 0}}]}]}\n",
      "\n",
      "_________________________________________________________________________________________________________________________"
     ]
    },
    {
     "name": "stderr",
     "output_type": "stream",
     "text": [
      "127.0.0.1 - - [28/Feb/2019 18:42:29] \"POST / HTTP/1.1\" 200 -\n"
     ]
    },
    {
     "name": "stdout",
     "output_type": "stream",
     "text": [
      "\n",
      "Mesaje de la API de Facebook->  {'object': 'page', 'entry': [{'id': '291049961575900', 'time': 1551400972665, 'messaging': [{'sender': {'id': '2243290295732269'}, 'recipient': {'id': '291049961575900'}, 'timestamp': 1551400972651, 'delivery': {'mids': ['TMngfKvpqWdoQiXQk26Q0BJLljvY0SoaK8iaUz34bW5WDt8qgM9gAHomqkIjU6FO95Ue2JtzKNcL4k3ksggwmw'], 'watermark': 1551400972280, 'seq': 0}}]}]}\n"
     ]
    },
    {
     "name": "stderr",
     "output_type": "stream",
     "text": [
      "127.0.0.1 - - [28/Feb/2019 18:42:31] \"POST / HTTP/1.1\" 200 -\n"
     ]
    },
    {
     "name": "stdout",
     "output_type": "stream",
     "text": [
      "\n",
      "_________________________________________________________________________________________________________________________\n",
      "Mesaje de la API de Facebook->  {'object': 'page', 'entry': [{'id': '291049961575900', 'time': 1551400975243, 'messaging': [{'recipient': {'id': '291049961575900'}, 'timestamp': 1551400975243, 'sender': {'id': '2243290295732269'}, 'postback': {'payload': 'Consutar ropa', 'title': 'Consutar ropa'}}]}]}\n",
      "\n",
      "_________________________________________________________________________________________________________________________\n",
      "Mensaje enviado al Nucleo Logico->  {\"payload\": [{\"robot\": \"none\", \"id_face\": \"291049961575900\", \"recipient_id\": \"2243290295732269\", \"access_token\": \"none\", \"content\": \"Consutar ropa\", \"state\": \"none\", \"blocktype\": \"none\", \"opciones\": \"none\", \"entitites\": \" \", \"entities\": {}}]}\n",
      "\n",
      "_________________________________________________________________________________________________________________________\n",
      "Respuesta del Nucleo Logico->  {'Respuesta': [{'content': [{'title': 'Abrigo de Mujer', 'image_url': 'https://images-eu.ssl-images-amazon.com/images/I/51TAka+KMsL._AC_UL260_SR200,260_.jpg', 'subtitle': 'Algodón, manga larga.  Precio: $100', 'buttons': [{'titleButton': 'Comprar', 'typeButton': 'postback', 'payloadButton': 'abrigo1'}]}, {'title': 'Chamarra para Hombre', 'image_url': 'https://http2.mlstatic.com/D_NP_858171-MLM27196959024_042018-Q.jpg', 'subtitle': 'Chamarra de cuero.  Precio: $50', 'buttons': [{'titleButton': 'Comprar', 'typeButton': 'postback', 'payloadButton': 'camarra2'}]}, {'title': 'Blusa', 'image_url': 'https://www.directoriotextil.com/custom/domain_1/image_files/sitemgr_photo_13825.png', 'subtitle': 'Blusa de chifon.  Precio: $40', 'buttons': [{'titleButton': 'Comprar', 'typeButton': 'postback', 'payloadButton': 'blusa3'}]}], 'next_id': 'OpMenuNext', 'blockType': 'slideBuy', 'contentType': ' ', 'typingTime': '2', 'payload': [{'content': '', 'state': 'ConsultarRopa', 'recipient_id': '2243290295732269', 'entities': {}, 'access_token': 'EAAPZA7ZCigC6IBALcAo5n0UBPBe5Ez537LrQMq0V3RkhxvxER0YyvTqKwdndecuBqhygPfa2kfbZACS0YD5ZCu8n3pLrZA3ZC7mK1547NTtQsZCYTcpJFFM8TGFTpzjgSclusyvAMM1W0FAu3D8D5oZAIDZB8zJuQeuP4Rk5e9IpZBGE5EuZBj10CXu'}], 'default_id': 'OpMenuDefault', 'save_var': 'VarCompras'}]}\n",
      "\n",
      "_________________________________________________________________________________________________________________________\n",
      "Mensaje enviado a la API de  Facebook\n",
      "request_endpoint->  https://graph.facebook.com/v2.6/me/messages\n",
      "ruta-> {'access_token': 'EAAPZA7ZCigC6IBALcAo5n0UBPBe5Ez537LrQMq0V3RkhxvxER0YyvTqKwdndecuBqhygPfa2kfbZACS0YD5ZCu8n3pLrZA3ZC7mK1547NTtQsZCYTcpJFFM8TGFTpzjgSclusyvAMM1W0FAu3D8D5oZAIDZB8zJuQeuP4Rk5e9IpZBGE5EuZBj10CXu'}\n",
      "payload->  {'recipient': {'id': '2243290295732269'}, 'message': {'attachment': {'type': 'template', 'payload': {'template_type': 'generic', 'elements': [{'title': 'Abrigo de Mujer', 'image_url': 'https://images-eu.ssl-images-amazon.com/images/I/51TAka+KMsL._AC_UL260_SR200,260_.jpg', 'subtitle': 'Algodón, manga larga.  Precio: $100', 'buttons': [{'title': 'Comprar', 'type': 'postback', 'payload': 'abrigo1'}]}, {'title': 'Chamarra para Hombre', 'image_url': 'https://http2.mlstatic.com/D_NP_858171-MLM27196959024_042018-Q.jpg', 'subtitle': 'Chamarra de cuero.  Precio: $50', 'buttons': [{'title': 'Comprar', 'type': 'postback', 'payload': 'camarra2'}]}, {'title': 'Blusa', 'image_url': 'https://www.directoriotextil.com/custom/domain_1/image_files/sitemgr_photo_13825.png', 'subtitle': 'Blusa de chifon.  Precio: $40', 'buttons': [{'title': 'Comprar', 'type': 'postback', 'payload': 'blusa3'}]}]}}}, 'notification_type': 'REGULAR'}\n"
     ]
    },
    {
     "name": "stderr",
     "output_type": "stream",
     "text": [
      "127.0.0.1 - - [28/Feb/2019 18:42:34] \"POST / HTTP/1.1\" 200 -\n",
      "127.0.0.1 - - [28/Feb/2019 18:42:34] \"POST / HTTP/1.1\" 200 -\n"
     ]
    },
    {
     "name": "stdout",
     "output_type": "stream",
     "text": [
      "\n",
      "_________________________________________________________________________________________________________________________\n",
      "Mesaje de la API de Facebook->  {'object': 'page', 'entry': [{'id': '291049961575900', 'time': 1551400978077, 'messaging': [{'sender': {'id': '2243290295732269'}, 'recipient': {'id': '291049961575900'}, 'timestamp': 1551400978065, 'delivery': {'mids': ['dkUWtodJqu9X2uQx1qiODhJLljvY0SoaK8iaUz34bW5wKJvpqNM90mltAZuMjEJ37wsyZrb90yxAoEF51Ea0eg'], 'watermark': 1551400976736, 'seq': 0}}]}]}\n",
      "\n",
      "_________________________________________________________________________________________________________________________\n",
      "Mesaje de la API de Facebook->  {'object': 'page', 'entry': [{'id': '291049961575900', 'time': 1551400978124, 'messaging': [{'sender': {'id': '2243290295732269'}, 'recipient': {'id': '291049961575900'}, 'timestamp': 1551400978111, 'delivery': {'mids': ['dkUWtodJqu9X2uQx1qiODhJLljvY0SoaK8iaUz34bW5wKJvpqNM90mltAZuMjEJ37wsyZrb90yxAoEF51Ea0eg'], 'watermark': 1551400976736, 'seq': 0}}]}]}\n"
     ]
    },
    {
     "name": "stderr",
     "output_type": "stream",
     "text": [
      "127.0.0.1 - - [28/Feb/2019 18:43:02] \"POST / HTTP/1.1\" 200 -\n"
     ]
    },
    {
     "name": "stdout",
     "output_type": "stream",
     "text": [
      "\n",
      "_________________________________________________________________________________________________________________________\n",
      "Mesaje de la API de Facebook->  {'object': 'page', 'entry': [{'id': '291049961575900', 'time': 1551401006131, 'messaging': [{'recipient': {'id': '291049961575900'}, 'timestamp': 1551401006131, 'sender': {'id': '2243290295732269'}, 'postback': {'payload': 'blusa3', 'title': 'Comprar'}}]}]}\n",
      "\n",
      "_________________________________________________________________________________________________________________________\n",
      "Mensaje enviado al Nucleo Logico->  {\"payload\": [{\"robot\": \"none\", \"id_face\": \"291049961575900\", \"recipient_id\": \"2243290295732269\", \"access_token\": \"none\", \"content\": \"blusa3\", \"state\": \"none\", \"blocktype\": \"none\", \"opciones\": \"none\", \"entitites\": \" \", \"entities\": {}}]}\n",
      "\n",
      "_________________________________________________________________________________________________________________________\n",
      "Respuesta del Nucleo Logico->  {'Respuesta': [{'content': 'Elige una opción', 'next_id': 'ConsultarRopa,Salida', 'blockType': 'quickReply', 'contentType': ' ', 'typingTime': '2', 'payload': [{'content': '', 'state': 'OpMenuNext', 'recipient_id': '2243290295732269', 'entities': {'VarCompras': {'blusa3': 1}}, 'access_token': 'EAAPZA7ZCigC6IBALcAo5n0UBPBe5Ez537LrQMq0V3RkhxvxER0YyvTqKwdndecuBqhygPfa2kfbZACS0YD5ZCu8n3pLrZA3ZC7mK1547NTtQsZCYTcpJFFM8TGFTpzjgSclusyvAMM1W0FAu3D8D5oZAIDZB8zJuQeuP4Rk5e9IpZBGE5EuZBj10CXu'}], 'options': ['Ver más ropa', 'Finalizar compra'], 'default_id': 'OpMenuNext', 'save_var': 'false'}]}\n",
      "\n",
      "_________________________________________________________________________________________________________________________\n",
      "Mensaje enviado a la API de  Facebook\n",
      "request_endpoint->  https://graph.facebook.com/v2.6/me/messages\n",
      "ruta-> {'access_token': 'EAAPZA7ZCigC6IBALcAo5n0UBPBe5Ez537LrQMq0V3RkhxvxER0YyvTqKwdndecuBqhygPfa2kfbZACS0YD5ZCu8n3pLrZA3ZC7mK1547NTtQsZCYTcpJFFM8TGFTpzjgSclusyvAMM1W0FAu3D8D5oZAIDZB8zJuQeuP4Rk5e9IpZBGE5EuZBj10CXu'}\n",
      "payload->  {'message': {'attachment': {'type': 'template', 'payload': {'template_type': 'button', 'text': 'Elige una opción', 'buttons': [{'title': 'Ver más ropa', 'type': 'postback', 'payload': 'Ver más ropa'}, {'title': 'Finalizar compra', 'type': 'postback', 'payload': 'Finalizar compra'}]}}}, 'recipient': {'id': '2243290295732269'}, 'notification_type': 'REGULAR'}\n"
     ]
    },
    {
     "name": "stderr",
     "output_type": "stream",
     "text": [
      "127.0.0.1 - - [28/Feb/2019 18:43:04] \"POST / HTTP/1.1\" 200 -\n",
      "127.0.0.1 - - [28/Feb/2019 18:43:05] \"POST / HTTP/1.1\" 200 -\n"
     ]
    },
    {
     "name": "stdout",
     "output_type": "stream",
     "text": [
      "\n",
      "_________________________________________________________________________________________________________________________\n",
      "Mesaje de la API de Facebook->  {'object': 'page', 'entry': [{'id': '291049961575900', 'time': 1551401008643, 'messaging': [{'sender': {'id': '2243290295732269'}, 'recipient': {'id': '291049961575900'}, 'timestamp': 1551401008631, 'delivery': {'mids': ['ujpG33NK43k0qFfHRZwChhJLljvY0SoaK8iaUz34bW4j20I5YeP9N3CB1uh1xtbKxVszuWPytGrPGl66H94sbA'], 'watermark': 1551401007672, 'seq': 0}}]}]}\n",
      "\n",
      "_________________________________________________________________________________________________________________________\n",
      "Mesaje de la API de Facebook->  {'object': 'page', 'entry': [{'id': '291049961575900', 'time': 1551401008721, 'messaging': [{'sender': {'id': '2243290295732269'}, 'recipient': {'id': '291049961575900'}, 'timestamp': 1551401008708, 'delivery': {'mids': ['ujpG33NK43k0qFfHRZwChhJLljvY0SoaK8iaUz34bW4j20I5YeP9N3CB1uh1xtbKxVszuWPytGrPGl66H94sbA'], 'watermark': 1551401007672, 'seq': 0}}]}]}\n"
     ]
    },
    {
     "name": "stderr",
     "output_type": "stream",
     "text": [
      "127.0.0.1 - - [28/Feb/2019 18:43:14] \"POST / HTTP/1.1\" 200 -\n"
     ]
    },
    {
     "name": "stdout",
     "output_type": "stream",
     "text": [
      "\n",
      "_________________________________________________________________________________________________________________________\n",
      "Mesaje de la API de Facebook->  {'object': 'page', 'entry': [{'id': '291049961575900', 'time': 1551401017589, 'messaging': [{'recipient': {'id': '291049961575900'}, 'timestamp': 1551401017589, 'sender': {'id': '2243290295732269'}, 'postback': {'payload': 'Ver más ropa', 'title': 'Ver más ropa'}}]}]}\n",
      "\n",
      "_________________________________________________________________________________________________________________________\n",
      "Mensaje enviado al Nucleo Logico->  {\"payload\": [{\"robot\": \"none\", \"id_face\": \"291049961575900\", \"recipient_id\": \"2243290295732269\", \"access_token\": \"none\", \"content\": \"Ver m\\u00e1s ropa\", \"state\": \"none\", \"blocktype\": \"none\", \"opciones\": \"none\", \"entitites\": \" \", \"entities\": {}}]}\n",
      "\n",
      "_________________________________________________________________________________________________________________________\n",
      "Respuesta del Nucleo Logico->  {'Respuesta': [{'content': [{'title': 'Abrigo de Mujer', 'image_url': 'https://images-eu.ssl-images-amazon.com/images/I/51TAka+KMsL._AC_UL260_SR200,260_.jpg', 'subtitle': 'Algodón, manga larga.  Precio: $100', 'buttons': [{'titleButton': 'Comprar', 'typeButton': 'postback', 'payloadButton': 'abrigo1'}]}, {'title': 'Chamarra para Hombre', 'image_url': 'https://http2.mlstatic.com/D_NP_858171-MLM27196959024_042018-Q.jpg', 'subtitle': 'Chamarra de cuero.  Precio: $50', 'buttons': [{'titleButton': 'Comprar', 'typeButton': 'postback', 'payloadButton': 'camarra2'}]}, {'title': 'Blusa', 'image_url': 'https://www.directoriotextil.com/custom/domain_1/image_files/sitemgr_photo_13825.png', 'subtitle': 'Blusa de chifon.  Precio: $40', 'buttons': [{'titleButton': 'Comprar', 'typeButton': 'postback', 'payloadButton': 'blusa3'}]}], 'next_id': 'OpMenuNext', 'blockType': 'slideBuy', 'contentType': ' ', 'typingTime': '2', 'payload': [{'content': '', 'state': 'ConsultarRopa', 'recipient_id': '2243290295732269', 'entities': {'VarCompras': {'blusa3': 1}}, 'access_token': 'EAAPZA7ZCigC6IBALcAo5n0UBPBe5Ez537LrQMq0V3RkhxvxER0YyvTqKwdndecuBqhygPfa2kfbZACS0YD5ZCu8n3pLrZA3ZC7mK1547NTtQsZCYTcpJFFM8TGFTpzjgSclusyvAMM1W0FAu3D8D5oZAIDZB8zJuQeuP4Rk5e9IpZBGE5EuZBj10CXu'}], 'default_id': 'OpMenuDefault', 'save_var': 'VarCompras'}]}\n",
      "\n",
      "_________________________________________________________________________________________________________________________\n",
      "Mensaje enviado a la API de  Facebook\n",
      "request_endpoint->  https://graph.facebook.com/v2.6/me/messages\n",
      "ruta-> {'access_token': 'EAAPZA7ZCigC6IBALcAo5n0UBPBe5Ez537LrQMq0V3RkhxvxER0YyvTqKwdndecuBqhygPfa2kfbZACS0YD5ZCu8n3pLrZA3ZC7mK1547NTtQsZCYTcpJFFM8TGFTpzjgSclusyvAMM1W0FAu3D8D5oZAIDZB8zJuQeuP4Rk5e9IpZBGE5EuZBj10CXu'}\n",
      "payload->  {'recipient': {'id': '2243290295732269'}, 'message': {'attachment': {'type': 'template', 'payload': {'template_type': 'generic', 'elements': [{'title': 'Abrigo de Mujer', 'image_url': 'https://images-eu.ssl-images-amazon.com/images/I/51TAka+KMsL._AC_UL260_SR200,260_.jpg', 'subtitle': 'Algodón, manga larga.  Precio: $100', 'buttons': [{'title': 'Comprar', 'type': 'postback', 'payload': 'abrigo1'}]}, {'title': 'Chamarra para Hombre', 'image_url': 'https://http2.mlstatic.com/D_NP_858171-MLM27196959024_042018-Q.jpg', 'subtitle': 'Chamarra de cuero.  Precio: $50', 'buttons': [{'title': 'Comprar', 'type': 'postback', 'payload': 'camarra2'}]}, {'title': 'Blusa', 'image_url': 'https://www.directoriotextil.com/custom/domain_1/image_files/sitemgr_photo_13825.png', 'subtitle': 'Blusa de chifon.  Precio: $40', 'buttons': [{'title': 'Comprar', 'type': 'postback', 'payload': 'blusa3'}]}]}}}, 'notification_type': 'REGULAR'}\n"
     ]
    },
    {
     "name": "stderr",
     "output_type": "stream",
     "text": [
      "127.0.0.1 - - [28/Feb/2019 18:43:15] \"POST / HTTP/1.1\" 200 -\n",
      "127.0.0.1 - - [28/Feb/2019 18:43:15] \"POST / HTTP/1.1\" 200 -\n"
     ]
    },
    {
     "name": "stdout",
     "output_type": "stream",
     "text": [
      "\n",
      "_________________________________________________________________________________________________________________________\n",
      "Mesaje de la API de Facebook->  {'object': 'page', 'entry': [{'id': '291049961575900', 'time': 1551401019342, 'messaging': [{'sender': {'id': '2243290295732269'}, 'recipient': {'id': '291049961575900'}, 'timestamp': 1551401019329, 'delivery': {'mids': ['ST5Kqj0OC06EsUEnvP43DhJLljvY0SoaK8iaUz34bW64EG14uyeSHo3gm-KxRNBzomoU65fi6c0szQexFSrZZg'], 'watermark': 1551401019038, 'seq': 0}}]}]}\n",
      "\n",
      "_________________________________________________________________________________________________________________________\n",
      "Mesaje de la API de Facebook->  {'object': 'page', 'entry': [{'id': '291049961575900', 'time': 1551401019423, 'messaging': [{'sender': {'id': '2243290295732269'}, 'recipient': {'id': '291049961575900'}, 'timestamp': 1551401019398, 'delivery': {'mids': ['ST5Kqj0OC06EsUEnvP43DhJLljvY0SoaK8iaUz34bW64EG14uyeSHo3gm-KxRNBzomoU65fi6c0szQexFSrZZg'], 'watermark': 1551401019038, 'seq': 0}}]}]}\n"
     ]
    },
    {
     "name": "stderr",
     "output_type": "stream",
     "text": [
      "127.0.0.1 - - [28/Feb/2019 18:43:19] \"POST / HTTP/1.1\" 200 -\n"
     ]
    },
    {
     "name": "stdout",
     "output_type": "stream",
     "text": [
      "\n",
      "_________________________________________________________________________________________________________________________\n",
      "Mesaje de la API de Facebook->  {'object': 'page', 'entry': [{'id': '291049961575900', 'time': 1551401023110, 'messaging': [{'recipient': {'id': '291049961575900'}, 'timestamp': 1551401023110, 'sender': {'id': '2243290295732269'}, 'postback': {'payload': 'abrigo1', 'title': 'Comprar'}}]}]}\n",
      "\n",
      "_________________________________________________________________________________________________________________________\n",
      "Mensaje enviado al Nucleo Logico->  {\"payload\": [{\"robot\": \"none\", \"id_face\": \"291049961575900\", \"recipient_id\": \"2243290295732269\", \"access_token\": \"none\", \"content\": \"abrigo1\", \"state\": \"none\", \"blocktype\": \"none\", \"opciones\": \"none\", \"entitites\": \" \", \"entities\": {}}]}\n",
      "\n",
      "_________________________________________________________________________________________________________________________\n",
      "Respuesta del Nucleo Logico->  {'Respuesta': [{'content': 'Elige una opción', 'next_id': 'ConsultarRopa,Salida', 'blockType': 'quickReply', 'contentType': ' ', 'typingTime': '2', 'payload': [{'content': '', 'state': 'OpMenuNext', 'recipient_id': '2243290295732269', 'entities': {'VarCompras': {'blusa3': 1, 'abrigo1': 1}}, 'access_token': 'EAAPZA7ZCigC6IBALcAo5n0UBPBe5Ez537LrQMq0V3RkhxvxER0YyvTqKwdndecuBqhygPfa2kfbZACS0YD5ZCu8n3pLrZA3ZC7mK1547NTtQsZCYTcpJFFM8TGFTpzjgSclusyvAMM1W0FAu3D8D5oZAIDZB8zJuQeuP4Rk5e9IpZBGE5EuZBj10CXu'}], 'options': ['Ver más ropa', 'Finalizar compra'], 'default_id': 'OpMenuNext', 'save_var': 'false'}]}\n",
      "\n",
      "_________________________________________________________________________________________________________________________\n",
      "Mensaje enviado a la API de  Facebook\n",
      "request_endpoint->  https://graph.facebook.com/v2.6/me/messages\n",
      "ruta-> {'access_token': 'EAAPZA7ZCigC6IBALcAo5n0UBPBe5Ez537LrQMq0V3RkhxvxER0YyvTqKwdndecuBqhygPfa2kfbZACS0YD5ZCu8n3pLrZA3ZC7mK1547NTtQsZCYTcpJFFM8TGFTpzjgSclusyvAMM1W0FAu3D8D5oZAIDZB8zJuQeuP4Rk5e9IpZBGE5EuZBj10CXu'}\n",
      "payload->  {'message': {'attachment': {'type': 'template', 'payload': {'template_type': 'button', 'text': 'Elige una opción', 'buttons': [{'title': 'Ver más ropa', 'type': 'postback', 'payload': 'Ver más ropa'}, {'title': 'Finalizar compra', 'type': 'postback', 'payload': 'Finalizar compra'}]}}}, 'recipient': {'id': '2243290295732269'}, 'notification_type': 'REGULAR'}\n"
     ]
    },
    {
     "name": "stderr",
     "output_type": "stream",
     "text": [
      "127.0.0.1 - - [28/Feb/2019 18:43:21] \"POST / HTTP/1.1\" 200 -\n"
     ]
    },
    {
     "name": "stdout",
     "output_type": "stream",
     "text": [
      "\n",
      "_________________________________________________________________________________________________________________________\n",
      "Mesaje de la API de Facebook->  {'object': 'page', 'entry': [{'id': '291049961575900', 'time': 1551401025096, 'messaging': [{'sender': {'id': '2243290295732269'}, 'recipient': {'id': '291049961575900'}, 'timestamp': 1551401025083, 'delivery': {'mids': ['Zap8_iOP0lzkHuTx0q25gBJLljvY0SoaK8iaUz34bW461Esrvd3mef1rmAM6GrIhayqTTKGyEeC6ZoPToe9CjQ'], 'watermark': 1551401024486, 'seq': 0}}]}]}\n"
     ]
    },
    {
     "name": "stderr",
     "output_type": "stream",
     "text": [
      "127.0.0.1 - - [28/Feb/2019 18:43:23] \"POST / HTTP/1.1\" 200 -\n"
     ]
    },
    {
     "name": "stdout",
     "output_type": "stream",
     "text": [
      "\n",
      "_________________________________________________________________________________________________________________________\n",
      "Mesaje de la API de Facebook->  {'object': 'page', 'entry': [{'id': '291049961575900', 'time': 1551401027347, 'messaging': [{'recipient': {'id': '291049961575900'}, 'timestamp': 1551401027347, 'sender': {'id': '2243290295732269'}, 'postback': {'payload': 'Ver más ropa', 'title': 'Ver más ropa'}}]}]}\n",
      "\n",
      "_________________________________________________________________________________________________________________________\n",
      "Mensaje enviado al Nucleo Logico->  {\"payload\": [{\"robot\": \"none\", \"id_face\": \"291049961575900\", \"recipient_id\": \"2243290295732269\", \"access_token\": \"none\", \"content\": \"Ver m\\u00e1s ropa\", \"state\": \"none\", \"blocktype\": \"none\", \"opciones\": \"none\", \"entitites\": \" \", \"entities\": {}}]}\n",
      "\n",
      "_________________________________________________________________________________________________________________________\n",
      "Respuesta del Nucleo Logico->  {'Respuesta': [{'content': [{'title': 'Abrigo de Mujer', 'image_url': 'https://images-eu.ssl-images-amazon.com/images/I/51TAka+KMsL._AC_UL260_SR200,260_.jpg', 'subtitle': 'Algodón, manga larga.  Precio: $100', 'buttons': [{'titleButton': 'Comprar', 'typeButton': 'postback', 'payloadButton': 'abrigo1'}]}, {'title': 'Chamarra para Hombre', 'image_url': 'https://http2.mlstatic.com/D_NP_858171-MLM27196959024_042018-Q.jpg', 'subtitle': 'Chamarra de cuero.  Precio: $50', 'buttons': [{'titleButton': 'Comprar', 'typeButton': 'postback', 'payloadButton': 'camarra2'}]}, {'title': 'Blusa', 'image_url': 'https://www.directoriotextil.com/custom/domain_1/image_files/sitemgr_photo_13825.png', 'subtitle': 'Blusa de chifon.  Precio: $40', 'buttons': [{'titleButton': 'Comprar', 'typeButton': 'postback', 'payloadButton': 'blusa3'}]}], 'next_id': 'OpMenuNext', 'blockType': 'slideBuy', 'contentType': ' ', 'typingTime': '2', 'payload': [{'content': '', 'state': 'ConsultarRopa', 'recipient_id': '2243290295732269', 'entities': {'VarCompras': {'blusa3': 1, 'abrigo1': 1}}, 'access_token': 'EAAPZA7ZCigC6IBALcAo5n0UBPBe5Ez537LrQMq0V3RkhxvxER0YyvTqKwdndecuBqhygPfa2kfbZACS0YD5ZCu8n3pLrZA3ZC7mK1547NTtQsZCYTcpJFFM8TGFTpzjgSclusyvAMM1W0FAu3D8D5oZAIDZB8zJuQeuP4Rk5e9IpZBGE5EuZBj10CXu'}], 'default_id': 'OpMenuDefault', 'save_var': 'VarCompras'}]}\n",
      "\n",
      "_________________________________________________________________________________________________________________________\n",
      "Mensaje enviado a la API de  Facebook\n",
      "request_endpoint->  https://graph.facebook.com/v2.6/me/messages\n",
      "ruta-> {'access_token': 'EAAPZA7ZCigC6IBALcAo5n0UBPBe5Ez537LrQMq0V3RkhxvxER0YyvTqKwdndecuBqhygPfa2kfbZACS0YD5ZCu8n3pLrZA3ZC7mK1547NTtQsZCYTcpJFFM8TGFTpzjgSclusyvAMM1W0FAu3D8D5oZAIDZB8zJuQeuP4Rk5e9IpZBGE5EuZBj10CXu'}\n",
      "payload->  {'recipient': {'id': '2243290295732269'}, 'message': {'attachment': {'type': 'template', 'payload': {'template_type': 'generic', 'elements': [{'title': 'Abrigo de Mujer', 'image_url': 'https://images-eu.ssl-images-amazon.com/images/I/51TAka+KMsL._AC_UL260_SR200,260_.jpg', 'subtitle': 'Algodón, manga larga.  Precio: $100', 'buttons': [{'title': 'Comprar', 'type': 'postback', 'payload': 'abrigo1'}]}, {'title': 'Chamarra para Hombre', 'image_url': 'https://http2.mlstatic.com/D_NP_858171-MLM27196959024_042018-Q.jpg', 'subtitle': 'Chamarra de cuero.  Precio: $50', 'buttons': [{'title': 'Comprar', 'type': 'postback', 'payload': 'camarra2'}]}, {'title': 'Blusa', 'image_url': 'https://www.directoriotextil.com/custom/domain_1/image_files/sitemgr_photo_13825.png', 'subtitle': 'Blusa de chifon.  Precio: $40', 'buttons': [{'title': 'Comprar', 'type': 'postback', 'payload': 'blusa3'}]}]}}}, 'notification_type': 'REGULAR'}\n"
     ]
    },
    {
     "name": "stderr",
     "output_type": "stream",
     "text": [
      "127.0.0.1 - - [28/Feb/2019 18:43:26] \"POST / HTTP/1.1\" 200 -\n",
      "127.0.0.1 - - [28/Feb/2019 18:43:26] \"POST / HTTP/1.1\" 200 -\n"
     ]
    },
    {
     "name": "stdout",
     "output_type": "stream",
     "text": [
      "\n",
      "_________________________________________________________________________________________________________________________\n",
      "Mesaje de la API de Facebook->  {'object': 'page', 'entry': [{'id': '291049961575900', 'time': 1551401029717, 'messaging': [{'sender': {'id': '2243290295732269'}, 'recipient': {'id': '291049961575900'}, 'timestamp': 1551401029704, 'delivery': {'mids': ['qroOU0BoPDANCLZU33kneRJLljvY0SoaK8iaUz34bW76CYthjT-UXAaXnN8fGCMIjPUsrtTzSXrG3WeygTt2TA'], 'watermark': 1551401028794, 'seq': 0}}]}]}\n",
      "\n",
      "_________________________________________________________________________________________________________________________\n",
      "Mesaje de la API de Facebook->  {'object': 'page', 'entry': [{'id': '291049961575900', 'time': 1551401029786, 'messaging': [{'sender': {'id': '2243290295732269'}, 'recipient': {'id': '291049961575900'}, 'timestamp': 1551401029775, 'delivery': {'mids': ['qroOU0BoPDANCLZU33kneRJLljvY0SoaK8iaUz34bW76CYthjT-UXAaXnN8fGCMIjPUsrtTzSXrG3WeygTt2TA'], 'watermark': 1551401028794, 'seq': 0}}]}]}\n"
     ]
    },
    {
     "name": "stderr",
     "output_type": "stream",
     "text": [
      "127.0.0.1 - - [28/Feb/2019 18:43:37] \"POST / HTTP/1.1\" 200 -\n"
     ]
    },
    {
     "name": "stdout",
     "output_type": "stream",
     "text": [
      "\n",
      "_________________________________________________________________________________________________________________________\n",
      "Mesaje de la API de Facebook->  {'object': 'page', 'entry': [{'id': '291049961575900', 'time': 1551401040717, 'messaging': [{'recipient': {'id': '291049961575900'}, 'timestamp': 1551401040717, 'sender': {'id': '2243290295732269'}, 'postback': {'payload': 'abrigo1', 'title': 'Comprar'}}]}]}\n",
      "\n",
      "_________________________________________________________________________________________________________________________\n",
      "Mensaje enviado al Nucleo Logico->  {\"payload\": [{\"robot\": \"none\", \"id_face\": \"291049961575900\", \"recipient_id\": \"2243290295732269\", \"access_token\": \"none\", \"content\": \"abrigo1\", \"state\": \"none\", \"blocktype\": \"none\", \"opciones\": \"none\", \"entitites\": \" \", \"entities\": {}}]}\n",
      "\n",
      "_________________________________________________________________________________________________________________________\n",
      "Respuesta del Nucleo Logico->  {'Respuesta': [{'content': 'Elige una opción', 'next_id': 'ConsultarRopa,Salida', 'blockType': 'quickReply', 'contentType': ' ', 'typingTime': '2', 'payload': [{'content': '', 'state': 'OpMenuNext', 'recipient_id': '2243290295732269', 'entities': {'VarCompras': {'blusa3': 1, 'abrigo1': 2}}, 'access_token': 'EAAPZA7ZCigC6IBALcAo5n0UBPBe5Ez537LrQMq0V3RkhxvxER0YyvTqKwdndecuBqhygPfa2kfbZACS0YD5ZCu8n3pLrZA3ZC7mK1547NTtQsZCYTcpJFFM8TGFTpzjgSclusyvAMM1W0FAu3D8D5oZAIDZB8zJuQeuP4Rk5e9IpZBGE5EuZBj10CXu'}], 'options': ['Ver más ropa', 'Finalizar compra'], 'default_id': 'OpMenuNext', 'save_var': 'false'}]}\n",
      "\n",
      "_________________________________________________________________________________________________________________________\n",
      "Mensaje enviado a la API de  Facebook\n",
      "request_endpoint->  https://graph.facebook.com/v2.6/me/messages\n",
      "ruta-> {'access_token': 'EAAPZA7ZCigC6IBALcAo5n0UBPBe5Ez537LrQMq0V3RkhxvxER0YyvTqKwdndecuBqhygPfa2kfbZACS0YD5ZCu8n3pLrZA3ZC7mK1547NTtQsZCYTcpJFFM8TGFTpzjgSclusyvAMM1W0FAu3D8D5oZAIDZB8zJuQeuP4Rk5e9IpZBGE5EuZBj10CXu'}\n",
      "payload->  {'message': {'attachment': {'type': 'template', 'payload': {'template_type': 'button', 'text': 'Elige una opción', 'buttons': [{'title': 'Ver más ropa', 'type': 'postback', 'payload': 'Ver más ropa'}, {'title': 'Finalizar compra', 'type': 'postback', 'payload': 'Finalizar compra'}]}}}, 'recipient': {'id': '2243290295732269'}, 'notification_type': 'REGULAR'}\n"
     ]
    },
    {
     "name": "stderr",
     "output_type": "stream",
     "text": [
      "127.0.0.1 - - [28/Feb/2019 18:43:38] \"POST / HTTP/1.1\" 200 -\n",
      "127.0.0.1 - - [28/Feb/2019 18:43:38] \"POST / HTTP/1.1\" 200 -\n"
     ]
    },
    {
     "name": "stdout",
     "output_type": "stream",
     "text": [
      "\n",
      "_________________________________________________________________________________________________________________________\n",
      "Mesaje de la API de Facebook->  {'object': 'page', 'entry': [{'id': '291049961575900', 'time': 1551401042384, 'messaging': [{'sender': {'id': '2243290295732269'}, 'recipient': {'id': '291049961575900'}, 'timestamp': 1551401042372, 'delivery': {'mids': ['lB04EwyIb6Ujk9Quk2E5bBJLljvY0SoaK8iaUz34bW7cm732tbEaIjt6SxJQyK9IQGIlpBiO4zzkaOGgdHoL_Q'], 'watermark': 1551401042058, 'seq': 0}}]}]}\n",
      "\n",
      "_________________________________________________________________________________________________________________________\n",
      "Mesaje de la API de Facebook->  {'object': 'page', 'entry': [{'id': '291049961575900', 'time': 1551401042512, 'messaging': [{'sender': {'id': '2243290295732269'}, 'recipient': {'id': '291049961575900'}, 'timestamp': 1551401042496, 'delivery': {'mids': ['lB04EwyIb6Ujk9Quk2E5bBJLljvY0SoaK8iaUz34bW7cm732tbEaIjt6SxJQyK9IQGIlpBiO4zzkaOGgdHoL_Q'], 'watermark': 1551401042058, 'seq': 0}}]}]}\n"
     ]
    },
    {
     "name": "stderr",
     "output_type": "stream",
     "text": [
      "127.0.0.1 - - [28/Feb/2019 18:43:41] \"POST / HTTP/1.1\" 200 -\n"
     ]
    },
    {
     "name": "stdout",
     "output_type": "stream",
     "text": [
      "\n",
      "_________________________________________________________________________________________________________________________\n",
      "Mesaje de la API de Facebook->  {'object': 'page', 'entry': [{'id': '291049961575900', 'time': 1551401044982, 'messaging': [{'recipient': {'id': '291049961575900'}, 'timestamp': 1551401044982, 'sender': {'id': '2243290295732269'}, 'postback': {'payload': 'Finalizar compra', 'title': 'Finalizar compra'}}]}]}\n",
      "\n",
      "_________________________________________________________________________________________________________________________\n",
      "Mensaje enviado al Nucleo Logico->  {\"payload\": [{\"robot\": \"none\", \"id_face\": \"291049961575900\", \"recipient_id\": \"2243290295732269\", \"access_token\": \"none\", \"content\": \"Finalizar compra\", \"state\": \"none\", \"blocktype\": \"none\", \"opciones\": \"none\", \"entitites\": \" \", \"entities\": {}}]}\n",
      "\n",
      "_________________________________________________________________________________________________________________________\n",
      "Respuesta del Nucleo Logico->  {'Respuesta': [{'content': 'Gracias por su compra', 'next_id': 'OpMenu', 'blockType': 'informativo', 'contentType': 'text', 'typingTime': '2', 'payload': [{'content': '', 'state': 'Salida', 'recipient_id': '2243290295732269', 'entities': {'VarCompras': {'blusa3': 1, 'abrigo1': 2}}, 'access_token': 'EAAPZA7ZCigC6IBALcAo5n0UBPBe5Ez537LrQMq0V3RkhxvxER0YyvTqKwdndecuBqhygPfa2kfbZACS0YD5ZCu8n3pLrZA3ZC7mK1547NTtQsZCYTcpJFFM8TGFTpzjgSclusyvAMM1W0FAu3D8D5oZAIDZB8zJuQeuP4Rk5e9IpZBGE5EuZBj10CXu'}]}]}\n",
      "\n",
      "_________________________________________________________________________________________________________________________\n",
      "Mensaje enviado a la API de  Facebook\n",
      "request_endpoint->  https://graph.facebook.com/v2.6/me/messages\n",
      "ruta-> {'access_token': 'EAAPZA7ZCigC6IBALcAo5n0UBPBe5Ez537LrQMq0V3RkhxvxER0YyvTqKwdndecuBqhygPfa2kfbZACS0YD5ZCu8n3pLrZA3ZC7mK1547NTtQsZCYTcpJFFM8TGFTpzjgSclusyvAMM1W0FAu3D8D5oZAIDZB8zJuQeuP4Rk5e9IpZBGE5EuZBj10CXu'}\n",
      "payload->  {'message': {'text': 'Gracias por su compra'}, 'recipient': {'id': '2243290295732269'}, 'notification_type': 'REGULAR'}\n"
     ]
    },
    {
     "name": "stderr",
     "output_type": "stream",
     "text": [
      "127.0.0.1 - - [28/Feb/2019 18:43:42] \"POST / HTTP/1.1\" 200 -\n",
      "127.0.0.1 - - [28/Feb/2019 18:43:42] \"POST / HTTP/1.1\" 200 -\n"
     ]
    },
    {
     "name": "stdout",
     "output_type": "stream",
     "text": [
      "\n",
      "_________________________________________________________________________________________________________________________\n",
      "Mesaje de la API de Facebook->  {'object': 'page', 'entry': [{'id': '291049961575900', 'time': 1551401046447, 'messaging': [{'sender': {'id': '2243290295732269'}, 'recipient': {'id': '291049961575900'}, 'timestamp': 1551401046434, 'delivery': {'mids': ['hE0Wp_vzuxLevZ73fhSl7hJLljvY0SoaK8iaUz34bW4E7pZsfJv2jyS13WAXNOC8DhnHtFVrWNWWQnq4e3aUXQ'], 'watermark': 1551401046097, 'seq': 0}}]}]}\n",
      "\n",
      "_________________________________________________________________________________________________________________________\n",
      "Mesaje de la API de Facebook->  {'object': 'page', 'entry': [{'id': '291049961575900', 'time': 1551401046531, 'messaging': [{'sender': {'id': '2243290295732269'}, 'recipient': {'id': '291049961575900'}, 'timestamp': 1551401046519, 'delivery': {'mids': ['hE0Wp_vzuxLevZ73fhSl7hJLljvY0SoaK8iaUz34bW4E7pZsfJv2jyS13WAXNOC8DhnHtFVrWNWWQnq4e3aUXQ'], 'watermark': 1551401046097, 'seq': 0}}]}]}\n"
     ]
    },
    {
     "name": "stderr",
     "output_type": "stream",
     "text": [
      "127.0.0.1 - - [28/Feb/2019 18:44:34] \"POST / HTTP/1.1\" 200 -\n"
     ]
    },
    {
     "name": "stdout",
     "output_type": "stream",
     "text": [
      "\n",
      "_________________________________________________________________________________________________________________________\n",
      "Mesaje de la API de Facebook->  {'object': 'page', 'entry': [{'id': '291049961575900', 'time': 1551401097816, 'messaging': [{'sender': {'id': '2243290295732269'}, 'recipient': {'id': '291049961575900'}, 'timestamp': 1551401097346, 'message': {'mid': 'bbfUJpXW8vkUufTyhlgxkxJLljvY0SoaK8iaUz34bW60nnGv8fECB83__7kTqqeFm8eN4y27jsin--lijaBvUw', 'seq': 819, 'text': 'hi'}}]}]}\n",
      "\n",
      "_________________________________________________________________________________________________________________________\n",
      "Mensaje enviado al Nucleo Logico->  {\"payload\": [{\"robot\": \"none\", \"id_face\": \"291049961575900\", \"recipient_id\": \"2243290295732269\", \"access_token\": \"none\", \"content\": \"hi\", \"state\": \"none\", \"blocktype\": \"none\", \"opciones\": \"none\", \"entitites\": \" \", \"entities\": {}}]}\n",
      "\n",
      "_________________________________________________________________________________________________________________________\n",
      "Respuesta del Nucleo Logico->  {'Respuesta': [{'content': 'Mira lo que podemos hacer', 'next_id': 'ConsultarRopa,Queja', 'blockType': 'quickReply', 'contentType': ' ', 'typingTime': '2', 'payload': [{'content': '', 'state': 'OpMenu', 'recipient_id': '2243290295732269', 'entities': {'VarCompras': {'blusa3': 1, 'abrigo1': 2}}, 'access_token': 'EAAPZA7ZCigC6IBALcAo5n0UBPBe5Ez537LrQMq0V3RkhxvxER0YyvTqKwdndecuBqhygPfa2kfbZACS0YD5ZCu8n3pLrZA3ZC7mK1547NTtQsZCYTcpJFFM8TGFTpzjgSclusyvAMM1W0FAu3D8D5oZAIDZB8zJuQeuP4Rk5e9IpZBGE5EuZBj10CXu'}], 'options': ['Consutar ropa', 'Poner queja'], 'default_id': 'OpMenuDefault', 'save_var': 'false'}]}\n",
      "\n",
      "_________________________________________________________________________________________________________________________\n",
      "Mensaje enviado a la API de  Facebook\n",
      "request_endpoint->  https://graph.facebook.com/v2.6/me/messages\n",
      "ruta-> {'access_token': 'EAAPZA7ZCigC6IBALcAo5n0UBPBe5Ez537LrQMq0V3RkhxvxER0YyvTqKwdndecuBqhygPfa2kfbZACS0YD5ZCu8n3pLrZA3ZC7mK1547NTtQsZCYTcpJFFM8TGFTpzjgSclusyvAMM1W0FAu3D8D5oZAIDZB8zJuQeuP4Rk5e9IpZBGE5EuZBj10CXu'}\n",
      "payload->  {'message': {'attachment': {'type': 'template', 'payload': {'template_type': 'button', 'text': 'Mira lo que podemos hacer', 'buttons': [{'title': 'Consutar ropa', 'type': 'postback', 'payload': 'Consutar ropa'}, {'title': 'Poner queja', 'type': 'postback', 'payload': 'Poner queja'}]}}}, 'recipient': {'id': '2243290295732269'}, 'notification_type': 'REGULAR'}\n"
     ]
    },
    {
     "name": "stderr",
     "output_type": "stream",
     "text": [
      "127.0.0.1 - - [28/Feb/2019 18:44:35] \"POST / HTTP/1.1\" 200 -\n",
      "127.0.0.1 - - [28/Feb/2019 18:44:35] \"POST / HTTP/1.1\" 200 -\n"
     ]
    },
    {
     "name": "stdout",
     "output_type": "stream",
     "text": [
      "\n",
      "_________________________________________________________________________________________________________________________\n",
      "Mesaje de la API de Facebook->  {'object': 'page', 'entry': [{'id': '291049961575900', 'time': 1551401099116, 'messaging': [{'sender': {'id': '2243290295732269'}, 'recipient': {'id': '291049961575900'}, 'timestamp': 1551401099103, 'delivery': {'mids': ['SmblLZGW0kNr5UIAxmqO3xJLljvY0SoaK8iaUz34bW7WE1kaAAKFQNb_or63VI2VJ6o2Ke82In6jqSKrO4j6LA'], 'watermark': 1551401098751, 'seq': 0}}]}]}\n",
      "\n",
      "_________________________________________________________________________________________________________________________\n",
      "Mesaje de la API de Facebook->  {'object': 'page', 'entry': [{'id': '291049961575900', 'time': 1551401099217, 'messaging': [{'sender': {'id': '2243290295732269'}, 'recipient': {'id': '291049961575900'}, 'timestamp': 1551401099205, 'delivery': {'mids': ['SmblLZGW0kNr5UIAxmqO3xJLljvY0SoaK8iaUz34bW7WE1kaAAKFQNb_or63VI2VJ6o2Ke82In6jqSKrO4j6LA'], 'watermark': 1551401098751, 'seq': 0}}]}]}\n"
     ]
    },
    {
     "name": "stderr",
     "output_type": "stream",
     "text": [
      "127.0.0.1 - - [28/Feb/2019 18:45:05] \"POST / HTTP/1.1\" 200 -\n"
     ]
    },
    {
     "name": "stdout",
     "output_type": "stream",
     "text": [
      "\n",
      "_________________________________________________________________________________________________________________________\n",
      "Mesaje de la API de Facebook->  {'object': 'page', 'entry': [{'id': '291049961575900', 'time': 1551401128430, 'messaging': [{'recipient': {'id': '291049961575900'}, 'timestamp': 1551401128430, 'sender': {'id': '2243290295732269'}, 'postback': {'payload': 'Consutar ropa', 'title': 'Consutar ropa'}}]}]}\n",
      "\n",
      "_________________________________________________________________________________________________________________________\n",
      "Mensaje enviado al Nucleo Logico->  {\"payload\": [{\"robot\": \"none\", \"id_face\": \"291049961575900\", \"recipient_id\": \"2243290295732269\", \"access_token\": \"none\", \"content\": \"Consutar ropa\", \"state\": \"none\", \"blocktype\": \"none\", \"opciones\": \"none\", \"entitites\": \" \", \"entities\": {}}]}\n",
      "\n",
      "_________________________________________________________________________________________________________________________\n",
      "Respuesta del Nucleo Logico->  {'Respuesta': [{'content': [{'title': 'Abrigo de Mujer', 'image_url': 'https://images-eu.ssl-images-amazon.com/images/I/51TAka+KMsL._AC_UL260_SR200,260_.jpg', 'subtitle': 'Algodón, manga larga.  Precio: $100', 'buttons': [{'titleButton': 'Comprar', 'typeButton': 'postback', 'payloadButton': 'abrigo1'}]}, {'title': 'Chamarra para Hombre', 'image_url': 'https://http2.mlstatic.com/D_NP_858171-MLM27196959024_042018-Q.jpg', 'subtitle': 'Chamarra de cuero.  Precio: $50', 'buttons': [{'titleButton': 'Comprar', 'typeButton': 'postback', 'payloadButton': 'camarra2'}]}, {'title': 'Blusa', 'image_url': 'https://www.directoriotextil.com/custom/domain_1/image_files/sitemgr_photo_13825.png', 'subtitle': 'Blusa de chifon.  Precio: $40', 'buttons': [{'titleButton': 'Comprar', 'typeButton': 'postback', 'payloadButton': 'blusa3'}]}], 'next_id': 'OpMenuNext', 'blockType': 'slideBuy', 'contentType': ' ', 'typingTime': '2', 'payload': [{'content': '', 'state': 'ConsultarRopa', 'recipient_id': '2243290295732269', 'entities': {'VarCompras': {'blusa3': 1, 'abrigo1': 2}}, 'access_token': 'EAAPZA7ZCigC6IBALcAo5n0UBPBe5Ez537LrQMq0V3RkhxvxER0YyvTqKwdndecuBqhygPfa2kfbZACS0YD5ZCu8n3pLrZA3ZC7mK1547NTtQsZCYTcpJFFM8TGFTpzjgSclusyvAMM1W0FAu3D8D5oZAIDZB8zJuQeuP4Rk5e9IpZBGE5EuZBj10CXu'}], 'default_id': 'OpMenuDefault', 'save_var': 'VarCompras'}]}\n",
      "\n",
      "_________________________________________________________________________________________________________________________\n",
      "Mensaje enviado a la API de  Facebook\n",
      "request_endpoint->  https://graph.facebook.com/v2.6/me/messages\n",
      "ruta-> {'access_token': 'EAAPZA7ZCigC6IBALcAo5n0UBPBe5Ez537LrQMq0V3RkhxvxER0YyvTqKwdndecuBqhygPfa2kfbZACS0YD5ZCu8n3pLrZA3ZC7mK1547NTtQsZCYTcpJFFM8TGFTpzjgSclusyvAMM1W0FAu3D8D5oZAIDZB8zJuQeuP4Rk5e9IpZBGE5EuZBj10CXu'}\n",
      "payload->  {'recipient': {'id': '2243290295732269'}, 'message': {'attachment': {'type': 'template', 'payload': {'template_type': 'generic', 'elements': [{'title': 'Abrigo de Mujer', 'image_url': 'https://images-eu.ssl-images-amazon.com/images/I/51TAka+KMsL._AC_UL260_SR200,260_.jpg', 'subtitle': 'Algodón, manga larga.  Precio: $100', 'buttons': [{'title': 'Comprar', 'type': 'postback', 'payload': 'abrigo1'}]}, {'title': 'Chamarra para Hombre', 'image_url': 'https://http2.mlstatic.com/D_NP_858171-MLM27196959024_042018-Q.jpg', 'subtitle': 'Chamarra de cuero.  Precio: $50', 'buttons': [{'title': 'Comprar', 'type': 'postback', 'payload': 'camarra2'}]}, {'title': 'Blusa', 'image_url': 'https://www.directoriotextil.com/custom/domain_1/image_files/sitemgr_photo_13825.png', 'subtitle': 'Blusa de chifon.  Precio: $40', 'buttons': [{'title': 'Comprar', 'type': 'postback', 'payload': 'blusa3'}]}]}}}, 'notification_type': 'REGULAR'}\n"
     ]
    },
    {
     "name": "stderr",
     "output_type": "stream",
     "text": [
      "127.0.0.1 - - [28/Feb/2019 18:45:07] \"POST / HTTP/1.1\" 200 -\n",
      "127.0.0.1 - - [28/Feb/2019 18:45:07] \"POST / HTTP/1.1\" 200 -\n"
     ]
    },
    {
     "name": "stdout",
     "output_type": "stream",
     "text": [
      "\n",
      "_________________________________________________________________________________________________________________________\n",
      "Mesaje de la API de Facebook->  {'object': 'page', 'entry': [{'id': '291049961575900', 'time': 1551401131114, 'messaging': [{'sender': {'id': '2243290295732269'}, 'recipient': {'id': '291049961575900'}, 'timestamp': 1551401131101, 'delivery': {'mids': ['UYFQ-HFNRsouoErO_8EZHBJLljvY0SoaK8iaUz34bW6Yrom4VnKwIYanAFIaCMBLA5JMqcisGOjWeAZ384XlNw'], 'watermark': 1551401129851, 'seq': 0}}]}]}\n",
      "\n",
      "_________________________________________________________________________________________________________________________\n",
      "Mesaje de la API de Facebook->  {'object': 'page', 'entry': [{'id': '291049961575900', 'time': 1551401131191, 'messaging': [{'sender': {'id': '2243290295732269'}, 'recipient': {'id': '291049961575900'}, 'timestamp': 1551401131178, 'delivery': {'mids': ['UYFQ-HFNRsouoErO_8EZHBJLljvY0SoaK8iaUz34bW6Yrom4VnKwIYanAFIaCMBLA5JMqcisGOjWeAZ384XlNw'], 'watermark': 1551401129851, 'seq': 0}}]}]}\n"
     ]
    },
    {
     "name": "stderr",
     "output_type": "stream",
     "text": [
      "127.0.0.1 - - [28/Feb/2019 18:45:11] \"POST / HTTP/1.1\" 200 -\n"
     ]
    },
    {
     "name": "stdout",
     "output_type": "stream",
     "text": [
      "\n",
      "_________________________________________________________________________________________________________________________\n",
      "Mesaje de la API de Facebook->  {'object': 'page', 'entry': [{'id': '291049961575900', 'time': 1551401134836, 'messaging': [{'sender': {'id': '2243290295732269'}, 'recipient': {'id': '291049961575900'}, 'timestamp': 1551401134439, 'message': {'mid': '8wdBrHNcE9DFl5-YPVaLlBJLljvY0SoaK8iaUz34bW6JuqudP28oJvOjVqoiYtjap1Rx9Yq6MyVuW1utmnqstw', 'seq': 829, 'text': 'nada'}}]}]}\n",
      "\n",
      "_________________________________________________________________________________________________________________________\n",
      "Mensaje enviado al Nucleo Logico->  {\"payload\": [{\"robot\": \"none\", \"id_face\": \"291049961575900\", \"recipient_id\": \"2243290295732269\", \"access_token\": \"none\", \"content\": \"nada\", \"state\": \"none\", \"blocktype\": \"none\", \"opciones\": \"none\", \"entitites\": \" \", \"entities\": {}}]}\n",
      "\n",
      "_________________________________________________________________________________________________________________________\n",
      "Respuesta del Nucleo Logico->  {'Respuesta': [{'content': 'Escoge una opción, gracias', 'next_id': 'OpMenu', 'blockType': 'informativio', 'contentType': 'text', 'typingTime': '1', 'payload': [{'content': '', 'state': 'OpMenuDefault', 'recipient_id': '2243290295732269', 'entities': {'VarCompras': {'blusa3': 1, 'abrigo1': 2}}, 'access_token': 'EAAPZA7ZCigC6IBALcAo5n0UBPBe5Ez537LrQMq0V3RkhxvxER0YyvTqKwdndecuBqhygPfa2kfbZACS0YD5ZCu8n3pLrZA3ZC7mK1547NTtQsZCYTcpJFFM8TGFTpzjgSclusyvAMM1W0FAu3D8D5oZAIDZB8zJuQeuP4Rk5e9IpZBGE5EuZBj10CXu'}]}]}\n"
     ]
    },
    {
     "name": "stderr",
     "output_type": "stream",
     "text": [
      "127.0.0.1 - - [28/Feb/2019 18:48:07] \"POST / HTTP/1.1\" 200 -\n"
     ]
    },
    {
     "name": "stdout",
     "output_type": "stream",
     "text": [
      "\n",
      "_________________________________________________________________________________________________________________________\n",
      "Mesaje de la API de Facebook->  {'object': 'page', 'entry': [{'id': '291049961575900', 'time': 1551401311515, 'messaging': [{'sender': {'id': '2243290295732269'}, 'recipient': {'id': '291049961575900'}, 'timestamp': 1551401311122, 'message': {'mid': 'UdRl2Gm-2tQVlqYd2DJgVRJLljvY0SoaK8iaUz34bW4aCAZJjDaoKcnTFyV6Vj89iy_rUs2i_NPP2CmbgnGpGQ', 'seq': 831, 'text': 'hola'}}]}]}\n",
      "\n",
      "_________________________________________________________________________________________________________________________\n",
      "Mensaje enviado al Nucleo Logico->  {\"payload\": [{\"robot\": \"none\", \"id_face\": \"291049961575900\", \"recipient_id\": \"2243290295732269\", \"access_token\": \"none\", \"content\": \"hola\", \"state\": \"none\", \"blocktype\": \"none\", \"opciones\": \"none\", \"entitites\": \" \", \"entities\": {}}]}\n",
      "\n",
      "_________________________________________________________________________________________________________________________\n",
      "Respuesta del Nucleo Logico->  {'Respuesta': [{'content': 'Mira lo que podemos hacer', 'next_id': 'ConsultarRopa,Queja', 'blockType': 'quickReply', 'contentType': ' ', 'typingTime': '2', 'payload': [{'content': '', 'state': 'OpMenu', 'recipient_id': '2243290295732269', 'entities': {'VarCompras': {'blusa3': 1, 'abrigo1': 2}}, 'access_token': 'EAAPZA7ZCigC6IBALcAo5n0UBPBe5Ez537LrQMq0V3RkhxvxER0YyvTqKwdndecuBqhygPfa2kfbZACS0YD5ZCu8n3pLrZA3ZC7mK1547NTtQsZCYTcpJFFM8TGFTpzjgSclusyvAMM1W0FAu3D8D5oZAIDZB8zJuQeuP4Rk5e9IpZBGE5EuZBj10CXu'}], 'options': ['Consutar ropa', 'Poner queja'], 'default_id': 'OpMenuDefault', 'save_var': 'false'}]}\n",
      "\n",
      "_________________________________________________________________________________________________________________________\n",
      "Mensaje enviado a la API de  Facebook\n",
      "request_endpoint->  https://graph.facebook.com/v2.6/me/messages\n",
      "ruta-> {'access_token': 'EAAPZA7ZCigC6IBALcAo5n0UBPBe5Ez537LrQMq0V3RkhxvxER0YyvTqKwdndecuBqhygPfa2kfbZACS0YD5ZCu8n3pLrZA3ZC7mK1547NTtQsZCYTcpJFFM8TGFTpzjgSclusyvAMM1W0FAu3D8D5oZAIDZB8zJuQeuP4Rk5e9IpZBGE5EuZBj10CXu'}\n",
      "payload->  {'message': {'attachment': {'type': 'template', 'payload': {'template_type': 'button', 'text': 'Mira lo que podemos hacer', 'buttons': [{'title': 'Consutar ropa', 'type': 'postback', 'payload': 'Consutar ropa'}, {'title': 'Poner queja', 'type': 'postback', 'payload': 'Poner queja'}]}}}, 'recipient': {'id': '2243290295732269'}, 'notification_type': 'REGULAR'}\n"
     ]
    },
    {
     "name": "stderr",
     "output_type": "stream",
     "text": [
      "127.0.0.1 - - [28/Feb/2019 18:48:09] \"POST / HTTP/1.1\" 200 -\n",
      "127.0.0.1 - - [28/Feb/2019 18:48:09] \"POST / HTTP/1.1\" 200 -\n"
     ]
    },
    {
     "name": "stdout",
     "output_type": "stream",
     "text": [
      "\n",
      "_________________________________________________________________________________________________________________________\n",
      "Mesaje de la API de Facebook->  {'object': 'page', 'entry': [{'id': '291049961575900', 'time': 1551401312983, 'messaging': [{'sender': {'id': '2243290295732269'}, 'recipient': {'id': '291049961575900'}, 'timestamp': 1551401312920, 'delivery': {'mids': ['TPHRmRiBJZE565844wHMYBJLljvY0SoaK8iaUz34bW64myiUm4dCV_py6gNDDNnoWRlqg3yZvNLp8jH3T_3tAg'], 'watermark': 1551401312587, 'seq': 0}}]}]}\n",
      "\n",
      "_________________________________________________________________________________________________________________________\n",
      "Mesaje de la API de Facebook->  {'object': 'page', 'entry': [{'id': '291049961575900', 'time': 1551401313044, 'messaging': [{'sender': {'id': '2243290295732269'}, 'recipient': {'id': '291049961575900'}, 'timestamp': 1551401313031, 'delivery': {'mids': ['TPHRmRiBJZE565844wHMYBJLljvY0SoaK8iaUz34bW64myiUm4dCV_py6gNDDNnoWRlqg3yZvNLp8jH3T_3tAg'], 'watermark': 1551401312587, 'seq': 0}}]}]}\n"
     ]
    },
    {
     "name": "stderr",
     "output_type": "stream",
     "text": [
      "127.0.0.1 - - [28/Feb/2019 18:48:13] \"POST / HTTP/1.1\" 200 -\n"
     ]
    },
    {
     "name": "stdout",
     "output_type": "stream",
     "text": [
      "\n",
      "_________________________________________________________________________________________________________________________\n",
      "Mesaje de la API de Facebook->  {'object': 'page', 'entry': [{'id': '291049961575900', 'time': 1551401316633, 'messaging': [{'recipient': {'id': '291049961575900'}, 'timestamp': 1551401316633, 'sender': {'id': '2243290295732269'}, 'postback': {'payload': 'Consutar ropa', 'title': 'Consutar ropa'}}]}]}\n",
      "\n",
      "_________________________________________________________________________________________________________________________\n",
      "Mensaje enviado al Nucleo Logico->  {\"payload\": [{\"robot\": \"none\", \"id_face\": \"291049961575900\", \"recipient_id\": \"2243290295732269\", \"access_token\": \"none\", \"content\": \"Consutar ropa\", \"state\": \"none\", \"blocktype\": \"none\", \"opciones\": \"none\", \"entitites\": \" \", \"entities\": {}}]}\n",
      "\n",
      "_________________________________________________________________________________________________________________________\n",
      "Respuesta del Nucleo Logico->  {'Respuesta': [{'content': [{'title': 'Abrigo de Mujer', 'image_url': 'https://images-eu.ssl-images-amazon.com/images/I/51TAka+KMsL._AC_UL260_SR200,260_.jpg', 'subtitle': 'Algodón, manga larga.  Precio: $100', 'buttons': [{'titleButton': 'Comprar', 'typeButton': 'postback', 'payloadButton': 'abrigo1'}]}, {'title': 'Chamarra para Hombre', 'image_url': 'https://http2.mlstatic.com/D_NP_858171-MLM27196959024_042018-Q.jpg', 'subtitle': 'Chamarra de cuero.  Precio: $50', 'buttons': [{'titleButton': 'Comprar', 'typeButton': 'postback', 'payloadButton': 'camarra2'}]}, {'title': 'Blusa', 'image_url': 'https://www.directoriotextil.com/custom/domain_1/image_files/sitemgr_photo_13825.png', 'subtitle': 'Blusa de chifon.  Precio: $40', 'buttons': [{'titleButton': 'Comprar', 'typeButton': 'postback', 'payloadButton': 'blusa3'}]}], 'next_id': 'OpMenuNext', 'blockType': 'slideBuy', 'contentType': ' ', 'typingTime': '2', 'payload': [{'content': '', 'state': 'ConsultarRopa', 'recipient_id': '2243290295732269', 'entities': {'VarCompras': {'blusa3': 1, 'abrigo1': 2}}, 'access_token': 'EAAPZA7ZCigC6IBALcAo5n0UBPBe5Ez537LrQMq0V3RkhxvxER0YyvTqKwdndecuBqhygPfa2kfbZACS0YD5ZCu8n3pLrZA3ZC7mK1547NTtQsZCYTcpJFFM8TGFTpzjgSclusyvAMM1W0FAu3D8D5oZAIDZB8zJuQeuP4Rk5e9IpZBGE5EuZBj10CXu'}], 'default_id': 'OpMenuDefault', 'save_var': 'VarCompras'}]}\n",
      "\n",
      "_________________________________________________________________________________________________________________________\n",
      "Mensaje enviado a la API de  Facebook\n",
      "request_endpoint->  https://graph.facebook.com/v2.6/me/messages\n",
      "ruta-> {'access_token': 'EAAPZA7ZCigC6IBALcAo5n0UBPBe5Ez537LrQMq0V3RkhxvxER0YyvTqKwdndecuBqhygPfa2kfbZACS0YD5ZCu8n3pLrZA3ZC7mK1547NTtQsZCYTcpJFFM8TGFTpzjgSclusyvAMM1W0FAu3D8D5oZAIDZB8zJuQeuP4Rk5e9IpZBGE5EuZBj10CXu'}\n",
      "payload->  {'recipient': {'id': '2243290295732269'}, 'message': {'attachment': {'type': 'template', 'payload': {'template_type': 'generic', 'elements': [{'title': 'Abrigo de Mujer', 'image_url': 'https://images-eu.ssl-images-amazon.com/images/I/51TAka+KMsL._AC_UL260_SR200,260_.jpg', 'subtitle': 'Algodón, manga larga.  Precio: $100', 'buttons': [{'title': 'Comprar', 'type': 'postback', 'payload': 'abrigo1'}]}, {'title': 'Chamarra para Hombre', 'image_url': 'https://http2.mlstatic.com/D_NP_858171-MLM27196959024_042018-Q.jpg', 'subtitle': 'Chamarra de cuero.  Precio: $50', 'buttons': [{'title': 'Comprar', 'type': 'postback', 'payload': 'camarra2'}]}, {'title': 'Blusa', 'image_url': 'https://www.directoriotextil.com/custom/domain_1/image_files/sitemgr_photo_13825.png', 'subtitle': 'Blusa de chifon.  Precio: $40', 'buttons': [{'title': 'Comprar', 'type': 'postback', 'payload': 'blusa3'}]}]}}}, 'notification_type': 'REGULAR'}\n"
     ]
    },
    {
     "name": "stderr",
     "output_type": "stream",
     "text": [
      "127.0.0.1 - - [28/Feb/2019 18:48:15] \"POST / HTTP/1.1\" 200 -\n",
      "127.0.0.1 - - [28/Feb/2019 18:48:15] \"POST / HTTP/1.1\" 200 -\n"
     ]
    },
    {
     "name": "stdout",
     "output_type": "stream",
     "text": [
      "\n",
      "_________________________________________________________________________________________________________________________\n",
      "Mesaje de la API de Facebook->  {'object': 'page', 'entry': [{'id': '291049961575900', 'time': 1551401319116, 'messaging': [{'sender': {'id': '2243290295732269'}, 'recipient': {'id': '291049961575900'}, 'timestamp': 1551401319103, 'delivery': {'mids': ['MSNBdltBwo2wqW6HxtP8YxJLljvY0SoaK8iaUz34bW7tN7Qy6X9BxEiiWadVUxOtTPQTmVXDtuyT7epTcgUOcA'], 'watermark': 1551401318070, 'seq': 0}}]}]}\n",
      "\n",
      "_________________________________________________________________________________________________________________________\n",
      "Mesaje de la API de Facebook->  {'object': 'page', 'entry': [{'id': '291049961575900', 'time': 1551401319218, 'messaging': [{'sender': {'id': '2243290295732269'}, 'recipient': {'id': '291049961575900'}, 'timestamp': 1551401319205, 'delivery': {'mids': ['MSNBdltBwo2wqW6HxtP8YxJLljvY0SoaK8iaUz34bW7tN7Qy6X9BxEiiWadVUxOtTPQTmVXDtuyT7epTcgUOcA'], 'watermark': 1551401318070, 'seq': 0}}]}]}\n"
     ]
    },
    {
     "name": "stderr",
     "output_type": "stream",
     "text": [
      "127.0.0.1 - - [28/Feb/2019 18:48:22] \"POST / HTTP/1.1\" 200 -\n"
     ]
    },
    {
     "name": "stdout",
     "output_type": "stream",
     "text": [
      "\n",
      "_________________________________________________________________________________________________________________________\n",
      "Mesaje de la API de Facebook->  {'object': 'page', 'entry': [{'id': '291049961575900', 'time': 1551401326164, 'messaging': [{'sender': {'id': '2243290295732269'}, 'recipient': {'id': '291049961575900'}, 'timestamp': 1551401325764, 'message': {'mid': 'qBMfWL4at-p-sU2Hz5uNNhJLljvY0SoaK8iaUz34bW4iyeah4r8D39wBhr-omx0CwSvwegKtdJu0RlN4IKSMbQ', 'seq': 841, 'text': 'sdfsds'}}]}]}\n",
      "\n",
      "_________________________________________________________________________________________________________________________\n",
      "Mensaje enviado al Nucleo Logico->  {\"payload\": [{\"robot\": \"none\", \"id_face\": \"291049961575900\", \"recipient_id\": \"2243290295732269\", \"access_token\": \"none\", \"content\": \"sdfsds\", \"state\": \"none\", \"blocktype\": \"none\", \"opciones\": \"none\", \"entitites\": \" \", \"entities\": {}}]}\n",
      "\n",
      "_________________________________________________________________________________________________________________________\n",
      "Respuesta del Nucleo Logico->  {'Respuesta': [{'content': 'Escoge una opción, gracias', 'next_id': 'OpMenu', 'blockType': 'informativio', 'contentType': 'text', 'typingTime': '1', 'payload': [{'content': '', 'state': 'OpMenuDefault', 'recipient_id': '2243290295732269', 'entities': {'VarCompras': {'blusa3': 1, 'abrigo1': 2}}, 'access_token': 'EAAPZA7ZCigC6IBALcAo5n0UBPBe5Ez537LrQMq0V3RkhxvxER0YyvTqKwdndecuBqhygPfa2kfbZACS0YD5ZCu8n3pLrZA3ZC7mK1547NTtQsZCYTcpJFFM8TGFTpzjgSclusyvAMM1W0FAu3D8D5oZAIDZB8zJuQeuP4Rk5e9IpZBGE5EuZBj10CXu'}]}]}\n"
     ]
    },
    {
     "name": "stderr",
     "output_type": "stream",
     "text": [
      "127.0.0.1 - - [28/Feb/2019 18:52:02] \"POST / HTTP/1.1\" 200 -\n"
     ]
    },
    {
     "name": "stdout",
     "output_type": "stream",
     "text": [
      "\n",
      "_________________________________________________________________________________________________________________________\n",
      "Mesaje de la API de Facebook->  {'object': 'page', 'entry': [{'id': '291049961575900', 'time': 1551401546019, 'messaging': [{'sender': {'id': '2243290295732269'}, 'recipient': {'id': '291049961575900'}, 'timestamp': 1551401545579, 'message': {'mid': 'RteKm8KiT-3D2UeyuCGvlBJLljvY0SoaK8iaUz34bW6-zV-jMqqNEh08JaNSwjtzq8EMKkBg7EOoW9LDbUtJ3g', 'seq': 843, 'text': 'hola'}}]}]}\n",
      "\n",
      "_________________________________________________________________________________________________________________________\n",
      "Mensaje enviado al Nucleo Logico->  {\"payload\": [{\"robot\": \"none\", \"id_face\": \"291049961575900\", \"recipient_id\": \"2243290295732269\", \"access_token\": \"none\", \"content\": \"hola\", \"state\": \"none\", \"blocktype\": \"none\", \"opciones\": \"none\", \"entitites\": \" \", \"entities\": {}}]}\n",
      "\n",
      "_________________________________________________________________________________________________________________________\n",
      "Respuesta del Nucleo Logico->  {'Respuesta': [{'content': 'Mira lo que podemos hacer', 'next_id': 'ConsultarRopa,Queja', 'blockType': 'quickReply', 'contentType': ' ', 'typingTime': '2', 'payload': [{'content': '', 'state': 'OpMenu', 'recipient_id': '2243290295732269', 'entities': {'VarCompras': {'blusa3': 1, 'abrigo1': 2}}, 'access_token': 'EAAPZA7ZCigC6IBALcAo5n0UBPBe5Ez537LrQMq0V3RkhxvxER0YyvTqKwdndecuBqhygPfa2kfbZACS0YD5ZCu8n3pLrZA3ZC7mK1547NTtQsZCYTcpJFFM8TGFTpzjgSclusyvAMM1W0FAu3D8D5oZAIDZB8zJuQeuP4Rk5e9IpZBGE5EuZBj10CXu'}], 'options': ['Consutar ropa', 'Poner queja'], 'default_id': 'OpMenuDefault', 'save_var': 'false'}]}\n",
      "\n",
      "_________________________________________________________________________________________________________________________\n",
      "Mensaje enviado a la API de  Facebook\n",
      "request_endpoint->  https://graph.facebook.com/v2.6/me/messages\n",
      "ruta-> {'access_token': 'EAAPZA7ZCigC6IBALcAo5n0UBPBe5Ez537LrQMq0V3RkhxvxER0YyvTqKwdndecuBqhygPfa2kfbZACS0YD5ZCu8n3pLrZA3ZC7mK1547NTtQsZCYTcpJFFM8TGFTpzjgSclusyvAMM1W0FAu3D8D5oZAIDZB8zJuQeuP4Rk5e9IpZBGE5EuZBj10CXu'}\n",
      "payload->  {'message': {'attachment': {'type': 'template', 'payload': {'template_type': 'button', 'text': 'Mira lo que podemos hacer', 'buttons': [{'title': 'Consutar ropa', 'type': 'postback', 'payload': 'Consutar ropa'}, {'title': 'Poner queja', 'type': 'postback', 'payload': 'Poner queja'}]}}}, 'recipient': {'id': '2243290295732269'}, 'notification_type': 'REGULAR'}\n"
     ]
    },
    {
     "name": "stderr",
     "output_type": "stream",
     "text": [
      "127.0.0.1 - - [28/Feb/2019 18:52:04] \"POST / HTTP/1.1\" 200 -\n",
      "127.0.0.1 - - [28/Feb/2019 18:52:04] \"POST / HTTP/1.1\" 200 -\n"
     ]
    },
    {
     "name": "stdout",
     "output_type": "stream",
     "text": [
      "\n",
      "_________________________________________________________________________________________________________________________\n",
      "Mesaje de la API de Facebook->  {'object': 'page', 'entry': [{'id': '291049961575900', 'time': 1551401548146, 'messaging': [{'sender': {'id': '2243290295732269'}, 'recipient': {'id': '291049961575900'}, 'timestamp': 1551401548134, 'delivery': {'mids': ['KXJuxY_4hl5NlSnLOWDVYhJLljvY0SoaK8iaUz34bW7Nb6CWpHOxl_CPnfytU_vg0tYX_WLG6fX-eTxAPAqnGQ'], 'watermark': 1551401547218, 'seq': 0}}]}]}\n",
      "\n",
      "_________________________________________________________________________________________________________________________\n",
      "Mesaje de la API de Facebook->  {'object': 'page', 'entry': [{'id': '291049961575900', 'time': 1551401548210, 'messaging': [{'sender': {'id': '2243290295732269'}, 'recipient': {'id': '291049961575900'}, 'timestamp': 1551401548197, 'delivery': {'mids': ['KXJuxY_4hl5NlSnLOWDVYhJLljvY0SoaK8iaUz34bW7Nb6CWpHOxl_CPnfytU_vg0tYX_WLG6fX-eTxAPAqnGQ'], 'watermark': 1551401547218, 'seq': 0}}]}]}\n"
     ]
    },
    {
     "name": "stderr",
     "output_type": "stream",
     "text": [
      "127.0.0.1 - - [28/Feb/2019 18:52:08] \"POST / HTTP/1.1\" 200 -\n"
     ]
    },
    {
     "name": "stdout",
     "output_type": "stream",
     "text": [
      "\n",
      "_________________________________________________________________________________________________________________________\n",
      "Mesaje de la API de Facebook->  {'object': 'page', 'entry': [{'id': '291049961575900', 'time': 1551401551969, 'messaging': [{'recipient': {'id': '291049961575900'}, 'timestamp': 1551401551969, 'sender': {'id': '2243290295732269'}, 'postback': {'payload': 'Consutar ropa', 'title': 'Consutar ropa'}}]}]}\n",
      "\n",
      "_________________________________________________________________________________________________________________________\n",
      "Mensaje enviado al Nucleo Logico->  {\"payload\": [{\"robot\": \"none\", \"id_face\": \"291049961575900\", \"recipient_id\": \"2243290295732269\", \"access_token\": \"none\", \"content\": \"Consutar ropa\", \"state\": \"none\", \"blocktype\": \"none\", \"opciones\": \"none\", \"entitites\": \" \", \"entities\": {}}]}\n",
      "\n",
      "_________________________________________________________________________________________________________________________\n",
      "Respuesta del Nucleo Logico->  {'Respuesta': [{'content': [{'title': 'Abrigo de Mujer', 'image_url': 'https://images-eu.ssl-images-amazon.com/images/I/51TAka+KMsL._AC_UL260_SR200,260_.jpg', 'subtitle': 'Algodón, manga larga.  Precio: $100', 'buttons': [{'titleButton': 'Comprar', 'typeButton': 'postback', 'payloadButton': 'abrigo1'}]}, {'title': 'Chamarra para Hombre', 'image_url': 'https://http2.mlstatic.com/D_NP_858171-MLM27196959024_042018-Q.jpg', 'subtitle': 'Chamarra de cuero.  Precio: $50', 'buttons': [{'titleButton': 'Comprar', 'typeButton': 'postback', 'payloadButton': 'camarra2'}]}, {'title': 'Blusa', 'image_url': 'https://www.directoriotextil.com/custom/domain_1/image_files/sitemgr_photo_13825.png', 'subtitle': 'Blusa de chifon.  Precio: $40', 'buttons': [{'titleButton': 'Comprar', 'typeButton': 'postback', 'payloadButton': 'blusa3'}]}], 'next_id': 'OpMenuNext', 'blockType': 'slideBuy', 'contentType': ' ', 'typingTime': '2', 'payload': [{'content': '', 'state': 'ConsultarRopa', 'recipient_id': '2243290295732269', 'entities': {'VarCompras': {'blusa3': 1, 'abrigo1': 2}}, 'access_token': 'EAAPZA7ZCigC6IBALcAo5n0UBPBe5Ez537LrQMq0V3RkhxvxER0YyvTqKwdndecuBqhygPfa2kfbZACS0YD5ZCu8n3pLrZA3ZC7mK1547NTtQsZCYTcpJFFM8TGFTpzjgSclusyvAMM1W0FAu3D8D5oZAIDZB8zJuQeuP4Rk5e9IpZBGE5EuZBj10CXu'}], 'default_id': 'OpMenuDefault', 'save_var': 'VarCompras'}]}\n",
      "\n",
      "_________________________________________________________________________________________________________________________\n",
      "Mensaje enviado a la API de  Facebook\n",
      "request_endpoint->  https://graph.facebook.com/v2.6/me/messages\n",
      "ruta-> {'access_token': 'EAAPZA7ZCigC6IBALcAo5n0UBPBe5Ez537LrQMq0V3RkhxvxER0YyvTqKwdndecuBqhygPfa2kfbZACS0YD5ZCu8n3pLrZA3ZC7mK1547NTtQsZCYTcpJFFM8TGFTpzjgSclusyvAMM1W0FAu3D8D5oZAIDZB8zJuQeuP4Rk5e9IpZBGE5EuZBj10CXu'}\n",
      "payload->  {'recipient': {'id': '2243290295732269'}, 'message': {'attachment': {'type': 'template', 'payload': {'template_type': 'generic', 'elements': [{'title': 'Abrigo de Mujer', 'image_url': 'https://images-eu.ssl-images-amazon.com/images/I/51TAka+KMsL._AC_UL260_SR200,260_.jpg', 'subtitle': 'Algodón, manga larga.  Precio: $100', 'buttons': [{'title': 'Comprar', 'type': 'postback', 'payload': 'abrigo1'}]}, {'title': 'Chamarra para Hombre', 'image_url': 'https://http2.mlstatic.com/D_NP_858171-MLM27196959024_042018-Q.jpg', 'subtitle': 'Chamarra de cuero.  Precio: $50', 'buttons': [{'title': 'Comprar', 'type': 'postback', 'payload': 'camarra2'}]}, {'title': 'Blusa', 'image_url': 'https://www.directoriotextil.com/custom/domain_1/image_files/sitemgr_photo_13825.png', 'subtitle': 'Blusa de chifon.  Precio: $40', 'buttons': [{'title': 'Comprar', 'type': 'postback', 'payload': 'blusa3'}]}]}}}, 'notification_type': 'REGULAR'}\n"
     ]
    },
    {
     "name": "stderr",
     "output_type": "stream",
     "text": [
      "127.0.0.1 - - [28/Feb/2019 18:52:09] \"POST / HTTP/1.1\" 200 -\n",
      "127.0.0.1 - - [28/Feb/2019 18:52:09] \"POST / HTTP/1.1\" 200 -\n"
     ]
    },
    {
     "name": "stdout",
     "output_type": "stream",
     "text": [
      "\n",
      "_________________________________________________________________________________________________________________________\n",
      "Mesaje de la API de Facebook->  {'object': 'page', 'entry': [{'id': '291049961575900', 'time': 1551401553426, 'messaging': [{'sender': {'id': '2243290295732269'}, 'recipient': {'id': '291049961575900'}, 'timestamp': 1551401553414, 'delivery': {'mids': ['HraZi_Gj3h1Zw3-ANcWxPxJLljvY0SoaK8iaUz34bW7OFyWAjS7bSDwpN24Icm0jCEtPIOtlYS5CWsvdsdN6Dg'], 'watermark': 1551401553051, 'seq': 0}}]}]}\n",
      "\n",
      "_________________________________________________________________________________________________________________________\n",
      "Mesaje de la API de Facebook->  {'object': 'page', 'entry': [{'id': '291049961575900', 'time': 1551401553559, 'messaging': [{'sender': {'id': '2243290295732269'}, 'recipient': {'id': '291049961575900'}, 'timestamp': 1551401553536, 'delivery': {'mids': ['HraZi_Gj3h1Zw3-ANcWxPxJLljvY0SoaK8iaUz34bW7OFyWAjS7bSDwpN24Icm0jCEtPIOtlYS5CWsvdsdN6Dg'], 'watermark': 1551401553051, 'seq': 0}}]}]}\n"
     ]
    },
    {
     "name": "stderr",
     "output_type": "stream",
     "text": [
      "127.0.0.1 - - [28/Feb/2019 18:52:10] \"POST / HTTP/1.1\" 200 -\n"
     ]
    },
    {
     "name": "stdout",
     "output_type": "stream",
     "text": [
      "\n",
      "_________________________________________________________________________________________________________________________\n",
      "Mesaje de la API de Facebook->  {'object': 'page', 'entry': [{'id': '291049961575900', 'time': 1551401554617, 'messaging': [{'sender': {'id': '2243290295732269'}, 'recipient': {'id': '291049961575900'}, 'timestamp': 1551401554051, 'message': {'mid': 'p-ZrdgCiTiRl45MBby6M9BJLljvY0SoaK8iaUz34bW7FRxAWlpCn4_Y6dsFpYrZRgxwi99r05n9giZF784Cd4Q', 'seq': 853, 'text': 'dsdasd'}}]}]}\n",
      "\n",
      "_________________________________________________________________________________________________________________________\n",
      "Mensaje enviado al Nucleo Logico->  {\"payload\": [{\"robot\": \"none\", \"id_face\": \"291049961575900\", \"recipient_id\": \"2243290295732269\", \"access_token\": \"none\", \"content\": \"dsdasd\", \"state\": \"none\", \"blocktype\": \"none\", \"opciones\": \"none\", \"entitites\": \" \", \"entities\": {}}]}\n",
      "\n",
      "_________________________________________________________________________________________________________________________\n",
      "Respuesta del Nucleo Logico->  {'Respuesta': [{'content': 'Escoge una opción, gracias', 'next_id': 'OpMenu', 'blockType': 'informativo', 'contentType': 'text', 'typingTime': '1', 'payload': [{'content': '', 'state': 'OpMenuDefault', 'recipient_id': '2243290295732269', 'entities': {'VarCompras': {'blusa3': 1, 'abrigo1': 2}}, 'access_token': 'EAAPZA7ZCigC6IBALcAo5n0UBPBe5Ez537LrQMq0V3RkhxvxER0YyvTqKwdndecuBqhygPfa2kfbZACS0YD5ZCu8n3pLrZA3ZC7mK1547NTtQsZCYTcpJFFM8TGFTpzjgSclusyvAMM1W0FAu3D8D5oZAIDZB8zJuQeuP4Rk5e9IpZBGE5EuZBj10CXu'}]}]}\n",
      "\n",
      "_________________________________________________________________________________________________________________________\n",
      "Mensaje enviado a la API de  Facebook\n",
      "request_endpoint->  https://graph.facebook.com/v2.6/me/messages\n",
      "ruta-> {'access_token': 'EAAPZA7ZCigC6IBALcAo5n0UBPBe5Ez537LrQMq0V3RkhxvxER0YyvTqKwdndecuBqhygPfa2kfbZACS0YD5ZCu8n3pLrZA3ZC7mK1547NTtQsZCYTcpJFFM8TGFTpzjgSclusyvAMM1W0FAu3D8D5oZAIDZB8zJuQeuP4Rk5e9IpZBGE5EuZBj10CXu'}\n",
      "payload->  {'message': {'text': 'Escoge una opción, gracias'}, 'recipient': {'id': '2243290295732269'}, 'notification_type': 'REGULAR'}\n"
     ]
    },
    {
     "name": "stderr",
     "output_type": "stream",
     "text": [
      "127.0.0.1 - - [28/Feb/2019 18:52:12] \"POST / HTTP/1.1\" 200 -\n",
      "127.0.0.1 - - [28/Feb/2019 18:52:12] \"POST / HTTP/1.1\" 200 -\n"
     ]
    },
    {
     "name": "stdout",
     "output_type": "stream",
     "text": [
      "\n",
      "_________________________________________________________________________________________________________________________\n",
      "Mesaje de la API de Facebook->  \n",
      "_________________________________________________________________________________________________________________________{'object': 'page', 'entry': [{'id': '291049961575900', 'time': 1551401555841, 'messaging': [{'sender': {'id': '2243290295732269'}, 'recipient': {'id': '291049961575900'}, 'timestamp': 1551401555829, 'delivery': {'mids': ['VQRy4PXD1vm8piJmHc2YihJLljvY0SoaK8iaUz34bW5YmmimEk7TORfHuNUET3eAll9qrWBog3bEn9cAmFbPCQ'], 'watermark': 1551401555427, 'seq': 0}}]}]}\n",
      "Mesaje de la API de Facebook->  {'object': 'page', 'entry': [{'id': '291049961575900', 'time': 1551401555845, 'messaging': [{'sender': {'id': '2243290295732269'}, 'recipient': {'id': '291049961575900'}, 'timestamp': 1551401555832, 'delivery': {'mids': ['VQRy4PXD1vm8piJmHc2YihJLljvY0SoaK8iaUz34bW5YmmimEk7TORfHuNUET3eAll9qrWBog3bEn9cAmFbPCQ'], 'watermark': 1551401555427, 'seq': 0}}]}]}\n",
      "\n"
     ]
    },
    {
     "name": "stderr",
     "output_type": "stream",
     "text": [
      "127.0.0.1 - - [28/Feb/2019 18:52:18] \"POST / HTTP/1.1\" 200 -\n"
     ]
    },
    {
     "name": "stdout",
     "output_type": "stream",
     "text": [
      "\n",
      "_________________________________________________________________________________________________________________________\n",
      "Mesaje de la API de Facebook->  {'object': 'page', 'entry': [{'id': '291049961575900', 'time': 1551401561865, 'messaging': [{'sender': {'id': '2243290295732269'}, 'recipient': {'id': '291049961575900'}, 'timestamp': 1551401561469, 'message': {'mid': '4uBjlgJ60VTIPkot_SOyVBJLljvY0SoaK8iaUz34bW5tMGJSA4g98mX8JHXPMya9j2AtHxdScqQguTI_dIjheA', 'seq': 857, 'text': 'ok'}}]}]}\n",
      "\n",
      "_________________________________________________________________________________________________________________________\n",
      "Mensaje enviado al Nucleo Logico->  {\"payload\": [{\"robot\": \"none\", \"id_face\": \"291049961575900\", \"recipient_id\": \"2243290295732269\", \"access_token\": \"none\", \"content\": \"ok\", \"state\": \"none\", \"blocktype\": \"none\", \"opciones\": \"none\", \"entitites\": \" \", \"entities\": {}}]}\n",
      "\n",
      "_________________________________________________________________________________________________________________________\n",
      "Respuesta del Nucleo Logico->  {'Respuesta': [{'content': 'Mira lo que podemos hacer', 'next_id': 'ConsultarRopa,Queja', 'blockType': 'quickReply', 'contentType': ' ', 'typingTime': '2', 'payload': [{'content': '', 'state': 'OpMenu', 'recipient_id': '2243290295732269', 'entities': {'VarCompras': {'blusa3': 1, 'abrigo1': 2}}, 'access_token': 'EAAPZA7ZCigC6IBALcAo5n0UBPBe5Ez537LrQMq0V3RkhxvxER0YyvTqKwdndecuBqhygPfa2kfbZACS0YD5ZCu8n3pLrZA3ZC7mK1547NTtQsZCYTcpJFFM8TGFTpzjgSclusyvAMM1W0FAu3D8D5oZAIDZB8zJuQeuP4Rk5e9IpZBGE5EuZBj10CXu'}], 'options': ['Consutar ropa', 'Poner queja'], 'default_id': 'OpMenuDefault', 'save_var': 'false'}]}\n",
      "\n",
      "_________________________________________________________________________________________________________________________\n",
      "Mensaje enviado a la API de  Facebook\n",
      "request_endpoint->  https://graph.facebook.com/v2.6/me/messages\n",
      "ruta-> {'access_token': 'EAAPZA7ZCigC6IBALcAo5n0UBPBe5Ez537LrQMq0V3RkhxvxER0YyvTqKwdndecuBqhygPfa2kfbZACS0YD5ZCu8n3pLrZA3ZC7mK1547NTtQsZCYTcpJFFM8TGFTpzjgSclusyvAMM1W0FAu3D8D5oZAIDZB8zJuQeuP4Rk5e9IpZBGE5EuZBj10CXu'}\n",
      "payload->  {'message': {'attachment': {'type': 'template', 'payload': {'template_type': 'button', 'text': 'Mira lo que podemos hacer', 'buttons': [{'title': 'Consutar ropa', 'type': 'postback', 'payload': 'Consutar ropa'}, {'title': 'Poner queja', 'type': 'postback', 'payload': 'Poner queja'}]}}}, 'recipient': {'id': '2243290295732269'}, 'notification_type': 'REGULAR'}\n"
     ]
    },
    {
     "name": "stderr",
     "output_type": "stream",
     "text": [
      "127.0.0.1 - - [28/Feb/2019 18:52:19] \"POST / HTTP/1.1\" 200 -\n",
      "127.0.0.1 - - [28/Feb/2019 18:52:19] \"POST / HTTP/1.1\" 200 -\n"
     ]
    },
    {
     "name": "stdout",
     "output_type": "stream",
     "text": [
      "\n",
      "_________________________________________________________________________________________________________________________\n",
      "Mesaje de la API de Facebook->  {'object': 'page', 'entry': [{'id': '291049961575900', 'time': 1551401563397, 'messaging': [{'sender': {'id': '2243290295732269'}, 'recipient': {'id': '291049961575900'}, 'timestamp': 1551401563379, 'delivery': {'mids': ['hBqVVkfX2OtBvhgU49Q9JRJLljvY0SoaK8iaUz34bW6riImCjWkYB6xnJWGtJ_eNBUNCeVuGKX_2xQb-9fS-fw'], 'watermark': 1551401563115, 'seq': 0}}]}]}\n",
      "\n",
      "_________________________________________________________________________________________________________________________\n",
      "Mesaje de la API de Facebook->  {'object': 'page', 'entry': [{'id': '291049961575900', 'time': 1551401563522, 'messaging': [{'sender': {'id': '2243290295732269'}, 'recipient': {'id': '291049961575900'}, 'timestamp': 1551401563510, 'delivery': {'mids': ['hBqVVkfX2OtBvhgU49Q9JRJLljvY0SoaK8iaUz34bW6riImCjWkYB6xnJWGtJ_eNBUNCeVuGKX_2xQb-9fS-fw'], 'watermark': 1551401563115, 'seq': 0}}]}]}\n"
     ]
    },
    {
     "name": "stderr",
     "output_type": "stream",
     "text": [
      "127.0.0.1 - - [28/Feb/2019 18:52:22] \"POST / HTTP/1.1\" 200 -\n"
     ]
    },
    {
     "name": "stdout",
     "output_type": "stream",
     "text": [
      "\n",
      "_________________________________________________________________________________________________________________________\n",
      "Mesaje de la API de Facebook->  {'object': 'page', 'entry': [{'id': '291049961575900', 'time': 1551401565685, 'messaging': [{'recipient': {'id': '291049961575900'}, 'timestamp': 1551401565685, 'sender': {'id': '2243290295732269'}, 'postback': {'payload': 'Poner queja', 'title': 'Poner queja'}}]}]}\n",
      "\n",
      "_________________________________________________________________________________________________________________________\n",
      "Mensaje enviado al Nucleo Logico->  {\"payload\": [{\"robot\": \"none\", \"id_face\": \"291049961575900\", \"recipient_id\": \"2243290295732269\", \"access_token\": \"none\", \"content\": \"Poner queja\", \"state\": \"none\", \"blocktype\": \"none\", \"opciones\": \"none\", \"entitites\": \" \", \"entities\": {}}]}\n",
      "\n",
      "_________________________________________________________________________________________________________________________\n",
      "Respuesta del Nucleo Logico->  {'Respuesta': [{'content': 'Ingresa tu queja', 'next_id': 'SalidaAlterna', 'blockType': 'input', 'contentType': 'text', 'typingTime': '2', 'payload': [{'content': '', 'state': 'Queja', 'recipient_id': '2243290295732269', 'entities': {'VarCompras': {'blusa3': 1, 'abrigo1': 2}}, 'access_token': 'EAAPZA7ZCigC6IBALcAo5n0UBPBe5Ez537LrQMq0V3RkhxvxER0YyvTqKwdndecuBqhygPfa2kfbZACS0YD5ZCu8n3pLrZA3ZC7mK1547NTtQsZCYTcpJFFM8TGFTpzjgSclusyvAMM1W0FAu3D8D5oZAIDZB8zJuQeuP4Rk5e9IpZBGE5EuZBj10CXu'}], 'validacion': '.*', 'Default_id': 'None', 'save_var': 'VarQueja'}]}\n",
      "\n",
      "_________________________________________________________________________________________________________________________\n",
      "Mensaje enviado a la API de  Facebook\n",
      "request_endpoint->  https://graph.facebook.com/v2.6/me/messages\n",
      "ruta-> {'access_token': 'EAAPZA7ZCigC6IBALcAo5n0UBPBe5Ez537LrQMq0V3RkhxvxER0YyvTqKwdndecuBqhygPfa2kfbZACS0YD5ZCu8n3pLrZA3ZC7mK1547NTtQsZCYTcpJFFM8TGFTpzjgSclusyvAMM1W0FAu3D8D5oZAIDZB8zJuQeuP4Rk5e9IpZBGE5EuZBj10CXu'}\n",
      "payload->  {'message': {'text': 'Ingresa tu queja'}, 'recipient': {'id': '2243290295732269'}, 'notification_type': 'REGULAR'}\n"
     ]
    },
    {
     "name": "stderr",
     "output_type": "stream",
     "text": [
      "127.0.0.1 - - [28/Feb/2019 18:52:23] \"POST / HTTP/1.1\" 200 -\n",
      "127.0.0.1 - - [28/Feb/2019 18:52:23] \"POST / HTTP/1.1\" 200 -\n"
     ]
    },
    {
     "name": "stdout",
     "output_type": "stream",
     "text": [
      "\n",
      "_________________________________________________________________________________________________________________________\n",
      "Mesaje de la API de Facebook->  {'object': 'page', 'entry': [{'id': '291049961575900', 'time': 1551401567021, 'messaging': [{'sender': {'id': '2243290295732269'}, 'recipient': {'id': '291049961575900'}, 'timestamp': 1551401567003, 'delivery': {'mids': ['GJgJIH6GKGbtLGB4-8nB9xJLljvY0SoaK8iaUz34bW7Osr3X5PwxTXeOo_nGzmSoZLM-KfSaPsmENks05lm57A'], 'watermark': 1551401566718, 'seq': 0}}]}]}\n",
      "\n",
      "_________________________________________________________________________________________________________________________\n",
      "Mesaje de la API de Facebook->  {'object': 'page', 'entry': [{'id': '291049961575900', 'time': 1551401567119, 'messaging': [{'sender': {'id': '2243290295732269'}, 'recipient': {'id': '291049961575900'}, 'timestamp': 1551401567106, 'delivery': {'mids': ['GJgJIH6GKGbtLGB4-8nB9xJLljvY0SoaK8iaUz34bW7Osr3X5PwxTXeOo_nGzmSoZLM-KfSaPsmENks05lm57A'], 'watermark': 1551401566718, 'seq': 0}}]}]}\n"
     ]
    },
    {
     "name": "stderr",
     "output_type": "stream",
     "text": [
      "127.0.0.1 - - [28/Feb/2019 18:52:39] \"POST / HTTP/1.1\" 200 -\n"
     ]
    },
    {
     "name": "stdout",
     "output_type": "stream",
     "text": [
      "\n",
      "_________________________________________________________________________________________________________________________\n",
      "Mesaje de la API de Facebook->  {'object': 'page', 'entry': [{'id': '291049961575900', 'time': 1551401583362, 'messaging': [{'sender': {'id': '2243290295732269'}, 'recipient': {'id': '291049961575900'}, 'timestamp': 1551401582947, 'message': {'mid': 'GgfF2tD680QnNJT7zcpLzxJLljvY0SoaK8iaUz34bW6bCC1wAYtcEHGdsrq2vmF06iJzefOW5kfJgXP4KWBxaA', 'seq': 867, 'text': 'no puedo comprar'}}]}]}\n",
      "\n",
      "_________________________________________________________________________________________________________________________\n",
      "Mensaje enviado al Nucleo Logico->  {\"payload\": [{\"robot\": \"none\", \"id_face\": \"291049961575900\", \"recipient_id\": \"2243290295732269\", \"access_token\": \"none\", \"content\": \"no puedo comprar\", \"state\": \"none\", \"blocktype\": \"none\", \"opciones\": \"none\", \"entitites\": \" \", \"entities\": {}}]}\n",
      "\n",
      "_________________________________________________________________________________________________________________________\n",
      "Respuesta del Nucleo Logico->  {'Respuesta': [{'content': 'Gracias, vuelva pronto', 'next_id': 'OpMenu', 'blockType': 'informativo', 'contentType': 'text', 'typingTime': '2', 'payload': [{'content': '', 'state': 'SalidaAlterna', 'recipient_id': '2243290295732269', 'entities': {'VarCompras': {'blusa3': 1, 'abrigo1': 2}, 'VarQueja': 'no puedo comprar'}, 'access_token': 'EAAPZA7ZCigC6IBALcAo5n0UBPBe5Ez537LrQMq0V3RkhxvxER0YyvTqKwdndecuBqhygPfa2kfbZACS0YD5ZCu8n3pLrZA3ZC7mK1547NTtQsZCYTcpJFFM8TGFTpzjgSclusyvAMM1W0FAu3D8D5oZAIDZB8zJuQeuP4Rk5e9IpZBGE5EuZBj10CXu'}]}]}\n",
      "\n",
      "_________________________________________________________________________________________________________________________\n",
      "Mensaje enviado a la API de  Facebook\n",
      "request_endpoint->  https://graph.facebook.com/v2.6/me/messages\n",
      "ruta-> {'access_token': 'EAAPZA7ZCigC6IBALcAo5n0UBPBe5Ez537LrQMq0V3RkhxvxER0YyvTqKwdndecuBqhygPfa2kfbZACS0YD5ZCu8n3pLrZA3ZC7mK1547NTtQsZCYTcpJFFM8TGFTpzjgSclusyvAMM1W0FAu3D8D5oZAIDZB8zJuQeuP4Rk5e9IpZBGE5EuZBj10CXu'}\n",
      "payload->  {'message': {'text': 'Gracias, vuelva pronto'}, 'recipient': {'id': '2243290295732269'}, 'notification_type': 'REGULAR'}\n"
     ]
    },
    {
     "name": "stderr",
     "output_type": "stream",
     "text": [
      "127.0.0.1 - - [28/Feb/2019 18:52:40] \"POST / HTTP/1.1\" 200 -\n",
      "127.0.0.1 - - [28/Feb/2019 18:52:40] \"POST / HTTP/1.1\" 200 -\n"
     ]
    },
    {
     "name": "stdout",
     "output_type": "stream",
     "text": [
      "\n",
      "_________________________________________________________________________________________________________________________\n",
      "Mesaje de la API de Facebook->  {'object': 'page', 'entry': [{'id': '291049961575900', 'time': 1551401584485, 'messaging': [{'sender': {'id': '2243290295732269'}, 'recipient': {'id': '291049961575900'}, 'timestamp': 1551401584473, 'delivery': {'mids': ['u2vhqNgmCqWSWT5iJQJlZxJLljvY0SoaK8iaUz34bW5kshFDTXWMK4-AVNdg1YKKOAykllOFpCIitB0N9B9llg'], 'watermark': 1551401584168, 'seq': 0}}]}]}\n",
      "\n",
      "_________________________________________________________________________________________________________________________\n",
      "Mesaje de la API de Facebook->  {'object': 'page', 'entry': [{'id': '291049961575900', 'time': 1551401584621, 'messaging': [{'sender': {'id': '2243290295732269'}, 'recipient': {'id': '291049961575900'}, 'timestamp': 1551401584606, 'delivery': {'mids': ['u2vhqNgmCqWSWT5iJQJlZxJLljvY0SoaK8iaUz34bW5kshFDTXWMK4-AVNdg1YKKOAykllOFpCIitB0N9B9llg'], 'watermark': 1551401584168, 'seq': 0}}]}]}\n"
     ]
    },
    {
     "name": "stderr",
     "output_type": "stream",
     "text": [
      "127.0.0.1 - - [28/Feb/2019 18:52:49] \"POST / HTTP/1.1\" 200 -\n"
     ]
    },
    {
     "name": "stdout",
     "output_type": "stream",
     "text": [
      "\n",
      "_________________________________________________________________________________________________________________________\n",
      "Mesaje de la API de Facebook->  {'object': 'page', 'entry': [{'id': '291049961575900', 'time': 1551401593063, 'messaging': [{'sender': {'id': '2243290295732269'}, 'recipient': {'id': '291049961575900'}, 'timestamp': 1551401592629, 'message': {'mid': '4Ic4mp-RDbBWegsLsuzgwBJLljvY0SoaK8iaUz34bW46RdZAQ7-1FaEcHJzobAwXoOIdkrdn4BZuqvYl2P9Hmw', 'seq': 872, 'text': 'hola'}}]}]}\n",
      "\n",
      "_________________________________________________________________________________________________________________________\n",
      "Mensaje enviado al Nucleo Logico->  {\"payload\": [{\"robot\": \"none\", \"id_face\": \"291049961575900\", \"recipient_id\": \"2243290295732269\", \"access_token\": \"none\", \"content\": \"hola\", \"state\": \"none\", \"blocktype\": \"none\", \"opciones\": \"none\", \"entitites\": \" \", \"entities\": {}}]}\n",
      "\n",
      "_________________________________________________________________________________________________________________________\n",
      "Respuesta del Nucleo Logico->  {'Respuesta': [{'content': 'Mira lo que podemos hacer', 'next_id': 'ConsultarRopa,Queja', 'blockType': 'quickReply', 'contentType': ' ', 'typingTime': '2', 'payload': [{'content': '', 'state': 'OpMenu', 'recipient_id': '2243290295732269', 'entities': {'VarCompras': {'blusa3': 1, 'abrigo1': 2}, 'VarQueja': 'no puedo comprar'}, 'access_token': 'EAAPZA7ZCigC6IBALcAo5n0UBPBe5Ez537LrQMq0V3RkhxvxER0YyvTqKwdndecuBqhygPfa2kfbZACS0YD5ZCu8n3pLrZA3ZC7mK1547NTtQsZCYTcpJFFM8TGFTpzjgSclusyvAMM1W0FAu3D8D5oZAIDZB8zJuQeuP4Rk5e9IpZBGE5EuZBj10CXu'}], 'options': ['Consutar ropa', 'Poner queja'], 'default_id': 'OpMenuDefault', 'save_var': 'false'}]}\n",
      "\n",
      "_________________________________________________________________________________________________________________________\n",
      "Mensaje enviado a la API de  Facebook\n",
      "request_endpoint->  https://graph.facebook.com/v2.6/me/messages\n",
      "ruta-> {'access_token': 'EAAPZA7ZCigC6IBALcAo5n0UBPBe5Ez537LrQMq0V3RkhxvxER0YyvTqKwdndecuBqhygPfa2kfbZACS0YD5ZCu8n3pLrZA3ZC7mK1547NTtQsZCYTcpJFFM8TGFTpzjgSclusyvAMM1W0FAu3D8D5oZAIDZB8zJuQeuP4Rk5e9IpZBGE5EuZBj10CXu'}\n",
      "payload->  {'message': {'attachment': {'type': 'template', 'payload': {'template_type': 'button', 'text': 'Mira lo que podemos hacer', 'buttons': [{'title': 'Consutar ropa', 'type': 'postback', 'payload': 'Consutar ropa'}, {'title': 'Poner queja', 'type': 'postback', 'payload': 'Poner queja'}]}}}, 'recipient': {'id': '2243290295732269'}, 'notification_type': 'REGULAR'}\n"
     ]
    },
    {
     "name": "stderr",
     "output_type": "stream",
     "text": [
      "127.0.0.1 - - [28/Feb/2019 18:52:50] \"POST / HTTP/1.1\" 200 -\n",
      "127.0.0.1 - - [28/Feb/2019 18:52:50] \"POST / HTTP/1.1\" 200 -\n"
     ]
    },
    {
     "name": "stdout",
     "output_type": "stream",
     "text": [
      "\n",
      "_________________________________________________________________________________________________________________________\n",
      "Mesaje de la API de Facebook->  {'object': 'page', 'entry': [{'id': '291049961575900', 'time': 1551401594431, 'messaging': [{'sender': {'id': '2243290295732269'}, 'recipient': {'id': '291049961575900'}, 'timestamp': 1551401594419, 'delivery': {'mids': ['bYROF9qqrHgYAeQ-vW24GhJLljvY0SoaK8iaUz34bW4yj7gJNHr_Q92gkf-SPsglVPy4-D7j4erR0fZi-Kez-Q'], 'watermark': 1551401594123, 'seq': 0}}]}]}\n",
      "\n",
      "_________________________________________________________________________________________________________________________\n",
      "Mesaje de la API de Facebook->  {'object': 'page', 'entry': [{'id': '291049961575900', 'time': 1551401594610, 'messaging': [{'sender': {'id': '2243290295732269'}, 'recipient': {'id': '291049961575900'}, 'timestamp': 1551401594597, 'delivery': {'mids': ['bYROF9qqrHgYAeQ-vW24GhJLljvY0SoaK8iaUz34bW4yj7gJNHr_Q92gkf-SPsglVPy4-D7j4erR0fZi-Kez-Q'], 'watermark': 1551401594123, 'seq': 0}}]}]}\n"
     ]
    },
    {
     "name": "stderr",
     "output_type": "stream",
     "text": [
      "127.0.0.1 - - [28/Feb/2019 18:52:59] \"POST / HTTP/1.1\" 200 -\n"
     ]
    },
    {
     "name": "stdout",
     "output_type": "stream",
     "text": [
      "\n",
      "_________________________________________________________________________________________________________________________\n",
      "Mesaje de la API de Facebook->  {'object': 'page', 'entry': [{'id': '291049961575900', 'time': 1551401602658, 'messaging': [{'recipient': {'id': '291049961575900'}, 'timestamp': 1551401602658, 'sender': {'id': '2243290295732269'}, 'postback': {'payload': 'Consutar ropa', 'title': 'Consutar ropa'}}]}]}\n",
      "\n",
      "_________________________________________________________________________________________________________________________\n",
      "Mensaje enviado al Nucleo Logico->  {\"payload\": [{\"robot\": \"none\", \"id_face\": \"291049961575900\", \"recipient_id\": \"2243290295732269\", \"access_token\": \"none\", \"content\": \"Consutar ropa\", \"state\": \"none\", \"blocktype\": \"none\", \"opciones\": \"none\", \"entitites\": \" \", \"entities\": {}}]}\n",
      "\n",
      "_________________________________________________________________________________________________________________________\n",
      "Respuesta del Nucleo Logico->  {'Respuesta': [{'content': [{'title': 'Abrigo de Mujer', 'image_url': 'https://images-eu.ssl-images-amazon.com/images/I/51TAka+KMsL._AC_UL260_SR200,260_.jpg', 'subtitle': 'Algodón, manga larga.  Precio: $100', 'buttons': [{'titleButton': 'Comprar', 'typeButton': 'postback', 'payloadButton': 'abrigo1'}]}, {'title': 'Chamarra para Hombre', 'image_url': 'https://http2.mlstatic.com/D_NP_858171-MLM27196959024_042018-Q.jpg', 'subtitle': 'Chamarra de cuero.  Precio: $50', 'buttons': [{'titleButton': 'Comprar', 'typeButton': 'postback', 'payloadButton': 'camarra2'}]}, {'title': 'Blusa', 'image_url': 'https://www.directoriotextil.com/custom/domain_1/image_files/sitemgr_photo_13825.png', 'subtitle': 'Blusa de chifon.  Precio: $40', 'buttons': [{'titleButton': 'Comprar', 'typeButton': 'postback', 'payloadButton': 'blusa3'}]}], 'next_id': 'OpMenuNext', 'blockType': 'slideBuy', 'contentType': ' ', 'typingTime': '2', 'payload': [{'content': '', 'state': 'ConsultarRopa', 'recipient_id': '2243290295732269', 'entities': {'VarCompras': {'blusa3': 1, 'abrigo1': 2}, 'VarQueja': 'no puedo comprar'}, 'access_token': 'EAAPZA7ZCigC6IBALcAo5n0UBPBe5Ez537LrQMq0V3RkhxvxER0YyvTqKwdndecuBqhygPfa2kfbZACS0YD5ZCu8n3pLrZA3ZC7mK1547NTtQsZCYTcpJFFM8TGFTpzjgSclusyvAMM1W0FAu3D8D5oZAIDZB8zJuQeuP4Rk5e9IpZBGE5EuZBj10CXu'}], 'default_id': 'OpMenuDefault', 'save_var': 'VarCompras'}]}\n",
      "\n",
      "_________________________________________________________________________________________________________________________\n",
      "Mensaje enviado a la API de  Facebook\n",
      "request_endpoint->  https://graph.facebook.com/v2.6/me/messages\n",
      "ruta-> {'access_token': 'EAAPZA7ZCigC6IBALcAo5n0UBPBe5Ez537LrQMq0V3RkhxvxER0YyvTqKwdndecuBqhygPfa2kfbZACS0YD5ZCu8n3pLrZA3ZC7mK1547NTtQsZCYTcpJFFM8TGFTpzjgSclusyvAMM1W0FAu3D8D5oZAIDZB8zJuQeuP4Rk5e9IpZBGE5EuZBj10CXu'}\n",
      "payload->  {'recipient': {'id': '2243290295732269'}, 'message': {'attachment': {'type': 'template', 'payload': {'template_type': 'generic', 'elements': [{'title': 'Abrigo de Mujer', 'image_url': 'https://images-eu.ssl-images-amazon.com/images/I/51TAka+KMsL._AC_UL260_SR200,260_.jpg', 'subtitle': 'Algodón, manga larga.  Precio: $100', 'buttons': [{'title': 'Comprar', 'type': 'postback', 'payload': 'abrigo1'}]}, {'title': 'Chamarra para Hombre', 'image_url': 'https://http2.mlstatic.com/D_NP_858171-MLM27196959024_042018-Q.jpg', 'subtitle': 'Chamarra de cuero.  Precio: $50', 'buttons': [{'title': 'Comprar', 'type': 'postback', 'payload': 'camarra2'}]}, {'title': 'Blusa', 'image_url': 'https://www.directoriotextil.com/custom/domain_1/image_files/sitemgr_photo_13825.png', 'subtitle': 'Blusa de chifon.  Precio: $40', 'buttons': [{'title': 'Comprar', 'type': 'postback', 'payload': 'blusa3'}]}]}}}, 'notification_type': 'REGULAR'}\n"
     ]
    },
    {
     "name": "stderr",
     "output_type": "stream",
     "text": [
      "127.0.0.1 - - [28/Feb/2019 18:53:00] \"POST / HTTP/1.1\" 200 -\n",
      "127.0.0.1 - - [28/Feb/2019 18:53:01] \"POST / HTTP/1.1\" 200 -\n"
     ]
    },
    {
     "name": "stdout",
     "output_type": "stream",
     "text": [
      "\n",
      "_________________________________________________________________________________________________________________________\n",
      "Mesaje de la API de Facebook->  {'object': 'page', 'entry': [{'id': '291049961575900', 'time': 1551401604680, 'messaging': [{'sender': {'id': '2243290295732269'}, 'recipient': {'id': '291049961575900'}, 'timestamp': 1551401604667, 'delivery': {'mids': ['zeGOegPI_Qtf1KAwKc5qmxJLljvY0SoaK8iaUz34bW5V2jCbsOCZEfSsXfYKAjz0_5Ciisz3z1hAi-fVf2RGTw'], 'watermark': 1551401604213, 'seq': 0}}]}]}\n",
      "\n",
      "_________________________________________________________________________________________________________________________\n",
      "Mesaje de la API de Facebook->  {'object': 'page', 'entry': [{'id': '291049961575900', 'time': 1551401604704, 'messaging': [{'sender': {'id': '2243290295732269'}, 'recipient': {'id': '291049961575900'}, 'timestamp': 1551401604690, 'delivery': {'mids': ['zeGOegPI_Qtf1KAwKc5qmxJLljvY0SoaK8iaUz34bW5V2jCbsOCZEfSsXfYKAjz0_5Ciisz3z1hAi-fVf2RGTw'], 'watermark': 1551401604213, 'seq': 0}}]}]}\n"
     ]
    },
    {
     "name": "stderr",
     "output_type": "stream",
     "text": [
      "127.0.0.1 - - [28/Feb/2019 18:53:06] \"POST / HTTP/1.1\" 200 -\n"
     ]
    },
    {
     "name": "stdout",
     "output_type": "stream",
     "text": [
      "\n",
      "_________________________________________________________________________________________________________________________\n",
      "Mesaje de la API de Facebook->  {'object': 'page', 'entry': [{'id': '291049961575900', 'time': 1551401609843, 'messaging': [{'recipient': {'id': '291049961575900'}, 'timestamp': 1551401609843, 'sender': {'id': '2243290295732269'}, 'postback': {'payload': 'abrigo1', 'title': 'Comprar'}}]}]}\n",
      "\n",
      "_________________________________________________________________________________________________________________________\n",
      "Mensaje enviado al Nucleo Logico->  {\"payload\": [{\"robot\": \"none\", \"id_face\": \"291049961575900\", \"recipient_id\": \"2243290295732269\", \"access_token\": \"none\", \"content\": \"abrigo1\", \"state\": \"none\", \"blocktype\": \"none\", \"opciones\": \"none\", \"entitites\": \" \", \"entities\": {}}]}\n",
      "\n",
      "_________________________________________________________________________________________________________________________\n",
      "Respuesta del Nucleo Logico->  {'Respuesta': [{'content': 'Elige una opción', 'next_id': 'ConsultarRopa,Salida', 'blockType': 'quickReply', 'contentType': ' ', 'typingTime': '2', 'payload': [{'content': '', 'state': 'OpMenuNext', 'recipient_id': '2243290295732269', 'entities': {'VarCompras': {'blusa3': 1, 'abrigo1': 3}, 'VarQueja': 'no puedo comprar'}, 'access_token': 'EAAPZA7ZCigC6IBALcAo5n0UBPBe5Ez537LrQMq0V3RkhxvxER0YyvTqKwdndecuBqhygPfa2kfbZACS0YD5ZCu8n3pLrZA3ZC7mK1547NTtQsZCYTcpJFFM8TGFTpzjgSclusyvAMM1W0FAu3D8D5oZAIDZB8zJuQeuP4Rk5e9IpZBGE5EuZBj10CXu'}], 'options': ['Ver más ropa', 'Finalizar compra'], 'default_id': 'OpMenuNext', 'save_var': 'false'}]}\n",
      "\n",
      "_________________________________________________________________________________________________________________________\n",
      "Mensaje enviado a la API de  Facebook\n",
      "request_endpoint->  https://graph.facebook.com/v2.6/me/messages\n",
      "ruta-> {'access_token': 'EAAPZA7ZCigC6IBALcAo5n0UBPBe5Ez537LrQMq0V3RkhxvxER0YyvTqKwdndecuBqhygPfa2kfbZACS0YD5ZCu8n3pLrZA3ZC7mK1547NTtQsZCYTcpJFFM8TGFTpzjgSclusyvAMM1W0FAu3D8D5oZAIDZB8zJuQeuP4Rk5e9IpZBGE5EuZBj10CXu'}\n",
      "payload->  {'message': {'attachment': {'type': 'template', 'payload': {'template_type': 'button', 'text': 'Elige una opción', 'buttons': [{'title': 'Ver más ropa', 'type': 'postback', 'payload': 'Ver más ropa'}, {'title': 'Finalizar compra', 'type': 'postback', 'payload': 'Finalizar compra'}]}}}, 'recipient': {'id': '2243290295732269'}, 'notification_type': 'REGULAR'}\n"
     ]
    },
    {
     "name": "stderr",
     "output_type": "stream",
     "text": [
      "127.0.0.1 - - [28/Feb/2019 18:53:07] \"POST / HTTP/1.1\" 200 -\n",
      "127.0.0.1 - - [28/Feb/2019 18:53:07] \"POST / HTTP/1.1\" 200 -\n"
     ]
    },
    {
     "name": "stdout",
     "output_type": "stream",
     "text": [
      "\n",
      "_________________________________________________________________________________________________________________________\n",
      "Mesaje de la API de Facebook->  {'object': 'page', 'entry': [{'id': '291049961575900', 'time': 1551401611462, 'messaging': [{'sender': {'id': '2243290295732269'}, 'recipient': {'id': '291049961575900'}, 'timestamp': 1551401611448, 'delivery': {'mids': ['G0U7FHzesagNd0YysQtemRJLljvY0SoaK8iaUz34bW4qV7oYZzBBfrPPtlGPsircfdYsHLU07CvTdef2D35LDQ'], 'watermark': 1551401611154, 'seq': 0}}]}]}\n",
      "\n",
      "_________________________________________________________________________________________________________________________\n",
      "Mesaje de la API de Facebook->  {'object': 'page', 'entry': [{'id': '291049961575900', 'time': 1551401611560, 'messaging': [{'sender': {'id': '2243290295732269'}, 'recipient': {'id': '291049961575900'}, 'timestamp': 1551401611546, 'delivery': {'mids': ['G0U7FHzesagNd0YysQtemRJLljvY0SoaK8iaUz34bW4qV7oYZzBBfrPPtlGPsircfdYsHLU07CvTdef2D35LDQ'], 'watermark': 1551401611154, 'seq': 0}}]}]}\n"
     ]
    },
    {
     "name": "stderr",
     "output_type": "stream",
     "text": [
      "127.0.0.1 - - [28/Feb/2019 18:58:25] \"POST / HTTP/1.1\" 200 -\n"
     ]
    },
    {
     "name": "stdout",
     "output_type": "stream",
     "text": [
      "\n",
      "_________________________________________________________________________________________________________________________\n",
      "Mesaje de la API de Facebook->  {'object': 'page', 'entry': [{'id': '291049961575900', 'time': 1551401929476, 'messaging': [{'sender': {'id': '2243290295732269'}, 'recipient': {'id': '291049961575900'}, 'timestamp': 1551401928978, 'message': {'mid': '-YhCStKowvoACXnCNoNsMxJLljvY0SoaK8iaUz34bW50yQfolNxN25ZzwGPbtymBSGCpJnp9ynndjLgOkLjcyg', 'seq': 888, 'text': 'oye'}}]}]}\n",
      "\n",
      "_________________________________________________________________________________________________________________________\n",
      "Mensaje enviado al Nucleo Logico->  {\"payload\": [{\"robot\": \"none\", \"id_face\": \"291049961575900\", \"recipient_id\": \"2243290295732269\", \"access_token\": \"none\", \"content\": \"oye\", \"state\": \"none\", \"blocktype\": \"none\", \"opciones\": \"none\", \"entitites\": \" \", \"entities\": {}}]}\n",
      "\n",
      "_________________________________________________________________________________________________________________________\n",
      "Respuesta del Nucleo Logico->  {'Respuesta': [{'content': 'Elige una opción', 'next_id': 'ConsultarRopa,Salida', 'blockType': 'quickReply', 'contentType': ' ', 'typingTime': '2', 'payload': [{'content': '', 'state': 'OpMenuNext', 'recipient_id': '2243290295732269', 'entities': {'VarCompras': {'blusa3': 1, 'abrigo1': 3}, 'VarQueja': 'no puedo comprar'}, 'access_token': 'EAAPZA7ZCigC6IBALcAo5n0UBPBe5Ez537LrQMq0V3RkhxvxER0YyvTqKwdndecuBqhygPfa2kfbZACS0YD5ZCu8n3pLrZA3ZC7mK1547NTtQsZCYTcpJFFM8TGFTpzjgSclusyvAMM1W0FAu3D8D5oZAIDZB8zJuQeuP4Rk5e9IpZBGE5EuZBj10CXu'}], 'options': ['Ver más ropa', 'Finalizar compra'], 'default_id': 'OpMenuNext', 'save_var': 'false'}]}\n",
      "\n",
      "_________________________________________________________________________________________________________________________\n",
      "Mensaje enviado a la API de  Facebook\n",
      "request_endpoint->  https://graph.facebook.com/v2.6/me/messages\n",
      "ruta-> {'access_token': 'EAAPZA7ZCigC6IBALcAo5n0UBPBe5Ez537LrQMq0V3RkhxvxER0YyvTqKwdndecuBqhygPfa2kfbZACS0YD5ZCu8n3pLrZA3ZC7mK1547NTtQsZCYTcpJFFM8TGFTpzjgSclusyvAMM1W0FAu3D8D5oZAIDZB8zJuQeuP4Rk5e9IpZBGE5EuZBj10CXu'}\n",
      "payload->  {'message': {'attachment': {'type': 'template', 'payload': {'template_type': 'button', 'text': 'Elige una opción', 'buttons': [{'title': 'Ver más ropa', 'type': 'postback', 'payload': 'Ver más ropa'}, {'title': 'Finalizar compra', 'type': 'postback', 'payload': 'Finalizar compra'}]}}}, 'recipient': {'id': '2243290295732269'}, 'notification_type': 'REGULAR'}\n"
     ]
    },
    {
     "name": "stderr",
     "output_type": "stream",
     "text": [
      "127.0.0.1 - - [28/Feb/2019 18:58:27] \"POST / HTTP/1.1\" 200 -\n",
      "127.0.0.1 - - [28/Feb/2019 18:58:27] \"POST / HTTP/1.1\" 200 -\n"
     ]
    },
    {
     "name": "stdout",
     "output_type": "stream",
     "text": [
      "\n",
      "_________________________________________________________________________________________________________________________\n",
      "Mesaje de la API de Facebook->  {'object': 'page', 'entry': [{'id': '291049961575900', 'time': 1551401930846, 'messaging': [{'sender': {'id': '2243290295732269'}, 'recipient': {'id': '291049961575900'}, 'timestamp': 1551401930834, 'delivery': {'mids': ['tUSSZF-L2XPzfizVjhOEIBJLljvY0SoaK8iaUz34bW7P_8u8qcbjDdL5HNMFQGnmgfLhPONSwPKdNPPlNZrEOg'], 'watermark': 1551401930558, 'seq': 0}}]}]}\n",
      "\n",
      "_________________________________________________________________________________________________________________________\n",
      "Mesaje de la API de Facebook->  {'object': 'page', 'entry': [{'id': '291049961575900', 'time': 1551401930957, 'messaging': [{'sender': {'id': '2243290295732269'}, 'recipient': {'id': '291049961575900'}, 'timestamp': 1551401930944, 'delivery': {'mids': ['tUSSZF-L2XPzfizVjhOEIBJLljvY0SoaK8iaUz34bW7P_8u8qcbjDdL5HNMFQGnmgfLhPONSwPKdNPPlNZrEOg'], 'watermark': 1551401930558, 'seq': 0}}]}]}\n"
     ]
    },
    {
     "name": "stderr",
     "output_type": "stream",
     "text": [
      "127.0.0.1 - - [28/Feb/2019 18:58:30] \"POST / HTTP/1.1\" 200 -\n"
     ]
    },
    {
     "name": "stdout",
     "output_type": "stream",
     "text": [
      "\n",
      "_________________________________________________________________________________________________________________________\n",
      "Mesaje de la API de Facebook->  {'object': 'page', 'entry': [{'id': '291049961575900', 'time': 1551401934089, 'messaging': [{'recipient': {'id': '291049961575900'}, 'timestamp': 1551401934089, 'sender': {'id': '2243290295732269'}, 'postback': {'payload': 'Ver más ropa', 'title': 'Ver más ropa'}}]}]}\n",
      "\n",
      "_________________________________________________________________________________________________________________________\n",
      "Mensaje enviado al Nucleo Logico->  {\"payload\": [{\"robot\": \"none\", \"id_face\": \"291049961575900\", \"recipient_id\": \"2243290295732269\", \"access_token\": \"none\", \"content\": \"Ver m\\u00e1s ropa\", \"state\": \"none\", \"blocktype\": \"none\", \"opciones\": \"none\", \"entitites\": \" \", \"entities\": {}}]}\n",
      "\n",
      "_________________________________________________________________________________________________________________________\n",
      "Respuesta del Nucleo Logico->  {'Respuesta': [{'content': [{'title': 'Abrigo de Mujer', 'image_url': 'https://images-eu.ssl-images-amazon.com/images/I/51TAka+KMsL._AC_UL260_SR200,260_.jpg', 'subtitle': 'Algodón, manga larga.  Precio: $100', 'buttons': [{'titleButton': 'Comprar', 'typeButton': 'postback', 'payloadButton': 'abrigo1'}]}, {'title': 'Chamarra para Hombre', 'image_url': 'https://http2.mlstatic.com/D_NP_858171-MLM27196959024_042018-Q.jpg', 'subtitle': 'Chamarra de cuero.  Precio: $50', 'buttons': [{'titleButton': 'Comprar', 'typeButton': 'postback', 'payloadButton': 'camarra2'}]}, {'title': 'Blusa', 'image_url': 'https://www.directoriotextil.com/custom/domain_1/image_files/sitemgr_photo_13825.png', 'subtitle': 'Blusa de chifon.  Precio: $40', 'buttons': [{'titleButton': 'Comprar', 'typeButton': 'postback', 'payloadButton': 'blusa3'}]}], 'next_id': 'OpMenuNext', 'blockType': 'slideBuy', 'contentType': ' ', 'typingTime': '2', 'payload': [{'content': '', 'state': 'ConsultarRopa', 'recipient_id': '2243290295732269', 'entities': {'VarCompras': {'blusa3': 1, 'abrigo1': 3}, 'VarQueja': 'no puedo comprar'}, 'access_token': 'EAAPZA7ZCigC6IBALcAo5n0UBPBe5Ez537LrQMq0V3RkhxvxER0YyvTqKwdndecuBqhygPfa2kfbZACS0YD5ZCu8n3pLrZA3ZC7mK1547NTtQsZCYTcpJFFM8TGFTpzjgSclusyvAMM1W0FAu3D8D5oZAIDZB8zJuQeuP4Rk5e9IpZBGE5EuZBj10CXu'}], 'default_id': 'OpMenuDefault', 'save_var': 'VarCompras'}]}\n",
      "\n",
      "_________________________________________________________________________________________________________________________\n",
      "Mensaje enviado a la API de  Facebook\n",
      "request_endpoint->  https://graph.facebook.com/v2.6/me/messages\n",
      "ruta-> {'access_token': 'EAAPZA7ZCigC6IBALcAo5n0UBPBe5Ez537LrQMq0V3RkhxvxER0YyvTqKwdndecuBqhygPfa2kfbZACS0YD5ZCu8n3pLrZA3ZC7mK1547NTtQsZCYTcpJFFM8TGFTpzjgSclusyvAMM1W0FAu3D8D5oZAIDZB8zJuQeuP4Rk5e9IpZBGE5EuZBj10CXu'}\n",
      "payload->  {'recipient': {'id': '2243290295732269'}, 'message': {'attachment': {'type': 'template', 'payload': {'template_type': 'generic', 'elements': [{'title': 'Abrigo de Mujer', 'image_url': 'https://images-eu.ssl-images-amazon.com/images/I/51TAka+KMsL._AC_UL260_SR200,260_.jpg', 'subtitle': 'Algodón, manga larga.  Precio: $100', 'buttons': [{'title': 'Comprar', 'type': 'postback', 'payload': 'abrigo1'}]}, {'title': 'Chamarra para Hombre', 'image_url': 'https://http2.mlstatic.com/D_NP_858171-MLM27196959024_042018-Q.jpg', 'subtitle': 'Chamarra de cuero.  Precio: $50', 'buttons': [{'title': 'Comprar', 'type': 'postback', 'payload': 'camarra2'}]}, {'title': 'Blusa', 'image_url': 'https://www.directoriotextil.com/custom/domain_1/image_files/sitemgr_photo_13825.png', 'subtitle': 'Blusa de chifon.  Precio: $40', 'buttons': [{'title': 'Comprar', 'type': 'postback', 'payload': 'blusa3'}]}]}}}, 'notification_type': 'REGULAR'}\n"
     ]
    },
    {
     "name": "stderr",
     "output_type": "stream",
     "text": [
      "127.0.0.1 - - [28/Feb/2019 18:58:32] \"POST / HTTP/1.1\" 200 -\n",
      "127.0.0.1 - - [28/Feb/2019 18:58:32] \"POST / HTTP/1.1\" 200 -\n"
     ]
    },
    {
     "name": "stdout",
     "output_type": "stream",
     "text": [
      "\n",
      "_________________________________________________________________________________________________________________________\n",
      "Mesaje de la API de Facebook->  {'object': 'page', 'entry': [{'id': '291049961575900', 'time': 1551401936369, 'messaging': [{'sender': {'id': '2243290295732269'}, 'recipient': {'id': '291049961575900'}, 'timestamp': 1551401936353, 'delivery': {'mids': ['4CkZkoahGUltXt5xhKeOURJLljvY0SoaK8iaUz34bW5hMKllZqyd0jGd6cAGrZeykC1cFmR20lesEX7b2MmNTw'], 'watermark': 1551401935578, 'seq': 0}}]}]}\n",
      "\n",
      "_________________________________________________________________________________________________________________________\n",
      "Mesaje de la API de Facebook->  {'object': 'page', 'entry': [{'id': '291049961575900', 'time': 1551401936426, 'messaging': [{'sender': {'id': '2243290295732269'}, 'recipient': {'id': '291049961575900'}, 'timestamp': 1551401936414, 'delivery': {'mids': ['4CkZkoahGUltXt5xhKeOURJLljvY0SoaK8iaUz34bW5hMKllZqyd0jGd6cAGrZeykC1cFmR20lesEX7b2MmNTw'], 'watermark': 1551401935578, 'seq': 0}}]}]}\n"
     ]
    },
    {
     "name": "stderr",
     "output_type": "stream",
     "text": [
      "127.0.0.1 - - [28/Feb/2019 18:58:43] \"POST / HTTP/1.1\" 200 -\n"
     ]
    },
    {
     "name": "stdout",
     "output_type": "stream",
     "text": [
      "\n",
      "_________________________________________________________________________________________________________________________\n",
      "Mesaje de la API de Facebook->  {'object': 'page', 'entry': [{'id': '291049961575900', 'time': 1551401947116, 'messaging': [{'recipient': {'id': '291049961575900'}, 'timestamp': 1551401947116, 'sender': {'id': '2243290295732269'}, 'postback': {'payload': 'abrigo1', 'title': 'Comprar'}}]}]}\n",
      "\n",
      "_________________________________________________________________________________________________________________________\n",
      "Mensaje enviado al Nucleo Logico->  {\"payload\": [{\"robot\": \"none\", \"id_face\": \"291049961575900\", \"recipient_id\": \"2243290295732269\", \"access_token\": \"none\", \"content\": \"abrigo1\", \"state\": \"none\", \"blocktype\": \"none\", \"opciones\": \"none\", \"entitites\": \" \", \"entities\": {}}]}\n",
      "\n",
      "_________________________________________________________________________________________________________________________\n",
      "Respuesta del Nucleo Logico->  {'Respuesta': [{'content': 'Elige una opción', 'next_id': 'ConsultarRopa,Salida', 'blockType': 'quickReply', 'contentType': ' ', 'typingTime': '2', 'payload': [{'content': '', 'state': 'OpMenuNext', 'recipient_id': '2243290295732269', 'entities': {'VarCompras': {'blusa3': 1, 'abrigo1': 4}, 'VarQueja': 'no puedo comprar'}, 'access_token': 'EAAPZA7ZCigC6IBALcAo5n0UBPBe5Ez537LrQMq0V3RkhxvxER0YyvTqKwdndecuBqhygPfa2kfbZACS0YD5ZCu8n3pLrZA3ZC7mK1547NTtQsZCYTcpJFFM8TGFTpzjgSclusyvAMM1W0FAu3D8D5oZAIDZB8zJuQeuP4Rk5e9IpZBGE5EuZBj10CXu'}], 'options': ['Ver más ropa', 'Finalizar compra'], 'default_id': 'OpMenuNext', 'save_var': 'false'}]}\n",
      "\n",
      "_________________________________________________________________________________________________________________________\n",
      "Mensaje enviado a la API de  Facebook\n",
      "request_endpoint->  https://graph.facebook.com/v2.6/me/messages\n",
      "ruta-> {'access_token': 'EAAPZA7ZCigC6IBALcAo5n0UBPBe5Ez537LrQMq0V3RkhxvxER0YyvTqKwdndecuBqhygPfa2kfbZACS0YD5ZCu8n3pLrZA3ZC7mK1547NTtQsZCYTcpJFFM8TGFTpzjgSclusyvAMM1W0FAu3D8D5oZAIDZB8zJuQeuP4Rk5e9IpZBGE5EuZBj10CXu'}\n",
      "payload->  {'message': {'attachment': {'type': 'template', 'payload': {'template_type': 'button', 'text': 'Elige una opción', 'buttons': [{'title': 'Ver más ropa', 'type': 'postback', 'payload': 'Ver más ropa'}, {'title': 'Finalizar compra', 'type': 'postback', 'payload': 'Finalizar compra'}]}}}, 'recipient': {'id': '2243290295732269'}, 'notification_type': 'REGULAR'}\n"
     ]
    },
    {
     "name": "stderr",
     "output_type": "stream",
     "text": [
      "127.0.0.1 - - [28/Feb/2019 18:58:45] \"POST / HTTP/1.1\" 200 -\n",
      "127.0.0.1 - - [28/Feb/2019 18:58:45] \"POST / HTTP/1.1\" 200 -\n"
     ]
    },
    {
     "name": "stdout",
     "output_type": "stream",
     "text": [
      "\n",
      "_________________________________________________________________________________________________________________________\n",
      "Mesaje de la API de Facebook->  {'object': 'page', 'entry': [{'id': '291049961575900', 'time': 1551401948791, 'messaging': [{'sender': {'id': '2243290295732269'}, 'recipient': {'id': '291049961575900'}, 'timestamp': 1551401948778, 'delivery': {'mids': ['AQa0N5_M9kiaklUI4hjBoBJLljvY0SoaK8iaUz34bW4xCVYd-L7C6ahvDXHZZFa0RopQoF3hQjv4YXCgZVDnXA'], 'watermark': 1551401948436, 'seq': 0}}]}]}\n",
      "\n",
      "_________________________________________________________________________________________________________________________\n",
      "Mesaje de la API de Facebook->  {'object': 'page', 'entry': [{'id': '291049961575900', 'time': 1551401948884, 'messaging': [{'sender': {'id': '2243290295732269'}, 'recipient': {'id': '291049961575900'}, 'timestamp': 1551401948870, 'delivery': {'mids': ['AQa0N5_M9kiaklUI4hjBoBJLljvY0SoaK8iaUz34bW4xCVYd-L7C6ahvDXHZZFa0RopQoF3hQjv4YXCgZVDnXA'], 'watermark': 1551401948436, 'seq': 0}}]}]}\n"
     ]
    },
    {
     "name": "stderr",
     "output_type": "stream",
     "text": [
      "127.0.0.1 - - [28/Feb/2019 18:58:48] \"POST / HTTP/1.1\" 200 -\n"
     ]
    },
    {
     "name": "stdout",
     "output_type": "stream",
     "text": [
      "\n",
      "_________________________________________________________________________________________________________________________\n",
      "Mesaje de la API de Facebook->  {'object': 'page', 'entry': [{'id': '291049961575900', 'time': 1551401951665, 'messaging': [{'recipient': {'id': '291049961575900'}, 'timestamp': 1551401951665, 'sender': {'id': '2243290295732269'}, 'postback': {'payload': 'Finalizar compra', 'title': 'Finalizar compra'}}]}]}\n",
      "\n",
      "_________________________________________________________________________________________________________________________\n",
      "Mensaje enviado al Nucleo Logico->  {\"payload\": [{\"robot\": \"none\", \"id_face\": \"291049961575900\", \"recipient_id\": \"2243290295732269\", \"access_token\": \"none\", \"content\": \"Finalizar compra\", \"state\": \"none\", \"blocktype\": \"none\", \"opciones\": \"none\", \"entitites\": \" \", \"entities\": {}}]}\n",
      "\n",
      "_________________________________________________________________________________________________________________________\n",
      "Respuesta del Nucleo Logico->  {'Respuesta': [{'content': 'Gracias por su compra', 'next_id': 'OpMenu', 'blockType': 'informativo', 'contentType': 'text', 'typingTime': '2', 'payload': [{'content': '', 'state': 'Salida', 'recipient_id': '2243290295732269', 'entities': {'VarCompras': {'blusa3': 1, 'abrigo1': 4}, 'VarQueja': 'no puedo comprar'}, 'access_token': 'EAAPZA7ZCigC6IBALcAo5n0UBPBe5Ez537LrQMq0V3RkhxvxER0YyvTqKwdndecuBqhygPfa2kfbZACS0YD5ZCu8n3pLrZA3ZC7mK1547NTtQsZCYTcpJFFM8TGFTpzjgSclusyvAMM1W0FAu3D8D5oZAIDZB8zJuQeuP4Rk5e9IpZBGE5EuZBj10CXu'}]}]}\n",
      "\n",
      "_________________________________________________________________________________________________________________________\n",
      "Mensaje enviado a la API de  Facebook\n",
      "request_endpoint->  https://graph.facebook.com/v2.6/me/messages\n",
      "ruta-> {'access_token': 'EAAPZA7ZCigC6IBALcAo5n0UBPBe5Ez537LrQMq0V3RkhxvxER0YyvTqKwdndecuBqhygPfa2kfbZACS0YD5ZCu8n3pLrZA3ZC7mK1547NTtQsZCYTcpJFFM8TGFTpzjgSclusyvAMM1W0FAu3D8D5oZAIDZB8zJuQeuP4Rk5e9IpZBGE5EuZBj10CXu'}\n",
      "payload->  {'message': {'text': 'Gracias por su compra'}, 'recipient': {'id': '2243290295732269'}, 'notification_type': 'REGULAR'}\n"
     ]
    },
    {
     "name": "stderr",
     "output_type": "stream",
     "text": [
      "127.0.0.1 - - [28/Feb/2019 18:58:49] \"POST / HTTP/1.1\" 200 -\n"
     ]
    },
    {
     "name": "stdout",
     "output_type": "stream",
     "text": [
      "\n",
      "_________________________________________________________________________________________________________________________\n",
      "Mesaje de la API de Facebook->  {'object': 'page', 'entry': [{'id': '291049961575900', 'time': 1551401953010, 'messaging': [{'sender': {'id': '2243290295732269'}, 'recipient': {'id': '291049961575900'}, 'timestamp': 1551401952992, 'delivery': {'mids': ['ZSbQ97JnrNzPycjIh0_MzBJLljvY0SoaK8iaUz34bW6nSyk_uxVWo_2moivrEMYsZtGcjEa7oyWfP9ucMRDWbg'], 'watermark': 1551401952701, 'seq': 0}}]}]}\n"
     ]
    },
    {
     "name": "stderr",
     "output_type": "stream",
     "text": [
      "127.0.0.1 - - [28/Feb/2019 18:58:49] \"POST / HTTP/1.1\" 200 -\n"
     ]
    },
    {
     "name": "stdout",
     "output_type": "stream",
     "text": [
      "\n",
      "_________________________________________________________________________________________________________________________\n",
      "Mesaje de la API de Facebook->  {'object': 'page', 'entry': [{'id': '291049961575900', 'time': 1551401953151, 'messaging': [{'sender': {'id': '2243290295732269'}, 'recipient': {'id': '291049961575900'}, 'timestamp': 1551401953138, 'delivery': {'mids': ['ZSbQ97JnrNzPycjIh0_MzBJLljvY0SoaK8iaUz34bW6nSyk_uxVWo_2moivrEMYsZtGcjEa7oyWfP9ucMRDWbg'], 'watermark': 1551401952701, 'seq': 0}}]}]}\n"
     ]
    }
   ],
   "source": [
    "N_C=Nucleo_Cliente(\"Hilo_2\")\n",
    "response=None\n",
    "corr_id=' '\n",
    "connection = pika.BlockingConnection(pika.ConnectionParameters(host='localhost'))\n",
    "channel = connection.channel()\n",
    "result = channel.queue_declare(exclusive=True)\n",
    "callback_queue = result.method.queue\n",
    "channel.basic_consume(N_C.on_response, no_ack=True, queue=callback_queue)\n",
    "N_C.start()\n",
    "\n",
    "app = Flask(__name__)\n",
    "VERIFY_TOKEN = 'CadenaDeVerificacion10'\n",
    "\n",
    "@app.route(\"/\", methods=['GET', 'POST'])\n",
    "def receive_message():\n",
    "    if request.method == 'GET':\n",
    "        token_sent = request.args.get(\"hub.verify_token\")\n",
    "        return verify_fb_token(token_sent)\n",
    "    else:\n",
    "        output = request.get_json()\n",
    "        print('\\n_________________________________________________________________________________________________________________________')\n",
    "        print(\"Mesaje de la API de Facebook-> \",output)\n",
    "        for event in output['entry']:\n",
    "            messaging = event['messaging']\n",
    "            id_face = event['id']\n",
    "            for message in messaging:\n",
    "                if message.get('message') or message.get('postback'):\n",
    "                    recipient_id = message['sender']['id']                 \n",
    "                    enviarNucleo(recipient_id, id_face, messaging)\n",
    "    \n",
    "    return \"Message Processed\"\n",
    "        \n",
    "\n",
    "if __name__ == \"__main__\":\n",
    "    app.run()"
   ]
  },
  {
   "cell_type": "code",
   "execution_count": null,
   "metadata": {},
   "outputs": [],
   "source": []
  }
 ],
 "metadata": {
  "kernelspec": {
   "display_name": "Python 3",
   "language": "python",
   "name": "python3"
  },
  "language_info": {
   "codemirror_mode": {
    "name": "ipython",
    "version": 3
   },
   "file_extension": ".py",
   "mimetype": "text/x-python",
   "name": "python",
   "nbconvert_exporter": "python",
   "pygments_lexer": "ipython3",
   "version": "3.7.1"
  }
 },
 "nbformat": 4,
 "nbformat_minor": 2
}
