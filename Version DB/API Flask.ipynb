{
 "cells": [
  {
   "cell_type": "code",
   "execution_count": 1,
   "metadata": {},
   "outputs": [],
   "source": [
    "from flask import Flask\n",
    "import spacy \n",
    "from spacy import displacy\n",
    "from flask_restful import Resource, Api"
   ]
  },
  {
   "cell_type": "code",
   "execution_count": 2,
   "metadata": {},
   "outputs": [
    {
     "name": "stdout",
     "output_type": "stream",
     "text": [
      " * Serving Flask app \"__main__\" (lazy loading)\n",
      " * Environment: production\n",
      "   WARNING: Do not use the development server in a production environment.\n",
      "   Use a production WSGI server instead.\n",
      " * Debug mode: off\n"
     ]
    },
    {
     "name": "stderr",
     "output_type": "stream",
     "text": [
      " * Running on http://127.0.0.1:5000/ (Press CTRL+C to quit)\n",
      "127.0.0.1 - - [10/Mar/2019 05:22:30] \"GET /API/world HTTP/1.1\" 200 -\n"
     ]
    }
   ],
   "source": [
    "app = Flask(__name__)\n",
    "api = Api(app)\n",
    "\n",
    "class API(Resource):\n",
    "    def get(self, datos):\n",
    "        nlp=spacy.load('es')\n",
    "\n",
    "\n",
    "        #datos={\n",
    "            #'entidades':{'tipos':['LOC'],'ents':['clima','ropa','estaciones']},\n",
    "            #'intenciones':['ConultarClima']\n",
    "        #}\n",
    "\n",
    "        cad=nlp(datos)\n",
    "        comparacion={'tipos':[],'ents':[]}\n",
    "        \n",
    "        print('Tokenizacion:')\n",
    "        for token in cad:\n",
    "            print(token)\n",
    "            for ent in datos['entidades']['ents']:\n",
    "                if ent in str(token):\n",
    "                    comparacion['ents'].append(ent)\n",
    "        \n",
    "        print('\\n\\nEntidades encontradas')\n",
    "        for token in cad.ents:\n",
    "            print('\\nEntidad: ',token)\n",
    "            print('Tipo: ',token.label_)\n",
    "            print('Descripcion: ',str(spacy.explain(token.label_)))\n",
    "            for ent in datos['entidades']['tipos']:\n",
    "                if ent in token.label_:\n",
    "                    entiti={ent:str(token)}\n",
    "                    comparacion['tipos'].append(entiti)\n",
    "             \n",
    "        print('\\n\\nEntidades encontradas-> ',comparacion)\n",
    "        displacy.render(cad,style='ent',jupyter=True)\n",
    "        \n",
    "        #llamada API salto de estado.\n",
    "        \n",
    "        return comparacion\n",
    "    \n",
    "api.add_resource(API, '/API/<datos>')\n",
    "\n",
    "if __name__ == '__main__':\n",
    " app.run()"
   ]
  },
  {
   "cell_type": "code",
   "execution_count": null,
   "metadata": {},
   "outputs": [],
   "source": []
  }
 ],
 "metadata": {
  "kernelspec": {
   "display_name": "Python 3",
   "language": "python",
   "name": "python3"
  },
  "language_info": {
   "codemirror_mode": {
    "name": "ipython",
    "version": 3
   },
   "file_extension": ".py",
   "mimetype": "text/x-python",
   "name": "python",
   "nbconvert_exporter": "python",
   "pygments_lexer": "ipython3",
   "version": "3.7.1"
  }
 },
 "nbformat": 4,
 "nbformat_minor": 2
}
