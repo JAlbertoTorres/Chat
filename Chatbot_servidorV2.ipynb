{
 "cells": [
  {
   "cell_type": "code",
   "execution_count": 1,
   "metadata": {},
   "outputs": [],
   "source": [
    "import json\n",
    "import pika\n",
    "import uuid"
   ]
  },
  {
   "cell_type": "code",
   "execution_count": 2,
   "metadata": {},
   "outputs": [],
   "source": [
    "with open('robotejemplo.json') as json_data:\n",
    "    d = json.load(json_data)\n",
    "    #print(d)\n",
    "    data=json.dumps(d)\n",
    "    Robot=json.loads(data)\n",
    "    #for i in Robot.keys():\n",
    "     #   print(i)\n",
    "      #  print(Robot[i])    "
   ]
  },
  {
   "cell_type": "code",
   "execution_count": 3,
   "metadata": {},
   "outputs": [],
   "source": [
    "def mensInf(state):\n",
    "    n=  {\"Respuesta\": [{\"content\":\" \",\"next_id\":\" \", \"blockType\":\" \", \"contentType\":\" \",\n",
    "                         \"typingTime\":\" \",\"payload\":[]}]}\n",
    "    data_string = json.dumps(n)\n",
    "    decoded = json.loads(data_string)\n",
    "\n",
    "    decoded[\"Respuesta\"][0][\"content\"] = str(Robot[state][\"content\"])\n",
    "    decoded[\"Respuesta\"][0][\"next_id\"] = str(Robot[state][\"next_id\"])\n",
    "    decoded[\"Respuesta\"][0][\"blockType\"]= str(Robot[state][\"blockType\"])\n",
    "    decoded[\"Respuesta\"][0][\"contentType\"]= str(Robot[state][\"contentType\"])\n",
    "    decoded[\"Respuesta\"][0][\"typingTime\"]= str(Robot[state][\"typingTime\"])\n",
    "    payload={\"content\":\"\",\"state\":state, \"entities\":{}}\n",
    "    pay=json.dumps(payload)\n",
    "    decoded[\"Respuesta\"][0][\"payload\"].append(json.loads(pay))\n",
    "    return decoded\n"
   ]
  },
  {
   "cell_type": "code",
   "execution_count": 4,
   "metadata": {},
   "outputs": [],
   "source": [
    "def mensQr(state):\n",
    "    n=  {\"Respuesta\": [{\"content\":\" \",\"next_id\":\" \", \"blockType\":\" \", \"contentType\":\" \",\n",
    "                         \"typingTime\":\" \",\"payload\":[]}]}\n",
    "    data_string = json.dumps(n)\n",
    "    decoded = json.loads(data_string)\n",
    "\n",
    "    decoded[\"Respuesta\"][0][\"content\"] = str(Robot[state][\"content\"])\n",
    "    decoded[\"Respuesta\"][0][\"options\"] = list(Robot[state][\"options\"])\n",
    "    decoded[\"Respuesta\"][0][\"next_id\"] = str(Robot[state][\"next_id\"])\n",
    "    decoded[\"Respuesta\"][0][\"blockType\"]= str(Robot[state][\"blockType\"])\n",
    "    decoded[\"Respuesta\"][0][\"typingTime\"]= str(Robot[state][\"typingTime\"])\n",
    "    payload={\"content\":\"\",\"state\":state, \"entities\":{}}\n",
    "    pay=json.dumps(payload)\n",
    "    decoded[\"Respuesta\"][0][\"payload\"].append(json.loads(pay))\n",
    "    return decoded"
   ]
  },
  {
   "cell_type": "code",
   "execution_count": 5,
   "metadata": {},
   "outputs": [],
   "source": [
    "def mensInp(state):\n",
    "    n=  {\"Respuesta\": [{\"content\":\" \",\"next_id\":\" \", \"blockType\":\" \", \"contentType\":\" \",\n",
    "                         \"typingTime\":\" \",\"payload\":[]}]}\n",
    "    data_string = json.dumps(n)\n",
    "    decoded = json.loads(data_string)\n",
    "\n",
    "    decoded[\"Respuesta\"][0][\"content\"] = str(Robot[state][\"content\"])\n",
    "    decoded[\"Respuesta\"][0][\"next_id\"]= str(Robot[state][\"next_id\"])\n",
    "    decoded[\"Respuesta\"][0][\"blockType\"]= str(Robot[state][\"blockType\"])\n",
    "    decoded[\"Respuesta\"][0][\"contentType\"]= str(Robot[state][\"contentType\"])\n",
    "    decoded[\"Respuesta\"][0][\"typingTime\"]= str(Robot[state][\"typingTime\"])\n",
    "    decoded[\"Respuesta\"][0][\"validacion\"]= str(Robot[state][\"validacion\"])\n",
    "    decoded[\"Respuesta\"][0][\"Default_id\"]= str(Robot[state][\"Default_id\"])\n",
    "    decoded[\"Respuesta\"][0][\"save_var\"]= str(Robot[state][\"save_var\"])\n",
    "    payload={\"content\":\"\",\"state\":state, \"entities\":{}}\n",
    "    pay=json.dumps(payload)\n",
    "    decoded[\"Respuesta\"][0][\"payload\"].append(json.loads(pay))\n",
    "    return decoded"
   ]
  },
  {
   "cell_type": "code",
   "execution_count": 6,
   "metadata": {},
   "outputs": [],
   "source": [
    "def envia(ch,props, method, data_string):    \n",
    "    \n",
    "    ch.basic_publish(exchange='',\n",
    "                 routing_key=props.reply_to,\n",
    "                 properties=pika.BasicProperties(correlation_id = \\\n",
    "                                                     props.correlation_id),\n",
    "                 body=str(data_string))\n",
    "    ch.basic_ack(delivery_tag = method.delivery_tag)\n",
    "    \n",
    "    "
   ]
  },
  {
   "cell_type": "code",
   "execution_count": null,
   "metadata": {},
   "outputs": [],
   "source": [
    "def confirma(ch,props, method, state):\n",
    "    cont=1        \n",
    "    print(\"Siguiente estado...\", state)    \n",
    "    if(Robot[state][\"blockType\"]==\"informativo\"):\n",
    "        if(state==\"Salida\"):\n",
    "            print(\"Terminando conversación...\")\n",
    "            cont=-100\n",
    "        resp=mensInf(state)\n",
    "        data_string = json.dumps(resp)        \n",
    "\n",
    "    elif(Robot[state][\"blockType\"]==\"quickReply\"):\n",
    "        resp=mensQr(state)\n",
    "        data_string = json.dumps(resp)\n",
    "\n",
    "    else:\n",
    "        resp=mensInp(state)\n",
    "        data_string = json.dumps(resp)\n",
    "    \n",
    "    print(\" [x] Enviando... \", str(data_string))\n",
    "    #mensaje=\n",
    "    envia(ch,props, method, data_string)\n",
    "    #print(\"llegó esto: \",mensaje[\"payload\"])\n",
    "    return cont #,mensaje;"
   ]
  },
  {
   "cell_type": "code",
   "execution_count": null,
   "metadata": {},
   "outputs": [
    {
     "name": "stdout",
     "output_type": "stream",
     "text": [
      " [x] Comenzando conversación...\n",
      "{'payload': [{'content': 'hi', 'state': 'none', 'entitites': ' ', 'entities': {}}]}\n",
      " [x] Enviando...  {\"Respuesta\": [{\"content\": \"Hola\", \"next_id\": \"OpMenu\", \"blockType\": \"informativo\", \"contentType\": \"text\", \"typingTime\": \"1\", \"payload\": [{\"content\": \"\", \"state\": \"Saludo\", \"entities\": {}}]}]}\n",
      "{'payload': [{'content': 'next', 'state': 'Saludo', 'entitites': ' ', 'entities': {}}]}\n",
      "Siguiente estado... OpMenu\n",
      " [x] Enviando...  {\"Respuesta\": [{\"content\": \"\\u00bfqu\\u00e9 deseas hacer?\", \"next_id\": \"{'Ordenar': 'Ordenar', 'Poner Queja': 'Queja'}\", \"blockType\": \"quickReply\", \"contentType\": \" \", \"typingTime\": \"1\", \"payload\": [{\"content\": \"\", \"state\": \"OpMenu\", \"entities\": {}}], \"options\": [\"Ordenar\", \"Poner Queja\"]}]}\n",
      "{'payload': [{'content': 'nfjkcenjcei', 'state': 'OpMenu', 'entitites': ' ', 'entities': {}}]}\n",
      "Siguiente estado... OpMenuDefault\n",
      " [x] Enviando...  {\"Respuesta\": [{\"content\": \"Escoje una opcion\", \"next_id\": \"OpMenu\", \"blockType\": \"informativo\", \"contentType\": \"text\", \"typingTime\": \"1\", \"payload\": [{\"content\": \"\", \"state\": \"OpMenuDefault\", \"entities\": {}}]}]}\n",
      "{'payload': [{'content': 'next', 'state': 'OpMenuDefault', 'entitites': ' ', 'entities': {}}]}\n",
      "Siguiente estado... OpMenu\n",
      " [x] Enviando...  {\"Respuesta\": [{\"content\": \"\\u00bfqu\\u00e9 deseas hacer?\", \"next_id\": \"{'Ordenar': 'Ordenar', 'Poner Queja': 'Queja'}\", \"blockType\": \"quickReply\", \"contentType\": \" \", \"typingTime\": \"1\", \"payload\": [{\"content\": \"\", \"state\": \"OpMenu\", \"entities\": {}}], \"options\": [\"Ordenar\", \"Poner Queja\"]}]}\n",
      "{'payload': [{'content': 'ordenar', 'state': 'OpMenu', 'entitites': ' ', 'entities': {}}]}\n",
      "Siguiente estado... OpMenuDefault\n",
      " [x] Enviando...  {\"Respuesta\": [{\"content\": \"Escoje una opcion\", \"next_id\": \"OpMenu\", \"blockType\": \"informativo\", \"contentType\": \"text\", \"typingTime\": \"1\", \"payload\": [{\"content\": \"\", \"state\": \"OpMenuDefault\", \"entities\": {}}]}]}\n",
      "{'payload': [{'content': 'next', 'state': 'OpMenuDefault', 'entitites': ' ', 'entities': {}}]}\n",
      "Siguiente estado... OpMenu\n",
      " [x] Enviando...  {\"Respuesta\": [{\"content\": \"\\u00bfqu\\u00e9 deseas hacer?\", \"next_id\": \"{'Ordenar': 'Ordenar', 'Poner Queja': 'Queja'}\", \"blockType\": \"quickReply\", \"contentType\": \" \", \"typingTime\": \"1\", \"payload\": [{\"content\": \"\", \"state\": \"OpMenu\", \"entities\": {}}], \"options\": [\"Ordenar\", \"Poner Queja\"]}]}\n",
      "{'payload': [{'content': 'Ordenar', 'state': 'OpMenu', 'entitites': ' ', 'entities': {}}]}\n",
      "Siguiente estado... Ordenar\n",
      " [x] Enviando...  {\"Respuesta\": [{\"content\": \"Que quieres \", \"next_id\": \"{'Pizza': 'Salida', 'Refresco': 'Salida'}\", \"blockType\": \"quickReply\", \"contentType\": \" \", \"typingTime\": \"1\", \"payload\": [{\"content\": \"\", \"state\": \"Ordenar\", \"entities\": {}}], \"options\": [\"Pizza\", \"Refresco\"]}]}\n",
      "{'payload': [{'content': 'hi', 'state': 'none', 'entitites': ' ', 'entities': {}}]}\n",
      " [x] Enviando...  {\"Respuesta\": [{\"content\": \"Hola\", \"next_id\": \"OpMenu\", \"blockType\": \"informativo\", \"contentType\": \"text\", \"typingTime\": \"1\", \"payload\": [{\"content\": \"\", \"state\": \"Saludo\", \"entities\": {}}]}]}\n",
      "{'payload': [{'content': 'next', 'state': 'Saludo', 'entitites': ' ', 'entities': {}}]}\n",
      "Siguiente estado... OpMenu\n",
      " [x] Enviando...  {\"Respuesta\": [{\"content\": \"\\u00bfqu\\u00e9 deseas hacer?\", \"next_id\": \"{'Ordenar': 'Ordenar', 'Poner Queja': 'Queja'}\", \"blockType\": \"quickReply\", \"contentType\": \" \", \"typingTime\": \"1\", \"payload\": [{\"content\": \"\", \"state\": \"OpMenu\", \"entities\": {}}], \"options\": [\"Ordenar\", \"Poner Queja\"]}]}\n",
      "{'payload': [{'content': 'Poner Queja', 'state': 'OpMenu', 'entitites': ' ', 'entities': {}}]}\n",
      "Siguiente estado... Queja\n",
      " [x] Enviando...  {\"Respuesta\": [{\"content\": \"Escribe tu Queja\", \"next_id\": \"Salida\", \"blockType\": \"input\", \"contentType\": \"text\", \"typingTime\": \"1\", \"payload\": [{\"content\": \"\", \"state\": \"Queja\", \"entities\": {}}], \"validacion\": \".*\", \"Default_id\": \"\", \"save_var\": \"variableQueja\"}]}\n",
      "{'payload': [{'content': 'mkxsmoxknso', 'state': 'Queja', 'entitites': ' ', 'entities': {}}]}\n",
      "Siguiente estado... Salida\n",
      "Terminando conversación...\n",
      " [x] Enviando...  {\"Respuesta\": [{\"content\": \"gracias vuelva pronto\", \"next_id\": \"Vacio\", \"blockType\": \"informativo\", \"contentType\": \"text\", \"typingTime\": \"1\", \"payload\": [{\"content\": \"\", \"state\": \"Salida\", \"entities\": {}}]}]}\n",
      "{'payload': [{'content': 'hi', 'state': 'none', 'entitites': ' ', 'entities': {}}]}\n",
      " [x] Enviando...  {\"Respuesta\": [{\"content\": \"Hola\", \"next_id\": \"OpMenu\", \"blockType\": \"informativo\", \"contentType\": \"text\", \"typingTime\": \"1\", \"payload\": [{\"content\": \"\", \"state\": \"Saludo\", \"entities\": {}}]}]}\n",
      "{'payload': [{'content': 'next', 'state': 'Saludo', 'entitites': ' ', 'entities': {}}]}\n",
      "Siguiente estado... OpMenu\n",
      " [x] Enviando...  {\"Respuesta\": [{\"content\": \"\\u00bfqu\\u00e9 deseas hacer?\", \"next_id\": \"{'Ordenar': 'Ordenar', 'Poner Queja': 'Queja'}\", \"blockType\": \"quickReply\", \"contentType\": \" \", \"typingTime\": \"1\", \"payload\": [{\"content\": \"\", \"state\": \"OpMenu\", \"entities\": {}}], \"options\": [\"Ordenar\", \"Poner Queja\"]}]}\n"
     ]
    }
   ],
   "source": [
    "connection = pika.BlockingConnection(pika.ConnectionParameters(\n",
    "        host='localhost'))\n",
    "\n",
    "channel = connection.channel()\n",
    "\n",
    "channel.queue_declare(queue='chatbotV2')\n",
    "\n",
    "def on_request(ch, method, props, body):\n",
    "    mensaje= json.loads(body)\n",
    "    print(mensaje)\n",
    "    \n",
    "    if(mensaje[\"payload\"][0][\"state\"]=='none'):\n",
    "        #print(\"Entrando al caso 1 :(\")\n",
    "        #print(mensaje)\n",
    "        n=  {\"Respuesta\": [{\"content\":\" \",\"next_id\":\" \", \"blockType\":\" \", \"contentType\":\" \",\n",
    "                         \"typingTime\":\" \",\"payload\":[]}]}\n",
    "        data_string = json.dumps(n)\n",
    "        decoded = json.loads(data_string)\n",
    "\n",
    "        decoded[\"Respuesta\"][0][\"content\"] = str(Robot[\"Saludo\"][\"content\"])\n",
    "        decoded[\"Respuesta\"][0][\"next_id\"] = str(Robot[\"Saludo\"][\"next_id\"])\n",
    "        decoded[\"Respuesta\"][0][\"blockType\"]= str(Robot[\"Saludo\"][\"blockType\"])\n",
    "        decoded[\"Respuesta\"][0][\"contentType\"]= str(Robot[\"Saludo\"][\"contentType\"])\n",
    "        decoded[\"Respuesta\"][0][\"typingTime\"]= str(Robot[\"Saludo\"][\"typingTime\"])\n",
    "        payload={\"content\":\"\",\"state\":\"Saludo\", \"entities\":{}}\n",
    "        pay=json.dumps(payload)\n",
    "        decoded[\"Respuesta\"][0][\"payload\"].append(json.loads(pay))\n",
    "        data_string = json.dumps(decoded)\n",
    "\n",
    "        print(\" [x] Enviando... \", str(data_string))\n",
    "\n",
    "        envia(ch, props, method,data_string)\n",
    "    else:\n",
    "        \n",
    "        if(Robot[mensaje[\"payload\"][0][\"state\"]][\"blockType\"]==\"informativo\"):\n",
    "            state=str(Robot[mensaje[\"payload\"][0][\"state\"]][\"next_id\"])\n",
    "            cont=confirma(ch,props, method, state)\n",
    "\n",
    "\n",
    "        elif(Robot[mensaje[\"payload\"][0][\"state\"]][\"blockType\"]==\"quickReply\"):\n",
    "            if(mensaje[\"payload\"][0][\"content\"] in Robot[mensaje[\"payload\"][0][\"state\"]][\"options\"]):\n",
    "                state=str(Robot[mensaje[\"payload\"][0][\"state\"]][\"next_id\"][mensaje[\"payload\"][0][\"content\"]])\n",
    "            else:\n",
    "                state=str(Robot[mensaje[\"payload\"][0][\"state\"]][\"Default_id\"])\n",
    "\n",
    "            cont=confirma(ch,props, method, state)\n",
    "\n",
    "        elif(Robot[mensaje[\"payload\"][0][\"state\"]][\"blockType\"]==\"input\"): \n",
    "            state=str(Robot[mensaje[\"payload\"][0][\"state\"]][\"next_id\"])\n",
    "            cont=confirma(ch,props, method, state)           \n",
    "\n",
    "\n",
    "channel.basic_qos(prefetch_count=1)\n",
    "channel.basic_consume(on_request, queue='chatbotV2')\n",
    "\n",
    "print(\" [x] Comenzando conversación...\")\n",
    "channel.start_consuming()"
   ]
  },
  {
   "cell_type": "code",
   "execution_count": null,
   "metadata": {},
   "outputs": [],
   "source": [
    "import socket\n",
    "s = socket.socket(socket.AF_INET, socket.SOCK_STREAM)\n",
    "\n",
    "s.bind((\"www.google.com\", 80))\n",
    "s.listen(5)\n",
    "conn, addr = s.accept()"
   ]
  },
  {
   "cell_type": "code",
   "execution_count": null,
   "metadata": {},
   "outputs": [],
   "source": [
    "import urllib\n",
    "CLIENT_ID= '1350_2w3ssw2c0f40swwkgs8gccscs844wsksksow8o40sw0g4g4wo0'\n",
    "CLIENT_SECRET='3a8ig9dxlm80ok4koc0w40cssgsg00ggcwkgw4oc88kgs8gcc0'\n",
    "\n",
    "urllib.request.urlopen('https://pubsbapi.smartbike.com/oauth/v2/token?client_id=1350_2w3ssw2c0f40swwkgs8gccscs844wsksksow8o40sw0g4g4wo0&client_secret=3a8ig9dxlm80ok4koc0w40cssgsg00ggcwkgw4oc88kgs8gcc0&grant_type=client_credentials').read()"
   ]
  },
  {
   "cell_type": "code",
   "execution_count": null,
   "metadata": {},
   "outputs": [],
   "source": [
    "print(urllib.request.Request('http://google.com'))"
   ]
  },
  {
   "cell_type": "code",
   "execution_count": null,
   "metadata": {},
   "outputs": [],
   "source": []
  },
  {
   "cell_type": "code",
   "execution_count": null,
   "metadata": {},
   "outputs": [],
   "source": []
  },
  {
   "cell_type": "code",
   "execution_count": null,
   "metadata": {
    "scrolled": true
   },
   "outputs": [],
   "source": []
  },
  {
   "cell_type": "code",
   "execution_count": null,
   "metadata": {},
   "outputs": [],
   "source": []
  }
 ],
 "metadata": {
  "kernelspec": {
   "display_name": "Python 3",
   "language": "python",
   "name": "python3"
  },
  "language_info": {
   "codemirror_mode": {
    "name": "ipython",
    "version": 3
   },
   "file_extension": ".py",
   "mimetype": "text/x-python",
   "name": "python",
   "nbconvert_exporter": "python",
   "pygments_lexer": "ipython3",
   "version": "3.6.4"
  }
 },
 "nbformat": 4,
 "nbformat_minor": 2
}
